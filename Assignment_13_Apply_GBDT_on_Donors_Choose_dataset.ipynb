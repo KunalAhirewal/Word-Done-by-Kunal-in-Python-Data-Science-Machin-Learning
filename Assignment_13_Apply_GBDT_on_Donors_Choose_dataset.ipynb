{
 "cells": [
  {
   "cell_type": "markdown",
   "metadata": {
    "id": "8wqapAXjsc24"
   },
   "source": [
    "# <b><font color='red'> Assignment 13 </font>- Apply GBDT on Donors Choose dataset</b>"
   ]
  },
  {
   "cell_type": "code",
   "execution_count": 2,
   "metadata": {
    "colab": {
     "base_uri": "https://localhost:8080/"
    },
    "executionInfo": {
     "elapsed": 2332,
     "status": "ok",
     "timestamp": 1604996625659,
     "user": {
      "displayName": "Kunal Ahirewal",
      "photoUrl": "https://lh3.googleusercontent.com/a-/AOh14GiWVR-0XsDZLXse6U6C4talDb59i_ZsEPknjs0H=s64",
      "userId": "17598577518826545665"
     },
     "user_tz": -330
    },
    "id": "-UL4tiL3OrRc",
    "outputId": "314dc94f-2fff-4e15-98e3-d42c5bc498a7"
   },
   "outputs": [
    {
     "name": "stdout",
     "output_type": "stream",
     "text": [
      "Drive already mounted at /content/drive; to attempt to forcibly remount, call drive.mount(\"/content/drive\", force_remount=True).\n"
     ]
    }
   ],
   "source": [
    "from google.colab import drive\n",
    "drive.mount('/content/drive')"
   ]
  },
  {
   "cell_type": "code",
   "execution_count": 3,
   "metadata": {
    "colab": {
     "base_uri": "https://localhost:8080/"
    },
    "executionInfo": {
     "elapsed": 5711,
     "status": "ok",
     "timestamp": 1604996629340,
     "user": {
      "displayName": "Kunal Ahirewal",
      "photoUrl": "https://lh3.googleusercontent.com/a-/AOh14GiWVR-0XsDZLXse6U6C4talDb59i_ZsEPknjs0H=s64",
      "userId": "17598577518826545665"
     },
     "user_tz": -330
    },
    "id": "9hsuKM-BRMaj",
    "outputId": "52c1e7d4-fedb-4768-8089-def53639d6e5"
   },
   "outputs": [
    {
     "name": "stdout",
     "output_type": "stream",
     "text": [
      "Collecting chart_studio\n",
      "\u001b[?25l  Downloading https://files.pythonhosted.org/packages/ca/ce/330794a6b6ca4b9182c38fc69dd2a9cbff60fd49421cb8648ee5fee352dc/chart_studio-1.1.0-py3-none-any.whl (64kB)\n",
      "\r",
      "\u001b[K     |█████                           | 10kB 18.5MB/s eta 0:00:01\r",
      "\u001b[K     |██████████▏                     | 20kB 2.1MB/s eta 0:00:01\r",
      "\u001b[K     |███████████████▎                | 30kB 2.6MB/s eta 0:00:01\r",
      "\u001b[K     |████████████████████▍           | 40kB 3.0MB/s eta 0:00:01\r",
      "\u001b[K     |█████████████████████████▍      | 51kB 2.5MB/s eta 0:00:01\r",
      "\u001b[K     |██████████████████████████████▌ | 61kB 2.8MB/s eta 0:00:01\r",
      "\u001b[K     |████████████████████████████████| 71kB 2.4MB/s \n",
      "\u001b[?25hRequirement already satisfied: requests in /usr/local/lib/python3.6/dist-packages (from chart_studio) (2.23.0)\n",
      "Requirement already satisfied: six in /usr/local/lib/python3.6/dist-packages (from chart_studio) (1.15.0)\n",
      "Requirement already satisfied: plotly in /usr/local/lib/python3.6/dist-packages (from chart_studio) (4.4.1)\n",
      "Requirement already satisfied: retrying>=1.3.3 in /usr/local/lib/python3.6/dist-packages (from chart_studio) (1.3.3)\n",
      "Requirement already satisfied: urllib3!=1.25.0,!=1.25.1,<1.26,>=1.21.1 in /usr/local/lib/python3.6/dist-packages (from requests->chart_studio) (1.24.3)\n",
      "Requirement already satisfied: idna<3,>=2.5 in /usr/local/lib/python3.6/dist-packages (from requests->chart_studio) (2.10)\n",
      "Requirement already satisfied: chardet<4,>=3.0.2 in /usr/local/lib/python3.6/dist-packages (from requests->chart_studio) (3.0.4)\n",
      "Requirement already satisfied: certifi>=2017.4.17 in /usr/local/lib/python3.6/dist-packages (from requests->chart_studio) (2020.6.20)\n",
      "Installing collected packages: chart-studio\n",
      "Successfully installed chart-studio-1.1.0\n"
     ]
    }
   ],
   "source": [
    "! pip install chart_studio"
   ]
  },
  {
   "cell_type": "code",
   "execution_count": 4,
   "metadata": {
    "colab": {
     "base_uri": "https://localhost:8080/",
     "height": 17,
     "output_embedded_package_id": "1Cn5VLxrkSw1E4qmlb9LmCeRkxwoa3fBY"
    },
    "executionInfo": {
     "elapsed": 11845,
     "status": "ok",
     "timestamp": 1604996635813,
     "user": {
      "displayName": "Kunal Ahirewal",
      "photoUrl": "https://lh3.googleusercontent.com/a-/AOh14GiWVR-0XsDZLXse6U6C4talDb59i_ZsEPknjs0H=s64",
      "userId": "17598577518826545665"
     },
     "user_tz": -330
    },
    "id": "SeEJdGN5RMWY",
    "outputId": "b6d09abb-a494-4b22-dccf-1603827bece5"
   },
   "outputs": [
    {
     "data": {
      "text/plain": [
       "Output hidden; open in https://colab.research.google.com to view."
      ]
     },
     "metadata": {},
     "output_type": "display_data"
    }
   ],
   "source": [
    "%matplotlib inline\n",
    "import warnings\n",
    "warnings.filterwarnings('ignore')\n",
    "\n",
    "import sqlite3\n",
    "import pandas as pd\n",
    "import numpy as np\n",
    "import nltk\n",
    "import string\n",
    "import matplotlib.pyplot as plt\n",
    "import seaborn as sns\n",
    "from sklearn.feature_extraction.text import TfidfTransformer\n",
    "from sklearn.feature_extraction.text import TfidfVectorizer\n",
    "\n",
    "from sklearn.feature_extraction.text import CountVectorizer\n",
    "from sklearn.metrics import confusion_matrix\n",
    "from sklearn import metrics\n",
    "from sklearn.metrics import roc_curve, auc\n",
    "from nltk.stem.porter import PorterStemmer\n",
    "\n",
    "import re \n",
    "import string\n",
    "from nltk.corpus import stopwords\n",
    "from nltk.stem import PorterStemmer\n",
    "from nltk.stem.wordnet import WordNetLemmatizer \n",
    "\n",
    "from gensim.models import Word2Vec\n",
    "from gensim.models import KeyedVectors\n",
    "import pickle\n",
    "\n",
    "from tqdm import tqdm\n",
    "import os\n",
    "\n",
    "from chart_studio.plotly import plotly\n",
    "import plotly.offline as offline\n",
    "import plotly.graph_objs as go\n",
    "offline.init_notebook_mode()\n",
    "import seaborn as sea\n",
    "from scipy.sparse import hstack\n",
    "from collections import Counter\n",
    "from sklearn.model_selection import train_test_split\n",
    "from sklearn.tree import DecisionTreeClassifier\n",
    "from sklearn.model_selection import GridSearchCV\n",
    "from sklearn.metrics import roc_curve, auc\n",
    "from sklearn.linear_model import LogisticRegression\n",
    "from sklearn.metrics import roc_curve, auc\n",
    "\n",
    "from prettytable import PrettyTable"
   ]
  },
  {
   "cell_type": "markdown",
   "metadata": {
    "id": "bbgFNewfUX5g"
   },
   "source": [
    "## <b><font color='red'>>> Reading Dataset</font></b>"
   ]
  },
  {
   "cell_type": "code",
   "execution_count": 5,
   "metadata": {
    "executionInfo": {
     "elapsed": 16655,
     "status": "ok",
     "timestamp": 1604996641327,
     "user": {
      "displayName": "Kunal Ahirewal",
      "photoUrl": "https://lh3.googleusercontent.com/a-/AOh14GiWVR-0XsDZLXse6U6C4talDb59i_ZsEPknjs0H=s64",
      "userId": "17598577518826545665"
     },
     "user_tz": -330
    },
    "id": "eOkE095VRMT5"
   },
   "outputs": [],
   "source": [
    "Project_Dataframe = pd.read_csv('/content/drive/My Drive/Datasets/Apply Naive Bayes on Donor Choose Dataset/train_data.csv')\n",
    "Resource_Dataframe = pd.read_csv('/content/drive/My Drive/Datasets/Apply Naive Bayes on Donor Choose Dataset/resources.csv')"
   ]
  },
  {
   "cell_type": "code",
   "execution_count": 6,
   "metadata": {
    "colab": {
     "base_uri": "https://localhost:8080/",
     "height": 763
    },
    "executionInfo": {
     "elapsed": 16312,
     "status": "ok",
     "timestamp": 1604996641330,
     "user": {
      "displayName": "Kunal Ahirewal",
      "photoUrl": "https://lh3.googleusercontent.com/a-/AOh14GiWVR-0XsDZLXse6U6C4talDb59i_ZsEPknjs0H=s64",
      "userId": "17598577518826545665"
     },
     "user_tz": -330
    },
    "id": "38DAStIDRMRx",
    "outputId": "f3267091-1d44-4e34-c1ff-b00d4d3e7b6b"
   },
   "outputs": [
    {
     "name": "stdout",
     "output_type": "stream",
     "text": [
      "Number of Tain Data Points :  (109248, 17) \n",
      "\n",
      "- -- -- -- -- -- -- -- -- -- -- -- -- -- -- -- -- -- -- -- -- -- -- -- -- -- -- -- -- -- -- -- -- -- -- -- -- -- -- -- -- -- -- -- -- -- -- -- -- -- - \n",
      "\n",
      "Columns in Project Dataframe : \n",
      "\n",
      " ['Unnamed: 0' 'id' 'teacher_id' 'teacher_prefix' 'school_state'\n",
      " 'project_submitted_datetime' 'project_grade_category'\n",
      " 'project_subject_categories' 'project_subject_subcategories'\n",
      " 'project_title' 'project_essay_1' 'project_essay_2' 'project_essay_3'\n",
      " 'project_essay_4' 'project_resource_summary'\n",
      " 'teacher_number_of_previously_posted_projects' 'project_is_approved'] \n",
      "\n",
      "- -- -- -- -- -- -- -- -- -- -- -- -- -- -- -- -- -- -- -- -- -- -- -- -- -- -- -- -- -- -- -- -- -- -- -- -- -- -- -- -- -- -- -- -- -- -- -- -- -- - \n",
      "\n"
     ]
    },
    {
     "data": {
      "text/html": [
       "<div>\n",
       "<style scoped>\n",
       "    .dataframe tbody tr th:only-of-type {\n",
       "        vertical-align: middle;\n",
       "    }\n",
       "\n",
       "    .dataframe tbody tr th {\n",
       "        vertical-align: top;\n",
       "    }\n",
       "\n",
       "    .dataframe thead th {\n",
       "        text-align: right;\n",
       "    }\n",
       "</style>\n",
       "<table border=\"1\" class=\"dataframe\">\n",
       "  <thead>\n",
       "    <tr style=\"text-align: right;\">\n",
       "      <th></th>\n",
       "      <th>Unnamed: 0</th>\n",
       "      <th>id</th>\n",
       "      <th>teacher_id</th>\n",
       "      <th>teacher_prefix</th>\n",
       "      <th>school_state</th>\n",
       "      <th>project_submitted_datetime</th>\n",
       "      <th>project_grade_category</th>\n",
       "      <th>project_subject_categories</th>\n",
       "      <th>project_subject_subcategories</th>\n",
       "      <th>project_title</th>\n",
       "      <th>project_essay_1</th>\n",
       "      <th>project_essay_2</th>\n",
       "      <th>project_essay_3</th>\n",
       "      <th>project_essay_4</th>\n",
       "      <th>project_resource_summary</th>\n",
       "      <th>teacher_number_of_previously_posted_projects</th>\n",
       "      <th>project_is_approved</th>\n",
       "    </tr>\n",
       "  </thead>\n",
       "  <tbody>\n",
       "    <tr>\n",
       "      <th>0</th>\n",
       "      <td>160221</td>\n",
       "      <td>p253737</td>\n",
       "      <td>c90749f5d961ff158d4b4d1e7dc665fc</td>\n",
       "      <td>Mrs.</td>\n",
       "      <td>IN</td>\n",
       "      <td>2016-12-05 13:43:57</td>\n",
       "      <td>Grades PreK-2</td>\n",
       "      <td>Literacy &amp; Language</td>\n",
       "      <td>ESL, Literacy</td>\n",
       "      <td>Educational Support for English Learners at Home</td>\n",
       "      <td>My students are English learners that are work...</td>\n",
       "      <td>\\\"The limits of your language are the limits o...</td>\n",
       "      <td>NaN</td>\n",
       "      <td>NaN</td>\n",
       "      <td>My students need opportunities to practice beg...</td>\n",
       "      <td>0</td>\n",
       "      <td>0</td>\n",
       "    </tr>\n",
       "    <tr>\n",
       "      <th>1</th>\n",
       "      <td>140945</td>\n",
       "      <td>p258326</td>\n",
       "      <td>897464ce9ddc600bced1151f324dd63a</td>\n",
       "      <td>Mr.</td>\n",
       "      <td>FL</td>\n",
       "      <td>2016-10-25 09:22:10</td>\n",
       "      <td>Grades 6-8</td>\n",
       "      <td>History &amp; Civics, Health &amp; Sports</td>\n",
       "      <td>Civics &amp; Government, Team Sports</td>\n",
       "      <td>Wanted: Projector for Hungry Learners</td>\n",
       "      <td>Our students arrive to our school eager to lea...</td>\n",
       "      <td>The projector we need for our school is very c...</td>\n",
       "      <td>NaN</td>\n",
       "      <td>NaN</td>\n",
       "      <td>My students need a projector to help with view...</td>\n",
       "      <td>7</td>\n",
       "      <td>1</td>\n",
       "    </tr>\n",
       "    <tr>\n",
       "      <th>2</th>\n",
       "      <td>21895</td>\n",
       "      <td>p182444</td>\n",
       "      <td>3465aaf82da834c0582ebd0ef8040ca0</td>\n",
       "      <td>Ms.</td>\n",
       "      <td>AZ</td>\n",
       "      <td>2016-08-31 12:03:56</td>\n",
       "      <td>Grades 6-8</td>\n",
       "      <td>Health &amp; Sports</td>\n",
       "      <td>Health &amp; Wellness, Team Sports</td>\n",
       "      <td>Soccer Equipment for AWESOME Middle School Stu...</td>\n",
       "      <td>\\r\\n\\\"True champions aren't always the ones th...</td>\n",
       "      <td>The students on the campus come to school know...</td>\n",
       "      <td>NaN</td>\n",
       "      <td>NaN</td>\n",
       "      <td>My students need shine guards, athletic socks,...</td>\n",
       "      <td>1</td>\n",
       "      <td>0</td>\n",
       "    </tr>\n",
       "    <tr>\n",
       "      <th>3</th>\n",
       "      <td>45</td>\n",
       "      <td>p246581</td>\n",
       "      <td>f3cb9bffbba169bef1a77b243e620b60</td>\n",
       "      <td>Mrs.</td>\n",
       "      <td>KY</td>\n",
       "      <td>2016-10-06 21:16:17</td>\n",
       "      <td>Grades PreK-2</td>\n",
       "      <td>Literacy &amp; Language, Math &amp; Science</td>\n",
       "      <td>Literacy, Mathematics</td>\n",
       "      <td>Techie Kindergarteners</td>\n",
       "      <td>I work at a unique school filled with both ESL...</td>\n",
       "      <td>My students live in high poverty conditions wi...</td>\n",
       "      <td>NaN</td>\n",
       "      <td>NaN</td>\n",
       "      <td>My students need to engage in Reading and Math...</td>\n",
       "      <td>4</td>\n",
       "      <td>1</td>\n",
       "    </tr>\n",
       "    <tr>\n",
       "      <th>4</th>\n",
       "      <td>172407</td>\n",
       "      <td>p104768</td>\n",
       "      <td>be1f7507a41f8479dc06f047086a39ec</td>\n",
       "      <td>Mrs.</td>\n",
       "      <td>TX</td>\n",
       "      <td>2016-07-11 01:10:09</td>\n",
       "      <td>Grades PreK-2</td>\n",
       "      <td>Math &amp; Science</td>\n",
       "      <td>Mathematics</td>\n",
       "      <td>Interactive Math Tools</td>\n",
       "      <td>Our second grade classroom next year will be m...</td>\n",
       "      <td>For many students, math is a subject that does...</td>\n",
       "      <td>NaN</td>\n",
       "      <td>NaN</td>\n",
       "      <td>My students need hands on practice in mathemat...</td>\n",
       "      <td>1</td>\n",
       "      <td>1</td>\n",
       "    </tr>\n",
       "  </tbody>\n",
       "</table>\n",
       "</div>"
      ],
      "text/plain": [
       "   Unnamed: 0  ... project_is_approved\n",
       "0      160221  ...                   0\n",
       "1      140945  ...                   1\n",
       "2       21895  ...                   0\n",
       "3          45  ...                   1\n",
       "4      172407  ...                   1\n",
       "\n",
       "[5 rows x 17 columns]"
      ]
     },
     "execution_count": 6,
     "metadata": {
      "tags": []
     },
     "output_type": "execute_result"
    }
   ],
   "source": [
    "print('Number of Tain Data Points : ', Project_Dataframe.shape, '\\n')\n",
    "print('- -'*50, '\\n')\n",
    "print('Columns in Project Dataframe : \\n\\n', Project_Dataframe.columns.values, '\\n')\n",
    "print('- -'*50, '\\n')\n",
    "Project_Dataframe.head(5)"
   ]
  },
  {
   "cell_type": "code",
   "execution_count": 7,
   "metadata": {
    "colab": {
     "base_uri": "https://localhost:8080/",
     "height": 246
    },
    "executionInfo": {
     "elapsed": 15809,
     "status": "ok",
     "timestamp": 1604996641334,
     "user": {
      "displayName": "Kunal Ahirewal",
      "photoUrl": "https://lh3.googleusercontent.com/a-/AOh14GiWVR-0XsDZLXse6U6C4talDb59i_ZsEPknjs0H=s64",
      "userId": "17598577518826545665"
     },
     "user_tz": -330
    },
    "id": "GfONIXXdRMPt",
    "outputId": "e2a8ffda-2d01-4213-b806-ea5dd9c73b45"
   },
   "outputs": [
    {
     "data": {
      "text/html": [
       "<div>\n",
       "<style scoped>\n",
       "    .dataframe tbody tr th:only-of-type {\n",
       "        vertical-align: middle;\n",
       "    }\n",
       "\n",
       "    .dataframe tbody tr th {\n",
       "        vertical-align: top;\n",
       "    }\n",
       "\n",
       "    .dataframe thead th {\n",
       "        text-align: right;\n",
       "    }\n",
       "</style>\n",
       "<table border=\"1\" class=\"dataframe\">\n",
       "  <thead>\n",
       "    <tr style=\"text-align: right;\">\n",
       "      <th></th>\n",
       "      <th>Unnamed: 0</th>\n",
       "      <th>id</th>\n",
       "      <th>teacher_id</th>\n",
       "      <th>teacher_prefix</th>\n",
       "      <th>school_state</th>\n",
       "      <th>Date</th>\n",
       "      <th>project_grade_category</th>\n",
       "      <th>project_subject_categories</th>\n",
       "      <th>project_subject_subcategories</th>\n",
       "      <th>project_title</th>\n",
       "      <th>project_essay_1</th>\n",
       "      <th>project_essay_2</th>\n",
       "      <th>project_essay_3</th>\n",
       "      <th>project_essay_4</th>\n",
       "      <th>project_resource_summary</th>\n",
       "      <th>teacher_number_of_previously_posted_projects</th>\n",
       "      <th>project_is_approved</th>\n",
       "    </tr>\n",
       "  </thead>\n",
       "  <tbody>\n",
       "    <tr>\n",
       "      <th>55660</th>\n",
       "      <td>8393</td>\n",
       "      <td>p205479</td>\n",
       "      <td>2bf07ba08945e5d8b2a3f269b2b3cfe5</td>\n",
       "      <td>Mrs.</td>\n",
       "      <td>CA</td>\n",
       "      <td>2016-04-27 00:27:36</td>\n",
       "      <td>Grades PreK-2</td>\n",
       "      <td>Math &amp; Science</td>\n",
       "      <td>Applied Sciences, Health &amp; Life Science</td>\n",
       "      <td>Engineering STEAM into the Primary Classroom</td>\n",
       "      <td>I have been fortunate enough to use the Fairy ...</td>\n",
       "      <td>My students come from a variety of backgrounds...</td>\n",
       "      <td>Each month I try to do several science or STEM...</td>\n",
       "      <td>It is challenging to develop high quality scie...</td>\n",
       "      <td>My students need STEM kits to learn critical s...</td>\n",
       "      <td>53</td>\n",
       "      <td>1</td>\n",
       "    </tr>\n",
       "    <tr>\n",
       "      <th>76127</th>\n",
       "      <td>37728</td>\n",
       "      <td>p043609</td>\n",
       "      <td>3f60494c61921b3b43ab61bdde2904df</td>\n",
       "      <td>Ms.</td>\n",
       "      <td>UT</td>\n",
       "      <td>2016-04-27 00:31:25</td>\n",
       "      <td>Grades 3-5</td>\n",
       "      <td>Special Needs</td>\n",
       "      <td>Special Needs</td>\n",
       "      <td>Sensory Tools for Focus</td>\n",
       "      <td>Imagine being 8-9 years old. You're in your th...</td>\n",
       "      <td>Most of my students have autism, anxiety, anot...</td>\n",
       "      <td>It is tough to do more than one thing at a tim...</td>\n",
       "      <td>When my students are able to calm themselves d...</td>\n",
       "      <td>My students need Boogie Boards for quiet senso...</td>\n",
       "      <td>4</td>\n",
       "      <td>1</td>\n",
       "    </tr>\n",
       "  </tbody>\n",
       "</table>\n",
       "</div>"
      ],
      "text/plain": [
       "       Unnamed: 0  ... project_is_approved\n",
       "55660        8393  ...                   1\n",
       "76127       37728  ...                   1\n",
       "\n",
       "[2 rows x 17 columns]"
      ]
     },
     "execution_count": 7,
     "metadata": {
      "tags": []
     },
     "output_type": "execute_result"
    }
   ],
   "source": [
    "# https://stackoverflow.com/a/2582163/4084039\n",
    "# https://stackoverflow.com/a/49702492/4084039\n",
    "# https://stackoverflow.com/a/13148611/4084039\n",
    "\n",
    "cols = ['Date' if x=='project_submitted_datetime' else x for x in list(Project_Dataframe.columns)]\n",
    "Project_Dataframe['Date'] = pd.to_datetime(Project_Dataframe['project_submitted_datetime'])\n",
    "Project_Dataframe.drop('project_submitted_datetime', axis = 1, inplace = True)\n",
    "Project_Dataframe.sort_values(by = ['Date'], inplace = True)\n",
    "Project_Dataframe = Project_Dataframe[cols]\n",
    "Project_Dataframe.head(2)"
   ]
  },
  {
   "cell_type": "code",
   "execution_count": 8,
   "metadata": {
    "colab": {
     "base_uri": "https://localhost:8080/",
     "height": 488
    },
    "executionInfo": {
     "elapsed": 16927,
     "status": "ok",
     "timestamp": 1604996659763,
     "user": {
      "displayName": "Kunal Ahirewal",
      "photoUrl": "https://lh3.googleusercontent.com/a-/AOh14GiWVR-0XsDZLXse6U6C4talDb59i_ZsEPknjs0H=s64",
      "userId": "17598577518826545665"
     },
     "user_tz": -330
    },
    "id": "fKb6k2iVE_lG",
    "outputId": "74bb8ada-4d8a-4430-c8c2-47042662de6f"
   },
   "outputs": [
    {
     "data": {
      "text/html": [
       "<div>\n",
       "<style scoped>\n",
       "    .dataframe tbody tr th:only-of-type {\n",
       "        vertical-align: middle;\n",
       "    }\n",
       "\n",
       "    .dataframe tbody tr th {\n",
       "        vertical-align: top;\n",
       "    }\n",
       "\n",
       "    .dataframe thead th {\n",
       "        text-align: right;\n",
       "    }\n",
       "</style>\n",
       "<table border=\"1\" class=\"dataframe\">\n",
       "  <thead>\n",
       "    <tr style=\"text-align: right;\">\n",
       "      <th></th>\n",
       "      <th>Unnamed: 0</th>\n",
       "      <th>id</th>\n",
       "      <th>teacher_id</th>\n",
       "      <th>teacher_prefix</th>\n",
       "      <th>school_state</th>\n",
       "      <th>Date</th>\n",
       "      <th>project_grade_category</th>\n",
       "      <th>project_subject_categories</th>\n",
       "      <th>project_subject_subcategories</th>\n",
       "      <th>project_title</th>\n",
       "      <th>project_essay_1</th>\n",
       "      <th>project_essay_2</th>\n",
       "      <th>project_essay_3</th>\n",
       "      <th>project_essay_4</th>\n",
       "      <th>project_resource_summary</th>\n",
       "      <th>teacher_number_of_previously_posted_projects</th>\n",
       "      <th>project_is_approved</th>\n",
       "      <th>quantity</th>\n",
       "      <th>price</th>\n",
       "    </tr>\n",
       "  </thead>\n",
       "  <tbody>\n",
       "    <tr>\n",
       "      <th>0</th>\n",
       "      <td>8393</td>\n",
       "      <td>p205479</td>\n",
       "      <td>2bf07ba08945e5d8b2a3f269b2b3cfe5</td>\n",
       "      <td>Mrs.</td>\n",
       "      <td>CA</td>\n",
       "      <td>2016-04-27 00:27:36</td>\n",
       "      <td>Grades PreK-2</td>\n",
       "      <td>Math &amp; Science</td>\n",
       "      <td>Applied Sciences, Health &amp; Life Science</td>\n",
       "      <td>Engineering STEAM into the Primary Classroom</td>\n",
       "      <td>I have been fortunate enough to use the Fairy ...</td>\n",
       "      <td>My students come from a variety of backgrounds...</td>\n",
       "      <td>Each month I try to do several science or STEM...</td>\n",
       "      <td>It is challenging to develop high quality scie...</td>\n",
       "      <td>My students need STEM kits to learn critical s...</td>\n",
       "      <td>53</td>\n",
       "      <td>1</td>\n",
       "      <td>4</td>\n",
       "      <td>725.05</td>\n",
       "    </tr>\n",
       "    <tr>\n",
       "      <th>1</th>\n",
       "      <td>37728</td>\n",
       "      <td>p043609</td>\n",
       "      <td>3f60494c61921b3b43ab61bdde2904df</td>\n",
       "      <td>Ms.</td>\n",
       "      <td>UT</td>\n",
       "      <td>2016-04-27 00:31:25</td>\n",
       "      <td>Grades 3-5</td>\n",
       "      <td>Special Needs</td>\n",
       "      <td>Special Needs</td>\n",
       "      <td>Sensory Tools for Focus</td>\n",
       "      <td>Imagine being 8-9 years old. You're in your th...</td>\n",
       "      <td>Most of my students have autism, anxiety, anot...</td>\n",
       "      <td>It is tough to do more than one thing at a tim...</td>\n",
       "      <td>When my students are able to calm themselves d...</td>\n",
       "      <td>My students need Boogie Boards for quiet senso...</td>\n",
       "      <td>4</td>\n",
       "      <td>1</td>\n",
       "      <td>8</td>\n",
       "      <td>213.03</td>\n",
       "    </tr>\n",
       "    <tr>\n",
       "      <th>2</th>\n",
       "      <td>74477</td>\n",
       "      <td>p189804</td>\n",
       "      <td>4a97f3a390bfe21b99cf5e2b81981c73</td>\n",
       "      <td>Mrs.</td>\n",
       "      <td>CA</td>\n",
       "      <td>2016-04-27 00:46:53</td>\n",
       "      <td>Grades PreK-2</td>\n",
       "      <td>Literacy &amp; Language</td>\n",
       "      <td>Literacy</td>\n",
       "      <td>Mobile Learning with a Mobile Listening Center</td>\n",
       "      <td>Having a class of 24 students comes with diver...</td>\n",
       "      <td>I have a class of twenty-four kindergarten stu...</td>\n",
       "      <td>By having a mobile listening and storage cente...</td>\n",
       "      <td>A mobile listening center will help keep equip...</td>\n",
       "      <td>My students need a mobile listening center to ...</td>\n",
       "      <td>10</td>\n",
       "      <td>1</td>\n",
       "      <td>1</td>\n",
       "      <td>329.00</td>\n",
       "    </tr>\n",
       "    <tr>\n",
       "      <th>3</th>\n",
       "      <td>100660</td>\n",
       "      <td>p234804</td>\n",
       "      <td>cbc0e38f522143b86d372f8b43d4cff3</td>\n",
       "      <td>Mrs.</td>\n",
       "      <td>GA</td>\n",
       "      <td>2016-04-27 00:53:00</td>\n",
       "      <td>Grades PreK-2</td>\n",
       "      <td>Applied Learning</td>\n",
       "      <td>Early Development</td>\n",
       "      <td>Flexible Seating for Flexible Learning</td>\n",
       "      <td>I recently read an article about giving studen...</td>\n",
       "      <td>I teach at a low-income (Title 1) school. Ever...</td>\n",
       "      <td>We need a classroom rug that we can use as a c...</td>\n",
       "      <td>Benjamin Franklin once said, \\\"Tell me and I f...</td>\n",
       "      <td>My students need flexible seating in the class...</td>\n",
       "      <td>2</td>\n",
       "      <td>1</td>\n",
       "      <td>9</td>\n",
       "      <td>481.04</td>\n",
       "    </tr>\n",
       "    <tr>\n",
       "      <th>4</th>\n",
       "      <td>33679</td>\n",
       "      <td>p137682</td>\n",
       "      <td>06f6e62e17de34fcf81020c77549e1d5</td>\n",
       "      <td>Mrs.</td>\n",
       "      <td>WA</td>\n",
       "      <td>2016-04-27 01:05:25</td>\n",
       "      <td>Grades 3-5</td>\n",
       "      <td>Literacy &amp; Language</td>\n",
       "      <td>Literacy</td>\n",
       "      <td>Going Deep: The Art of Inner Thinking!</td>\n",
       "      <td>My students crave challenge, they eat obstacle...</td>\n",
       "      <td>We are an urban, public k-5 elementary school....</td>\n",
       "      <td>With the new common core standards that have b...</td>\n",
       "      <td>These remarkable gifts will provide students w...</td>\n",
       "      <td>My students need copies of the New York Times ...</td>\n",
       "      <td>2</td>\n",
       "      <td>1</td>\n",
       "      <td>14</td>\n",
       "      <td>17.74</td>\n",
       "    </tr>\n",
       "  </tbody>\n",
       "</table>\n",
       "</div>"
      ],
      "text/plain": [
       "   Unnamed: 0       id  ... quantity   price\n",
       "0        8393  p205479  ...        4  725.05\n",
       "1       37728  p043609  ...        8  213.03\n",
       "2       74477  p189804  ...        1  329.00\n",
       "3      100660  p234804  ...        9  481.04\n",
       "4       33679  p137682  ...       14   17.74\n",
       "\n",
       "[5 rows x 19 columns]"
      ]
     },
     "execution_count": 8,
     "metadata": {
      "tags": []
     },
     "output_type": "execute_result"
    }
   ],
   "source": [
    "# https://stackoverflow.com/questions/22407798/how-to-reset-a-dataframes-indexes-for-all-groups-in-one-step\n",
    "\n",
    "Price_data = Resource_Dataframe.groupby('id').agg({'quantity':'sum', 'price':'sum'}).reset_index()\n",
    "Project_Dataframe = pd.merge(Project_Dataframe, Price_data, on = 'id', how = 'left')\n",
    "Project_Dataframe.head(5)"
   ]
  },
  {
   "cell_type": "code",
   "execution_count": 9,
   "metadata": {
    "colab": {
     "base_uri": "https://localhost:8080/",
     "height": 365
    },
    "executionInfo": {
     "elapsed": 16470,
     "status": "ok",
     "timestamp": 1604996659769,
     "user": {
      "displayName": "Kunal Ahirewal",
      "photoUrl": "https://lh3.googleusercontent.com/a-/AOh14GiWVR-0XsDZLXse6U6C4talDb59i_ZsEPknjs0H=s64",
      "userId": "17598577518826545665"
     },
     "user_tz": -330
    },
    "id": "Dl-IKWP0WIuQ",
    "outputId": "feff0ddd-a8b2-44b7-b63a-7ae74f85c677"
   },
   "outputs": [
    {
     "name": "stdout",
     "output_type": "stream",
     "text": [
      "Number of Tain Data Points :  (1541272, 4) \n",
      "\n",
      "- -- -- -- -- -- -- -- -- -- -- -- -- -- -- -- -- -- -- -- -- -- -- -- -- -- -- -- -- -- -- -- -- -- -- -- -- -- -- -- -- -- -- -- -- -- -- -- -- -- - \n",
      "\n",
      "Columns in Project Dataframe : \n",
      "\n",
      " ['id' 'description' 'quantity' 'price'] \n",
      "\n",
      "- -- -- -- -- -- -- -- -- -- -- -- -- -- -- -- -- -- -- -- -- -- -- -- -- -- -- -- -- -- -- -- -- -- -- -- -- -- -- -- -- -- -- -- -- -- -- -- -- -- - \n",
      "\n"
     ]
    },
    {
     "data": {
      "text/html": [
       "<div>\n",
       "<style scoped>\n",
       "    .dataframe tbody tr th:only-of-type {\n",
       "        vertical-align: middle;\n",
       "    }\n",
       "\n",
       "    .dataframe tbody tr th {\n",
       "        vertical-align: top;\n",
       "    }\n",
       "\n",
       "    .dataframe thead th {\n",
       "        text-align: right;\n",
       "    }\n",
       "</style>\n",
       "<table border=\"1\" class=\"dataframe\">\n",
       "  <thead>\n",
       "    <tr style=\"text-align: right;\">\n",
       "      <th></th>\n",
       "      <th>id</th>\n",
       "      <th>description</th>\n",
       "      <th>quantity</th>\n",
       "      <th>price</th>\n",
       "    </tr>\n",
       "  </thead>\n",
       "  <tbody>\n",
       "    <tr>\n",
       "      <th>0</th>\n",
       "      <td>p233245</td>\n",
       "      <td>LC652 - Lakeshore Double-Space Mobile Drying Rack</td>\n",
       "      <td>1</td>\n",
       "      <td>149.00</td>\n",
       "    </tr>\n",
       "    <tr>\n",
       "      <th>1</th>\n",
       "      <td>p069063</td>\n",
       "      <td>Bouncy Bands for Desks (Blue support pipes)</td>\n",
       "      <td>3</td>\n",
       "      <td>14.95</td>\n",
       "    </tr>\n",
       "    <tr>\n",
       "      <th>2</th>\n",
       "      <td>p069063</td>\n",
       "      <td>Cory Stories: A Kid's Book About Living With Adhd</td>\n",
       "      <td>1</td>\n",
       "      <td>8.45</td>\n",
       "    </tr>\n",
       "    <tr>\n",
       "      <th>3</th>\n",
       "      <td>p069063</td>\n",
       "      <td>Dixon Ticonderoga Wood-Cased #2 HB Pencils, Bo...</td>\n",
       "      <td>2</td>\n",
       "      <td>13.59</td>\n",
       "    </tr>\n",
       "    <tr>\n",
       "      <th>4</th>\n",
       "      <td>p069063</td>\n",
       "      <td>EDUCATIONAL INSIGHTS FLUORESCENT LIGHT FILTERS...</td>\n",
       "      <td>3</td>\n",
       "      <td>24.95</td>\n",
       "    </tr>\n",
       "  </tbody>\n",
       "</table>\n",
       "</div>"
      ],
      "text/plain": [
       "        id                                        description  quantity   price\n",
       "0  p233245  LC652 - Lakeshore Double-Space Mobile Drying Rack         1  149.00\n",
       "1  p069063        Bouncy Bands for Desks (Blue support pipes)         3   14.95\n",
       "2  p069063  Cory Stories: A Kid's Book About Living With Adhd         1    8.45\n",
       "3  p069063  Dixon Ticonderoga Wood-Cased #2 HB Pencils, Bo...         2   13.59\n",
       "4  p069063  EDUCATIONAL INSIGHTS FLUORESCENT LIGHT FILTERS...         3   24.95"
      ]
     },
     "execution_count": 9,
     "metadata": {
      "tags": []
     },
     "output_type": "execute_result"
    }
   ],
   "source": [
    "print('Number of Tain Data Points : ', Resource_Dataframe.shape, '\\n')\n",
    "print('- -'*50, '\\n')\n",
    "print('Columns in Project Dataframe : \\n\\n', Resource_Dataframe.columns.values, '\\n')\n",
    "print('- -'*50, '\\n')\n",
    "Resource_Dataframe.head(5)"
   ]
  },
  {
   "cell_type": "markdown",
   "metadata": {
    "id": "v1HpUFAIWtPS"
   },
   "source": [
    "## <font color='blue'> >> Preprocessing of 'project_subject_categories' </font>"
   ]
  },
  {
   "cell_type": "code",
   "execution_count": 10,
   "metadata": {
    "executionInfo": {
     "elapsed": 5295,
     "status": "ok",
     "timestamp": 1604996666388,
     "user": {
      "displayName": "Kunal Ahirewal",
      "photoUrl": "https://lh3.googleusercontent.com/a-/AOh14GiWVR-0XsDZLXse6U6C4talDb59i_ZsEPknjs0H=s64",
      "userId": "17598577518826545665"
     },
     "user_tz": -330
    },
    "id": "7-vIYGcSRMMo"
   },
   "outputs": [],
   "source": [
    "# https://stackoverflow.com/a/47301924/4084039\n",
    "# https://www.geeksforgeeks.org/removing-stop-words-nltk-python/\n",
    "# https://stackoverflow.com/questions/23669024/how-to-strip-a-specific-word-from-a-string\n",
    "# https://stackoverflow.com/questions/8270092/remove-all-whitespace-in-a-string-in-python\n",
    "\n",
    "Catogories = list(Project_Dataframe['project_subject_categories'].values)\n",
    "\n",
    "cat_list = []\n",
    "for i in Catogories:\n",
    "    temp = \"\"\n",
    "    for j in i.split(','): \n",
    "        if 'The' in j.split(): \n",
    "            j=j.replace('The','') \n",
    "        j = j.replace(' ','') \n",
    "        temp+=j.strip()+\" \" \n",
    "        temp = temp.replace('&','_')  \n",
    "    cat_list.append(temp.strip())\n",
    "    \n",
    "Project_Dataframe['clean_categories'] = cat_list\n",
    "Project_Dataframe.drop(['project_subject_categories'], axis=1, inplace=True)\n",
    "\n",
    "from collections import Counter\n",
    "my_counter = Counter()\n",
    "for word in Project_Dataframe['clean_categories'].values:\n",
    "    my_counter.update(word.split())\n",
    "\n",
    "cat_dict = dict(my_counter)\n",
    "sorted_cat_dict = dict(sorted(cat_dict.items(), key=lambda kv: kv[1]))"
   ]
  },
  {
   "cell_type": "markdown",
   "metadata": {
    "id": "ARGfppQuW69F"
   },
   "source": [
    "## <font color='blue'>>> Preprocessing of 'project_subject_subcategories' </font>"
   ]
  },
  {
   "cell_type": "code",
   "execution_count": 11,
   "metadata": {
    "executionInfo": {
     "elapsed": 4468,
     "status": "ok",
     "timestamp": 1604996667253,
     "user": {
      "displayName": "Kunal Ahirewal",
      "photoUrl": "https://lh3.googleusercontent.com/a-/AOh14GiWVR-0XsDZLXse6U6C4talDb59i_ZsEPknjs0H=s64",
      "userId": "17598577518826545665"
     },
     "user_tz": -330
    },
    "id": "Iwij46IERMLK"
   },
   "outputs": [],
   "source": [
    "# https://stackoverflow.com/a/47301924/4084039\n",
    "# https://www.geeksforgeeks.org/removing-stop-words-nltk-python/\n",
    "# https://stackoverflow.com/questions/23669024/how-to-strip-a-specific-word-from-a-string\n",
    "# https://stackoverflow.com/questions/8270092/remove-all-whitespace-in-a-string-in-python\n",
    "\n",
    "sub_Catogories = list(Project_Dataframe['project_subject_subcategories'].values)\n",
    "\n",
    "sub_cat_list = []\n",
    "for i in sub_Catogories:\n",
    "    temp = \"\"\n",
    "    for j in i.split(','): \n",
    "        if 'The' in j.split(): \n",
    "            j = j.replace('The','')\n",
    "        j = j.replace(' ','')\n",
    "        temp +=j.strip()+\" \"\n",
    "        temp = temp.replace('&','_')\n",
    "    sub_cat_list.append(temp.strip())\n",
    "\n",
    "Project_Dataframe['clean_subcategories'] = sub_cat_list\n",
    "Project_Dataframe.drop(['project_subject_subcategories'], axis=1, inplace=True)\n",
    "\n",
    "# https://stackoverflow.com/a/22898595/4084039\n",
    "\n",
    "my_counter = Counter()\n",
    "for word in Project_Dataframe['clean_subcategories'].values:\n",
    "    my_counter.update(word.split())\n",
    "    \n",
    "sub_cat_dict = dict(my_counter)\n",
    "sorted_sub_cat_dict = dict(sorted(sub_cat_dict.items(), key=lambda kv: kv[1]))"
   ]
  },
  {
   "cell_type": "markdown",
   "metadata": {
    "id": "B8H-Qv7aXEvc"
   },
   "source": [
    "## <font color='blue'>>> Text preprocessing</font>"
   ]
  },
  {
   "cell_type": "code",
   "execution_count": 12,
   "metadata": {
    "executionInfo": {
     "elapsed": 3822,
     "status": "ok",
     "timestamp": 1604996667970,
     "user": {
      "displayName": "Kunal Ahirewal",
      "photoUrl": "https://lh3.googleusercontent.com/a-/AOh14GiWVR-0XsDZLXse6U6C4talDb59i_ZsEPknjs0H=s64",
      "userId": "17598577518826545665"
     },
     "user_tz": -330
    },
    "id": "1x8ixIYRRMJ2"
   },
   "outputs": [],
   "source": [
    "# Merge Two Column Text Dataframe: \n",
    "\n",
    "Project_Dataframe['essay'] = Project_Dataframe['project_essay_1'].map(str) +\\\n",
    "                        Project_Dataframe['project_essay_2'].map(str) + \\\n",
    "                        Project_Dataframe['project_essay_3'].map(str) + \\\n",
    "                        Project_Dataframe['project_essay_4'].map(str)"
   ]
  },
  {
   "cell_type": "code",
   "execution_count": 13,
   "metadata": {
    "colab": {
     "base_uri": "https://localhost:8080/"
    },
    "executionInfo": {
     "elapsed": 3980,
     "status": "ok",
     "timestamp": 1604996696200,
     "user": {
      "displayName": "Kunal Ahirewal",
      "photoUrl": "https://lh3.googleusercontent.com/a-/AOh14GiWVR-0XsDZLXse6U6C4talDb59i_ZsEPknjs0H=s64",
      "userId": "17598577518826545665"
     },
     "user_tz": -330
    },
    "id": "CVGhmCg7RMIi",
    "outputId": "73f68a1a-d92d-48fd-fed3-50c8e7a1809a"
   },
   "outputs": [
    {
     "name": "stdout",
     "output_type": "stream",
     "text": [
      "\\\"When we fill our thoughts with right things, the wrong ones have no room to enter.\\\" -Joyce Meyer \\r\\n\\r\\nMy students come from many different backgrounds. I teach ESL students within my middle school classroom representing over 10 different countries. Besides teaching Engkish to speakers of other languages I am also responsible for their Language Arts curriculum.\\r\\n\\r\\nI am hoping this will encourage them to focus on their success and achievement and to be excited about their learning and bring some fun into note taking!These materials of supplemental books and supplies will help my students find even greater meaning in their Springboard curriculum.  While the curriculum itself provides many excerpts in each unit, having supplemental books to read and explore that correlate with each topic will really help to push my students further.  Other supplies ordered will help to provide center and writing activities to help bring greater meaning to unit topics like \\\"Changes in me\\\", \\\"The Choices we Make\\\", \\\"Challengea of Heroism\\\" and \\\"challenges facing the Holocaust\\\". Having materials to help students delve deeper into these themes will truly make a difference in their understanding and success.nannan\n",
      "- -- -- -- -- -- -- -- -- -- -- -- -- -- -- -- -- -- -- -- -- -- -- -- -- -- -- -- -- -- -- -- -- -- -- -- -- -- -- -- -- -- -- -- -- -- -- -- -- -- -- -- -- -- -- -- -- -- -- -- -- -- -- -- -- -- -- -- -- -- -\n"
     ]
    }
   ],
   "source": [
    "# Print some Random Reviews\n",
    "\n",
    "\"\"\"print(Project_Dataframe['essay'].values[0])\n",
    "print(\"- -\"*70)\n",
    "print(Project_Dataframe['essay'].values[150])\n",
    "print(\"- -\"*70)\n",
    "print(Project_Dataframe['essay'].values[1050])\n",
    "print(\"- -\"*70)\"\"\"\n",
    "print(Project_Dataframe['essay'].values[20150])\n",
    "print(\"- -\"*70)\n",
    "# print(Project_Dataframe['essay'].values[99999])\n",
    "# print(\"- -\"*70)"
   ]
  },
  {
   "cell_type": "code",
   "execution_count": 14,
   "metadata": {
    "executionInfo": {
     "elapsed": 4940,
     "status": "ok",
     "timestamp": 1604996704223,
     "user": {
      "displayName": "Kunal Ahirewal",
      "photoUrl": "https://lh3.googleusercontent.com/a-/AOh14GiWVR-0XsDZLXse6U6C4talDb59i_ZsEPknjs0H=s64",
      "userId": "17598577518826545665"
     },
     "user_tz": -330
    },
    "id": "xb_mNsL0RMFC"
   },
   "outputs": [],
   "source": [
    "# https://stackoverflow.com/a/47091490/4084039\n",
    "\n",
    "import re\n",
    "\n",
    "def Decontracted(phrase):\n",
    "    phrase = re.sub(r\"won't\", \"will not\", phrase)\n",
    "    phrase = re.sub(r\"can\\'t\", \"can not\", phrase)\n",
    "    phrase = re.sub(r\"n\\'t\", \" not\", phrase)\n",
    "    phrase = re.sub(r\"\\'re\", \" are\", phrase)\n",
    "    phrase = re.sub(r\"\\'s\", \" is\", phrase)\n",
    "    phrase = re.sub(r\"\\'d\", \" would\", phrase)\n",
    "    phrase = re.sub(r\"\\'ll\", \" will\", phrase)\n",
    "    phrase = re.sub(r\"\\'t\", \" not\", phrase)\n",
    "    phrase = re.sub(r\"\\'ve\", \" have\", phrase)\n",
    "    phrase = re.sub(r\"\\'m\", \" am\", phrase)\n",
    "    \n",
    "    return phrase"
   ]
  },
  {
   "cell_type": "code",
   "execution_count": 15,
   "metadata": {
    "colab": {
     "base_uri": "https://localhost:8080/"
    },
    "executionInfo": {
     "elapsed": 8760,
     "status": "ok",
     "timestamp": 1604996708349,
     "user": {
      "displayName": "Kunal Ahirewal",
      "photoUrl": "https://lh3.googleusercontent.com/a-/AOh14GiWVR-0XsDZLXse6U6C4talDb59i_ZsEPknjs0H=s64",
      "userId": "17598577518826545665"
     },
     "user_tz": -330
    },
    "id": "2TYh4bUORL9m",
    "outputId": "ad24c5f5-94fc-4c36-dfac-cf0e0fa57e0f"
   },
   "outputs": [
    {
     "name": "stdout",
     "output_type": "stream",
     "text": [
      "\\\"When we fill our thoughts with right things, the wrong ones have no room to enter.\\\" -Joyce Meyer \\r\\n\\r\\nMy students come from many different backgrounds. I teach ESL students within my middle school classroom representing over 10 different countries. Besides teaching Engkish to speakers of other languages I am also responsible for their Language Arts curriculum.\\r\\n\\r\\nI am hoping this will encourage them to focus on their success and achievement and to be excited about their learning and bring some fun into note taking!These materials of supplemental books and supplies will help my students find even greater meaning in their Springboard curriculum.  While the curriculum itself provides many excerpts in each unit, having supplemental books to read and explore that correlate with each topic will really help to push my students further.  Other supplies ordered will help to provide center and writing activities to help bring greater meaning to unit topics like \\\"Changes in me\\\", \\\"The Choices we Make\\\", \\\"Challengea of Heroism\\\" and \\\"challenges facing the Holocaust\\\". Having materials to help students delve deeper into these themes will truly make a difference in their understanding and success.nannan\n",
      "- -- -- -- -- -- -- -- -- -- -- -- -- -- -- -- -- -- -- -- -- -- -- -- -- -- -- -- -- -- -- -- -- -- -- -- -- -- -- -- -- -- -- -- -- -- -- -- -- -- -- -- -- -- -- -- -- -- -- -- -- -- -- -- -- -- -- -- -- -- -\n"
     ]
    }
   ],
   "source": [
    "sent = Decontracted(Project_Dataframe['essay'].values[20150])\n",
    "print(sent)\n",
    "print(\"- -\"*70)"
   ]
  },
  {
   "cell_type": "code",
   "execution_count": 16,
   "metadata": {
    "colab": {
     "base_uri": "https://localhost:8080/"
    },
    "executionInfo": {
     "elapsed": 8498,
     "status": "ok",
     "timestamp": 1604996708350,
     "user": {
      "displayName": "Kunal Ahirewal",
      "photoUrl": "https://lh3.googleusercontent.com/a-/AOh14GiWVR-0XsDZLXse6U6C4talDb59i_ZsEPknjs0H=s64",
      "userId": "17598577518826545665"
     },
     "user_tz": -330
    },
    "id": "yZ1GFEY8RL5U",
    "outputId": "dd6a4a14-2235-4852-97d0-ee1984e94470"
   },
   "outputs": [
    {
     "name": "stdout",
     "output_type": "stream",
     "text": [
      " When we fill our thoughts with right things, the wrong ones have no room to enter.  -Joyce Meyer     My students come from many different backgrounds. I teach ESL students within my middle school classroom representing over 10 different countries. Besides teaching Engkish to speakers of other languages I am also responsible for their Language Arts curriculum.    I am hoping this will encourage them to focus on their success and achievement and to be excited about their learning and bring some fun into note taking!These materials of supplemental books and supplies will help my students find even greater meaning in their Springboard curriculum.  While the curriculum itself provides many excerpts in each unit, having supplemental books to read and explore that correlate with each topic will really help to push my students further.  Other supplies ordered will help to provide center and writing activities to help bring greater meaning to unit topics like  Changes in me ,  The Choices we Make ,  Challengea of Heroism  and  challenges facing the Holocaust . Having materials to help students delve deeper into these themes will truly make a difference in their understanding and success.nannan\n"
     ]
    }
   ],
   "source": [
    "# Remove (\\r \\n \\t) from String in Python: http://texthandler.com/info/remove-line-breaks-python/\n",
    "\n",
    "sent = sent.replace('\\\\r', ' ')\n",
    "sent = sent.replace('\\\\\"', ' ')\n",
    "sent = sent.replace('\\\\n', ' ')\n",
    "print(sent)"
   ]
  },
  {
   "cell_type": "code",
   "execution_count": 17,
   "metadata": {
    "colab": {
     "base_uri": "https://localhost:8080/"
    },
    "executionInfo": {
     "elapsed": 8163,
     "status": "ok",
     "timestamp": 1604996708351,
     "user": {
      "displayName": "Kunal Ahirewal",
      "photoUrl": "https://lh3.googleusercontent.com/a-/AOh14GiWVR-0XsDZLXse6U6C4talDb59i_ZsEPknjs0H=s64",
      "userId": "17598577518826545665"
     },
     "user_tz": -330
    },
    "id": "ZnhFOYJ6RL3m",
    "outputId": "10718b6b-025e-49b0-c2f8-652a2520750d"
   },
   "outputs": [
    {
     "name": "stdout",
     "output_type": "stream",
     "text": [
      " When we fill our thoughts with right things the wrong ones have no room to enter Joyce Meyer My students come from many different backgrounds I teach ESL students within my middle school classroom representing over 10 different countries Besides teaching Engkish to speakers of other languages I am also responsible for their Language Arts curriculum I am hoping this will encourage them to focus on their success and achievement and to be excited about their learning and bring some fun into note taking These materials of supplemental books and supplies will help my students find even greater meaning in their Springboard curriculum While the curriculum itself provides many excerpts in each unit having supplemental books to read and explore that correlate with each topic will really help to push my students further Other supplies ordered will help to provide center and writing activities to help bring greater meaning to unit topics like Changes in me The Choices we Make Challengea of Heroism and challenges facing the Holocaust Having materials to help students delve deeper into these themes will truly make a difference in their understanding and success nannan\n"
     ]
    }
   ],
   "source": [
    "# Removing Spacial Character: https://stackoverflow.com/a/5843547/4084039\n",
    "\n",
    "sent = re.sub('[^A-Za-z0-9]+', ' ', sent)\n",
    "print(sent)"
   ]
  },
  {
   "cell_type": "code",
   "execution_count": 18,
   "metadata": {
    "executionInfo": {
     "elapsed": 7900,
     "status": "ok",
     "timestamp": 1604996708352,
     "user": {
      "displayName": "Kunal Ahirewal",
      "photoUrl": "https://lh3.googleusercontent.com/a-/AOh14GiWVR-0XsDZLXse6U6C4talDb59i_ZsEPknjs0H=s64",
      "userId": "17598577518826545665"
     },
     "user_tz": -330
    },
    "id": "JY04LzOeRL0q"
   },
   "outputs": [],
   "source": [
    "# https://gist.github.com/sebleier/554280\n",
    "\n",
    "stopwords= ['i', 'me', 'my', 'myself', 'we', 'our', 'ours', 'ourselves', 'you', \"you're\", \"you've\",\\\n",
    "            \"you'll\", \"you'd\", 'your', 'yours', 'yourself', 'yourselves', 'he', 'him', 'his', 'himself', \\\n",
    "            'she', \"she's\", 'her', 'hers', 'herself', 'it', \"it's\", 'its', 'itself', 'they', 'them', 'their',\\\n",
    "            'theirs', 'themselves', 'what', 'which', 'who', 'whom', 'this', 'that', \"that'll\", 'these', 'those', \\\n",
    "            'am', 'is', 'are', 'was', 'were', 'be', 'been', 'being', 'have', 'has', 'had', 'having', 'do', 'does', \\\n",
    "            'did', 'doing', 'a', 'an', 'the', 'and', 'but', 'if', 'or', 'because', 'as', 'until', 'while', 'of', \\\n",
    "            'at', 'by', 'for', 'with', 'about', 'against', 'between', 'into', 'through', 'during', 'before', 'after',\\\n",
    "            'above', 'below', 'to', 'from', 'up', 'down', 'in', 'out', 'on', 'off', 'over', 'under', 'again', 'further',\\\n",
    "            'then', 'once', 'here', 'there', 'when', 'where', 'why', 'how', 'all', 'any', 'both', 'each', 'few', 'more',\\\n",
    "            'most', 'other', 'some', 'such', 'only', 'own', 'same', 'so', 'than', 'too', 'very', \\\n",
    "            's', 't', 'can', 'will', 'just', 'don', \"don't\", 'should', \"should've\", 'now', 'd', 'll', 'm', 'o', 're', \\\n",
    "            've', 'y', 'ain', 'aren', \"aren't\", 'couldn', \"couldn't\", 'didn', \"didn't\", 'doesn', \"doesn't\", 'hadn',\\\n",
    "            \"hadn't\", 'hasn', \"hasn't\", 'haven', \"haven't\", 'isn', \"isn't\", 'ma', 'mightn', \"mightn't\", 'mustn',\\\n",
    "            \"mustn't\", 'needn', \"needn't\", 'shan', \"shan't\", 'shouldn', \"shouldn't\", 'wasn', \"wasn't\", 'weren', \"weren't\", \\\n",
    "            'won', \"won't\", 'wouldn', \"wouldn't\"]"
   ]
  },
  {
   "cell_type": "code",
   "execution_count": 19,
   "metadata": {
    "executionInfo": {
     "elapsed": 7825,
     "status": "ok",
     "timestamp": 1604996708353,
     "user": {
      "displayName": "Kunal Ahirewal",
      "photoUrl": "https://lh3.googleusercontent.com/a-/AOh14GiWVR-0XsDZLXse6U6C4talDb59i_ZsEPknjs0H=s64",
      "userId": "17598577518826545665"
     },
     "user_tz": -330
    },
    "id": "BeE1y8rdbO8t"
   },
   "outputs": [],
   "source": [
    "# https://gist.github.com/sebleier/554280\n",
    "\n",
    "def filterSentance(sentance):\n",
    "    sent = Decontracted(sentance)\n",
    "    sent = sent.replace('\\\\r', ' ')\n",
    "    sent = sent.replace('\\\\\"', ' ')\n",
    "    sent = sent.replace('\\\\n', ' ')\n",
    "    sent = re.sub('[^A-Za-z0-9]+', ' ', sent)\n",
    "    sent = sent.lower()\n",
    "    sent = ' '.join(e for e in sent.split() if e not in stopwords)\n",
    "    return sent.strip()"
   ]
  },
  {
   "cell_type": "code",
   "execution_count": 20,
   "metadata": {
    "colab": {
     "base_uri": "https://localhost:8080/"
    },
    "executionInfo": {
     "elapsed": 68364,
     "status": "ok",
     "timestamp": 1604996769152,
     "user": {
      "displayName": "Kunal Ahirewal",
      "photoUrl": "https://lh3.googleusercontent.com/a-/AOh14GiWVR-0XsDZLXse6U6C4talDb59i_ZsEPknjs0H=s64",
      "userId": "17598577518826545665"
     },
     "user_tz": -330
    },
    "id": "mFooFLL4RLyF",
    "outputId": "735cb870-fbed-40b9-859c-1484d5e69204"
   },
   "outputs": [
    {
     "name": "stderr",
     "output_type": "stream",
     "text": [
      "100%|██████████| 109248/109248 [00:59<00:00, 1822.59it/s]\n"
     ]
    }
   ],
   "source": [
    "# https://gist.github.com/sebleier/554280\n",
    "\n",
    "preprocessed_essays = []\n",
    "for sentance in tqdm(Project_Dataframe['essay'].values):\n",
    "    preprocessed_essays.append(filterSentance(sentance))"
   ]
  },
  {
   "cell_type": "code",
   "execution_count": 21,
   "metadata": {
    "colab": {
     "base_uri": "https://localhost:8080/",
     "height": 121
    },
    "executionInfo": {
     "elapsed": 68130,
     "status": "ok",
     "timestamp": 1604996769165,
     "user": {
      "displayName": "Kunal Ahirewal",
      "photoUrl": "https://lh3.googleusercontent.com/a-/AOh14GiWVR-0XsDZLXse6U6C4talDb59i_ZsEPknjs0H=s64",
      "userId": "17598577518826545665"
     },
     "user_tz": -330
    },
    "id": "Bb0a9oU3RLvb",
    "outputId": "632c5379-4972-4f58-8841-3a6c7c87a8c2"
   },
   "outputs": [
    {
     "data": {
      "application/vnd.google.colaboratory.intrinsic+json": {
       "type": "string"
      },
      "text/plain": [
       "'fill thoughts right things wrong ones no room enter joyce meyer students come many different backgrounds teach esl students within middle school classroom representing 10 different countries besides teaching engkish speakers languages also responsible language arts curriculum hoping encourage focus success achievement excited learning bring fun note taking materials supplemental books supplies help students find even greater meaning springboard curriculum curriculum provides many excerpts unit supplemental books read explore correlate topic really help push students supplies ordered help provide center writing activities help bring greater meaning unit topics like changes choices make challengea heroism challenges facing holocaust materials help students delve deeper themes truly make difference understanding success nannan'"
      ]
     },
     "execution_count": 21,
     "metadata": {
      "tags": []
     },
     "output_type": "execute_result"
    }
   ],
   "source": [
    "preprocessed_essays[20150]"
   ]
  },
  {
   "cell_type": "markdown",
   "metadata": {
    "id": "43rpp8e3YA5D"
   },
   "source": [
    "## <font color='blue'> >> Preprocessing of 'project_title'</font>"
   ]
  },
  {
   "cell_type": "code",
   "execution_count": 22,
   "metadata": {
    "colab": {
     "base_uri": "https://localhost:8080/"
    },
    "executionInfo": {
     "elapsed": 67628,
     "status": "ok",
     "timestamp": 1604996769169,
     "user": {
      "displayName": "Kunal Ahirewal",
      "photoUrl": "https://lh3.googleusercontent.com/a-/AOh14GiWVR-0XsDZLXse6U6C4talDb59i_ZsEPknjs0H=s64",
      "userId": "17598577518826545665"
     },
     "user_tz": -330
    },
    "id": "4CPucHVNRLt7",
    "outputId": "a950c250-d00e-43e0-fc85-3188fb328b6f"
   },
   "outputs": [
    {
     "name": "stdout",
     "output_type": "stream",
     "text": [
      "Educational Centers\n",
      "- -- -- -- -- -- -- -- -- -- -- -- -- -- -- -- -- -- -- -- -\n"
     ]
    }
   ],
   "source": [
    "# Print Some Random essay titles.\n",
    "\n",
    "\"\"\"print(Project_Dataframe['project_title'].values[0])\n",
    "print(\"- -\"*20)\n",
    "print(Project_Dataframe['project_title'].values[250])\n",
    "print(\"- -\"*20)\n",
    "print(Project_Dataframe['project_title'].values[25010])\n",
    "print(\"- -\"*20)\"\"\"\n",
    "print(Project_Dataframe['project_title'].values[50055])\n",
    "print(\"- -\"*20)\n",
    "# print(Project_Dataframe['project_title'].values[99999])\n",
    "# print(\"- -\"*20)"
   ]
  },
  {
   "cell_type": "code",
   "execution_count": 23,
   "metadata": {
    "colab": {
     "base_uri": "https://localhost:8080/"
    },
    "executionInfo": {
     "elapsed": 69294,
     "status": "ok",
     "timestamp": 1604996771116,
     "user": {
      "displayName": "Kunal Ahirewal",
      "photoUrl": "https://lh3.googleusercontent.com/a-/AOh14GiWVR-0XsDZLXse6U6C4talDb59i_ZsEPknjs0H=s64",
      "userId": "17598577518826545665"
     },
     "user_tz": -330
    },
    "id": "I_1H-hXtRLqs",
    "outputId": "16c2e097-2b5b-4cda-e09c-816050237a71"
   },
   "outputs": [
    {
     "name": "stderr",
     "output_type": "stream",
     "text": [
      "100%|██████████| 109248/109248 [00:02<00:00, 43200.41it/s]\n"
     ]
    }
   ],
   "source": [
    "preprocessed_titles = []\n",
    "for sentance in tqdm(Project_Dataframe['project_title'].values):\n",
    "    preprocessed_titles.append(filterSentance(sentance))"
   ]
  },
  {
   "cell_type": "code",
   "execution_count": 24,
   "metadata": {
    "colab": {
     "base_uri": "https://localhost:8080/",
     "height": 35
    },
    "executionInfo": {
     "elapsed": 68770,
     "status": "ok",
     "timestamp": 1604996771121,
     "user": {
      "displayName": "Kunal Ahirewal",
      "photoUrl": "https://lh3.googleusercontent.com/a-/AOh14GiWVR-0XsDZLXse6U6C4talDb59i_ZsEPknjs0H=s64",
      "userId": "17598577518826545665"
     },
     "user_tz": -330
    },
    "id": "kmTy98maRLpW",
    "outputId": "c774c904-62a3-417b-b69b-326e97234651"
   },
   "outputs": [
    {
     "data": {
      "application/vnd.google.colaboratory.intrinsic+json": {
       "type": "string"
      },
      "text/plain": [
       "'educational centers'"
      ]
     },
     "execution_count": 24,
     "metadata": {
      "tags": []
     },
     "output_type": "execute_result"
    }
   ],
   "source": [
    "preprocessed_titles[50055]"
   ]
  },
  {
   "cell_type": "code",
   "execution_count": 25,
   "metadata": {
    "colab": {
     "base_uri": "https://localhost:8080/"
    },
    "executionInfo": {
     "elapsed": 75164,
     "status": "ok",
     "timestamp": 1604996777632,
     "user": {
      "displayName": "Kunal Ahirewal",
      "photoUrl": "https://lh3.googleusercontent.com/a-/AOh14GiWVR-0XsDZLXse6U6C4talDb59i_ZsEPknjs0H=s64",
      "userId": "17598577518826545665"
     },
     "user_tz": -330
    },
    "id": "y47HZsf8RLlV",
    "outputId": "8e18ebd8-ff4c-42da-d4c8-6b35ef8be8c2"
   },
   "outputs": [
    {
     "name": "stderr",
     "output_type": "stream",
     "text": [
      "100%|██████████| 109248/109248 [00:06<00:00, 18004.72it/s]\n"
     ]
    }
   ],
   "source": [
    "preprocessed_resource_summary = []\n",
    "for sentance in tqdm(Project_Dataframe['project_resource_summary'].values):\n",
    "    preprocessed_resource_summary.append(filterSentance(sentance))"
   ]
  },
  {
   "cell_type": "code",
   "execution_count": 26,
   "metadata": {
    "colab": {
     "base_uri": "https://localhost:8080/",
     "height": 35
    },
    "executionInfo": {
     "elapsed": 74948,
     "status": "ok",
     "timestamp": 1604996777655,
     "user": {
      "displayName": "Kunal Ahirewal",
      "photoUrl": "https://lh3.googleusercontent.com/a-/AOh14GiWVR-0XsDZLXse6U6C4talDb59i_ZsEPknjs0H=s64",
      "userId": "17598577518826545665"
     },
     "user_tz": -330
    },
    "id": "edaUjUQyRLjm",
    "outputId": "0ff1eb14-21f7-422a-a452-ef14f680ca1d"
   },
   "outputs": [
    {
     "data": {
      "application/vnd.google.colaboratory.intrinsic+json": {
       "type": "string"
      },
      "text/plain": [
       "'students need supplemental materials help find success springboard curriculum'"
      ]
     },
     "execution_count": 26,
     "metadata": {
      "tags": []
     },
     "output_type": "execute_result"
    }
   ],
   "source": [
    "preprocessed_resource_summary[20150]"
   ]
  },
  {
   "cell_type": "code",
   "execution_count": 27,
   "metadata": {
    "colab": {
     "base_uri": "https://localhost:8080/"
    },
    "executionInfo": {
     "elapsed": 76766,
     "status": "ok",
     "timestamp": 1604996779649,
     "user": {
      "displayName": "Kunal Ahirewal",
      "photoUrl": "https://lh3.googleusercontent.com/a-/AOh14GiWVR-0XsDZLXse6U6C4talDb59i_ZsEPknjs0H=s64",
      "userId": "17598577518826545665"
     },
     "user_tz": -330
    },
    "id": "k7K2eNY_RLgH",
    "outputId": "663fa0f9-6375-41f7-9899-d4132763bde7"
   },
   "outputs": [
    {
     "name": "stderr",
     "output_type": "stream",
     "text": [
      "100%|██████████| 109248/109248 [00:01<00:00, 78984.18it/s]\n"
     ]
    }
   ],
   "source": [
    "preprocessed_teacher_prefix = []\n",
    "for teacher_prefix in tqdm(Project_Dataframe['teacher_prefix'].values):\n",
    "    teacher_prefix = str(teacher_prefix)\n",
    "    clean_teacher_prefix = Decontracted(teacher_prefix)\n",
    "    clean_teacher_prefix = clean_teacher_prefix.replace('\\\\r', ' ')\n",
    "    clean_teacher_prefix = clean_teacher_prefix.replace('\\\\\"', ' ')\n",
    "    clean_teacher_prefix = clean_teacher_prefix.replace('\\\\n', ' ')\n",
    "    clean_teacher_prefix = re.sub('[^A-Za-z0-9]+', ' ', clean_teacher_prefix)\n",
    "    clean_teacher_prefix = clean_teacher_prefix.lower()\n",
    "    if clean_teacher_prefix in stopwords:\n",
    "        continue\n",
    "    preprocessed_teacher_prefix.append(clean_teacher_prefix.strip())"
   ]
  },
  {
   "cell_type": "code",
   "execution_count": 28,
   "metadata": {
    "colab": {
     "base_uri": "https://localhost:8080/"
    },
    "executionInfo": {
     "elapsed": 76519,
     "status": "ok",
     "timestamp": 1604996779653,
     "user": {
      "displayName": "Kunal Ahirewal",
      "photoUrl": "https://lh3.googleusercontent.com/a-/AOh14GiWVR-0XsDZLXse6U6C4talDb59i_ZsEPknjs0H=s64",
      "userId": "17598577518826545665"
     },
     "user_tz": -330
    },
    "id": "fxLQRvmqRLek",
    "outputId": "f6cae343-38c2-4984-b6c9-598360a63f9c"
   },
   "outputs": [
    {
     "data": {
      "text/plain": [
       "['mrs', 'ms', 'mrs', 'mrs', 'mrs', 'mrs', 'mrs', 'ms', 'ms', 'mrs']"
      ]
     },
     "execution_count": 28,
     "metadata": {
      "tags": []
     },
     "output_type": "execute_result"
    }
   ],
   "source": [
    "preprocessed_teacher_prefix[:10]"
   ]
  },
  {
   "cell_type": "code",
   "execution_count": 29,
   "metadata": {
    "colab": {
     "base_uri": "https://localhost:8080/"
    },
    "executionInfo": {
     "elapsed": 77782,
     "status": "ok",
     "timestamp": 1604996781131,
     "user": {
      "displayName": "Kunal Ahirewal",
      "photoUrl": "https://lh3.googleusercontent.com/a-/AOh14GiWVR-0XsDZLXse6U6C4talDb59i_ZsEPknjs0H=s64",
      "userId": "17598577518826545665"
     },
     "user_tz": -330
    },
    "id": "uOHDaIrARLaL",
    "outputId": "ed0f9186-1d4e-4e71-ddc7-0df1121f2226"
   },
   "outputs": [
    {
     "name": "stderr",
     "output_type": "stream",
     "text": [
      "100%|██████████| 109248/109248 [00:01<00:00, 78048.25it/s]\n"
     ]
    }
   ],
   "source": [
    "preprocessed_project_grade_category = []\n",
    "\n",
    "for project_grade_category in tqdm(Project_Dataframe['project_grade_category'].values):\n",
    "    project_grade_category = str(project_grade_category)\n",
    "    clean_project_grade_category = Decontracted(project_grade_category)\n",
    "    clean_project_grade_category = clean_project_grade_category.replace('\\\\r', ' ')\n",
    "    clean_project_grade_category = clean_project_grade_category.replace('\\\\\"', ' ')\n",
    "    clean_project_grade_category = clean_project_grade_category.replace('\\\\n', ' ')\n",
    "    clean_project_grade_category = re.sub('[^A-Za-z0-9]+', ' ', clean_project_grade_category)\n",
    "    clean_project_grade_category = clean_project_grade_category.lower()\n",
    "    if clean_project_grade_category in stopwords:\n",
    "        continue\n",
    "    clean_project_grade_category = clean_project_grade_category.strip()\n",
    "    preprocessed_project_grade_category.append(clean_project_grade_category.replace(' ', '_'))"
   ]
  },
  {
   "cell_type": "code",
   "execution_count": 30,
   "metadata": {
    "colab": {
     "base_uri": "https://localhost:8080/"
    },
    "executionInfo": {
     "elapsed": 77475,
     "status": "ok",
     "timestamp": 1604996781132,
     "user": {
      "displayName": "Kunal Ahirewal",
      "photoUrl": "https://lh3.googleusercontent.com/a-/AOh14GiWVR-0XsDZLXse6U6C4talDb59i_ZsEPknjs0H=s64",
      "userId": "17598577518826545665"
     },
     "user_tz": -330
    },
    "id": "jr9KQR9TRLYX",
    "outputId": "caeffffe-37e9-4d0c-c4ef-16ea475fe4cf"
   },
   "outputs": [
    {
     "data": {
      "text/plain": [
       "['grades_prek_2',\n",
       " 'grades_3_5',\n",
       " 'grades_prek_2',\n",
       " 'grades_prek_2',\n",
       " 'grades_3_5',\n",
       " 'grades_3_5',\n",
       " 'grades_3_5',\n",
       " 'grades_3_5',\n",
       " 'grades_prek_2',\n",
       " 'grades_3_5']"
      ]
     },
     "execution_count": 30,
     "metadata": {
      "tags": []
     },
     "output_type": "execute_result"
    }
   ],
   "source": [
    "preprocessed_project_grade_category[:10]"
   ]
  },
  {
   "cell_type": "code",
   "execution_count": 31,
   "metadata": {
    "executionInfo": {
     "elapsed": 77256,
     "status": "ok",
     "timestamp": 1604996781133,
     "user": {
      "displayName": "Kunal Ahirewal",
      "photoUrl": "https://lh3.googleusercontent.com/a-/AOh14GiWVR-0XsDZLXse6U6C4talDb59i_ZsEPknjs0H=s64",
      "userId": "17598577518826545665"
     },
     "user_tz": -330
    },
    "id": "yzhq49jsRLQ4"
   },
   "outputs": [],
   "source": [
    "Project_Dataframe['clean_essays'] = preprocessed_essays\n",
    "Project_Dataframe['clean_titles'] = preprocessed_titles\n",
    "Project_Dataframe['project_resource_summary'] = preprocessed_resource_summary\n",
    "Project_Dataframe['teacher_prefix'] = preprocessed_teacher_prefix\n",
    "Project_Dataframe['project_grade_category'] = preprocessed_project_grade_category\n",
    "Project_Dataframe.drop(['project_essay_1'], axis = 1, inplace = True)\n",
    "Project_Dataframe.drop(['project_essay_2'], axis = 1, inplace = True)\n",
    "Project_Dataframe.drop(['project_essay_3'], axis = 1, inplace = True)\n",
    "Project_Dataframe.drop(['project_essay_4'], axis = 1, inplace = True)"
   ]
  },
  {
   "cell_type": "code",
   "execution_count": 32,
   "metadata": {
    "executionInfo": {
     "elapsed": 77069,
     "status": "ok",
     "timestamp": 1604996781133,
     "user": {
      "displayName": "Kunal Ahirewal",
      "photoUrl": "https://lh3.googleusercontent.com/a-/AOh14GiWVR-0XsDZLXse6U6C4talDb59i_ZsEPknjs0H=s64",
      "userId": "17598577518826545665"
     },
     "user_tz": -330
    },
    "id": "gd8GJl1nRLPC"
   },
   "outputs": [],
   "source": [
    "Project_Dataframe['teacher_prefix'] = Project_Dataframe['teacher_prefix'].fillna('null')"
   ]
  },
  {
   "cell_type": "markdown",
   "metadata": {
    "id": "TNDxbDPWc3Iq"
   },
   "source": [
    "## <font color='blue'>>> Preparing data for models</font>"
   ]
  },
  {
   "cell_type": "code",
   "execution_count": 33,
   "metadata": {
    "colab": {
     "base_uri": "https://localhost:8080/"
    },
    "executionInfo": {
     "elapsed": 76584,
     "status": "ok",
     "timestamp": 1604996781134,
     "user": {
      "displayName": "Kunal Ahirewal",
      "photoUrl": "https://lh3.googleusercontent.com/a-/AOh14GiWVR-0XsDZLXse6U6C4talDb59i_ZsEPknjs0H=s64",
      "userId": "17598577518826545665"
     },
     "user_tz": -330
    },
    "id": "t_WjKfCWRLKu",
    "outputId": "c62fde61-f082-451e-875c-b0e95d45d6c3"
   },
   "outputs": [
    {
     "data": {
      "text/plain": [
       "(109248, 17)"
      ]
     },
     "execution_count": 33,
     "metadata": {
      "tags": []
     },
     "output_type": "execute_result"
    }
   ],
   "source": [
    "y = Project_Dataframe['project_is_approved'].values\n",
    "Project_Dataframe.drop(['project_is_approved'], axis = 1, inplace = True)\n",
    "X = Project_Dataframe\n",
    "Project_Dataframe.shape"
   ]
  },
  {
   "cell_type": "code",
   "execution_count": 34,
   "metadata": {
    "colab": {
     "base_uri": "https://localhost:8080/"
    },
    "executionInfo": {
     "elapsed": 76348,
     "status": "ok",
     "timestamp": 1604996781135,
     "user": {
      "displayName": "Kunal Ahirewal",
      "photoUrl": "https://lh3.googleusercontent.com/a-/AOh14GiWVR-0XsDZLXse6U6C4talDb59i_ZsEPknjs0H=s64",
      "userId": "17598577518826545665"
     },
     "user_tz": -330
    },
    "id": "p-L8XcZJRLJJ",
    "outputId": "b6ec87d9-d0c1-4da8-e9cb-87a6aeedb52e"
   },
   "outputs": [
    {
     "name": "stdout",
     "output_type": "stream",
     "text": [
      "Train Dataset :  (49041, 17) (49041,)\n",
      "Cross Validate Dataset :  (24155, 17) (24155,)\n",
      "Test Dataset :  (36052, 17) (36052,)\n"
     ]
    }
   ],
   "source": [
    "x_train, X_test, y_train, y_test = train_test_split(X, y, test_size=0.33, stratify=y)\n",
    "X_train, X_cv, y_train, y_cv = train_test_split(x_train, y_train, test_size=0.33, stratify=y_train)\n",
    "\n",
    "print('Train Dataset : ', X_train.shape, y_train.shape)\n",
    "print('Cross Validate Dataset : ', X_cv.shape, y_cv.shape)\n",
    "print('Test Dataset : ', X_test.shape, y_test.shape)"
   ]
  },
  {
   "cell_type": "markdown",
   "metadata": {
    "id": "VPcQKCw5eL1P"
   },
   "source": [
    "### <font color='blue'> TFIDF Vectorizer </font>"
   ]
  },
  {
   "cell_type": "code",
   "execution_count": 35,
   "metadata": {
    "colab": {
     "base_uri": "https://localhost:8080/"
    },
    "executionInfo": {
     "elapsed": 75830,
     "status": "ok",
     "timestamp": 1604996781136,
     "user": {
      "displayName": "Kunal Ahirewal",
      "photoUrl": "https://lh3.googleusercontent.com/a-/AOh14GiWVR-0XsDZLXse6U6C4talDb59i_ZsEPknjs0H=s64",
      "userId": "17598577518826545665"
     },
     "user_tz": -330
    },
    "id": "QESHvZxSRLFp",
    "outputId": "6bdbe484-dfe4-4084-abbc-565cdc976215"
   },
   "outputs": [
    {
     "name": "stdout",
     "output_type": "stream",
     "text": [
      "After vectorizations : \n",
      "(49041, 1987) (49041,)\n",
      "(24155, 1987) (24155,)\n",
      "(24155, 1987) (36052,)\n"
     ]
    }
   ],
   "source": [
    "vectorizer = TfidfVectorizer(min_df = 10)\n",
    "vectorizer.fit(X_train['clean_titles'].values)\n",
    "\n",
    "X_train_title_TFIDF = vectorizer.transform(X_train['clean_titles'].values)\n",
    "X_cv_title_TFIDF = vectorizer.transform(X_cv['clean_titles'].values)\n",
    "X_test_title_TFIDF = vectorizer.transform(X_test['clean_titles'].values)\n",
    "clean_titles_TFIDF_features = vectorizer.get_feature_names()\n",
    "\n",
    "print(\"After vectorizations : \")\n",
    "print(X_train_title_TFIDF.shape, y_train.shape)\n",
    "print(X_cv_title_TFIDF.shape, y_cv.shape)\n",
    "print(X_cv_title_TFIDF.shape, y_test.shape)"
   ]
  },
  {
   "cell_type": "code",
   "execution_count": 36,
   "metadata": {
    "colab": {
     "base_uri": "https://localhost:8080/"
    },
    "executionInfo": {
     "elapsed": 92168,
     "status": "ok",
     "timestamp": 1604996797710,
     "user": {
      "displayName": "Kunal Ahirewal",
      "photoUrl": "https://lh3.googleusercontent.com/a-/AOh14GiWVR-0XsDZLXse6U6C4talDb59i_ZsEPknjs0H=s64",
      "userId": "17598577518826545665"
     },
     "user_tz": -330
    },
    "id": "1lZjkHTbwUzg",
    "outputId": "0670ff0a-dc71-4fed-bcda-5878d172ac59"
   },
   "outputs": [
    {
     "name": "stdout",
     "output_type": "stream",
     "text": [
      "After vectorizations : \n",
      "(49041, 12111) (49041,)\n",
      "(24155, 12111) (24155,)\n",
      "(36052, 12111) (36052,)\n"
     ]
    }
   ],
   "source": [
    "vectorizer = TfidfVectorizer(min_df = 10)\n",
    "vectorizer.fit(X_train['clean_essays'].values)\n",
    "\n",
    "X_train_essay_TFIDF = vectorizer.transform(X_train['clean_essays'].values)\n",
    "X_cv_essay_TFIDF = vectorizer.transform(X_cv['clean_essays'].values)\n",
    "X_test_essay_TFIDF = vectorizer.transform(X_test['clean_essays'].values)\n",
    "\n",
    "easy_TFIDF_features = vectorizer.get_feature_names()\n",
    "\n",
    "print(\"After vectorizations : \")\n",
    "print(X_train_essay_TFIDF.shape, y_train.shape)\n",
    "print(X_cv_essay_TFIDF.shape, y_cv.shape)\n",
    "print(X_test_essay_TFIDF.shape, y_test.shape)"
   ]
  },
  {
   "cell_type": "code",
   "execution_count": 37,
   "metadata": {
    "colab": {
     "base_uri": "https://localhost:8080/"
    },
    "executionInfo": {
     "elapsed": 93660,
     "status": "ok",
     "timestamp": 1604996799438,
     "user": {
      "displayName": "Kunal Ahirewal",
      "photoUrl": "https://lh3.googleusercontent.com/a-/AOh14GiWVR-0XsDZLXse6U6C4talDb59i_ZsEPknjs0H=s64",
      "userId": "17598577518826545665"
     },
     "user_tz": -330
    },
    "id": "D21DhqM4RLEW",
    "outputId": "8c3e017e-6760-4e67-98a2-270747e173c3"
   },
   "outputs": [
    {
     "name": "stdout",
     "output_type": "stream",
     "text": [
      "After vectorizations : \n",
      "(49041, 3830) (49041,)\n",
      "(24155, 3830) (24155,)\n",
      "(36052, 3830) (36052,)\n"
     ]
    }
   ],
   "source": [
    "vectorizer = TfidfVectorizer(min_df = 10)\n",
    "vectorizer.fit(X_train['project_resource_summary'].values)\n",
    "\n",
    "X_train_project_resource_summary_TFIDF = vectorizer.transform(X_train['project_resource_summary'].values)\n",
    "X_cv_project_resource_summary_TFIDF = vectorizer.transform(X_cv['project_resource_summary'].values)\n",
    "X_test_project_resource_summary_TFIDF = vectorizer.transform(X_test['project_resource_summary'].values)\n",
    "project_resource_summary_TFIDF_features = vectorizer.get_feature_names()\n",
    "\n",
    "print(\"After vectorizations : \")\n",
    "print(X_train_project_resource_summary_TFIDF.shape, y_train.shape)\n",
    "print(X_cv_project_resource_summary_TFIDF.shape, y_cv.shape)\n",
    "print(X_test_project_resource_summary_TFIDF.shape, y_test.shape)"
   ]
  },
  {
   "cell_type": "markdown",
   "metadata": {
    "id": "8o5A3_8uftY2"
   },
   "source": [
    "### <font color='blue'> TFIDF W2V Vectorizer</font>"
   ]
  },
  {
   "cell_type": "code",
   "execution_count": 38,
   "metadata": {
    "executionInfo": {
     "elapsed": 93083,
     "status": "ok",
     "timestamp": 1604996801286,
     "user": {
      "displayName": "Kunal Ahirewal",
      "photoUrl": "https://lh3.googleusercontent.com/a-/AOh14GiWVR-0XsDZLXse6U6C4talDb59i_ZsEPknjs0H=s64",
      "userId": "17598577518826545665"
     },
     "user_tz": -330
    },
    "id": "8JztEIStg91g"
   },
   "outputs": [],
   "source": [
    "# http://www.jessicayung.com/how-to-use-pickle-to-save-and-load-variables-in-python/\n",
    "\n",
    "with open('/content/drive/My Drive/Datasets/Apply Naive Bayes on Donor Choose Dataset/glove_vectors', 'rb') as f:\n",
    "    model = pickle.load(f)\n",
    "    glove_words =  set(model.keys())"
   ]
  },
  {
   "cell_type": "code",
   "execution_count": 39,
   "metadata": {
    "executionInfo": {
     "elapsed": 97996,
     "status": "ok",
     "timestamp": 1604996806532,
     "user": {
      "displayName": "Kunal Ahirewal",
      "photoUrl": "https://lh3.googleusercontent.com/a-/AOh14GiWVR-0XsDZLXse6U6C4talDb59i_ZsEPknjs0H=s64",
      "userId": "17598577518826545665"
     },
     "user_tz": -330
    },
    "id": "70-_atlHRLAi"
   },
   "outputs": [],
   "source": [
    "TFIDF_model = TfidfVectorizer()\n",
    "TFIDF_model.fit(X_train['clean_essays'])\n",
    "dictionary = dict(zip(TFIDF_model.get_feature_names(), list(TFIDF_model.idf_)))\n",
    "TFIDF_words = set(TFIDF_model.get_feature_names())"
   ]
  },
  {
   "cell_type": "code",
   "execution_count": 40,
   "metadata": {
    "colab": {
     "base_uri": "https://localhost:8080/"
    },
    "executionInfo": {
     "elapsed": 187319,
     "status": "ok",
     "timestamp": 1604996896067,
     "user": {
      "displayName": "Kunal Ahirewal",
      "photoUrl": "https://lh3.googleusercontent.com/a-/AOh14GiWVR-0XsDZLXse6U6C4talDb59i_ZsEPknjs0H=s64",
      "userId": "17598577518826545665"
     },
     "user_tz": -330
    },
    "id": "3eIjvFR6RK_G",
    "outputId": "706c1999-d165-4be8-a2d6-cbf730ea8be5"
   },
   "outputs": [
    {
     "name": "stderr",
     "output_type": "stream",
     "text": [
      "100%|██████████| 49041/49041 [01:28<00:00, 552.59it/s]\n"
     ]
    }
   ],
   "source": [
    "TFIDFW2V_vectors_text_train = []; \n",
    "for sentence in tqdm(X_train['clean_essays']):\n",
    "    vector = np.zeros(300) \n",
    "    tf_idf_weight = 0; \n",
    "    for word in sentence.split(): \n",
    "        if (word in glove_words) and (word in TFIDF_words):\n",
    "            vec = model[word] \n",
    "            tf_idf = dictionary[word] * (sentence.count(word) / len(sentence.split())) \n",
    "            vector += (vec * tf_idf)\n",
    "            tf_idf_weight += tf_idf\n",
    "    if tf_idf_weight != 0:\n",
    "        vector /= tf_idf_weight\n",
    "    TFIDFW2V_vectors_text_train.append(vector)"
   ]
  },
  {
   "cell_type": "code",
   "execution_count": 41,
   "metadata": {
    "colab": {
     "base_uri": "https://localhost:8080/"
    },
    "executionInfo": {
     "elapsed": 230019,
     "status": "ok",
     "timestamp": 1604996938989,
     "user": {
      "displayName": "Kunal Ahirewal",
      "photoUrl": "https://lh3.googleusercontent.com/a-/AOh14GiWVR-0XsDZLXse6U6C4talDb59i_ZsEPknjs0H=s64",
      "userId": "17598577518826545665"
     },
     "user_tz": -330
    },
    "id": "685Gvi8BRK7t",
    "outputId": "79e999e6-6f6e-4ede-b403-3dc66fd0ecb6"
   },
   "outputs": [
    {
     "name": "stderr",
     "output_type": "stream",
     "text": [
      "100%|██████████| 24155/24155 [00:43<00:00, 550.40it/s]\n"
     ]
    }
   ],
   "source": [
    "TFIDFW2V_vectors_text_cv = []; \n",
    "for sentence in tqdm(X_cv['clean_essays']): \n",
    "    vector = np.zeros(300) \n",
    "    tf_idf_weight = 0; \n",
    "    for word in sentence.split(): \n",
    "        if (word in glove_words) and (word in TFIDF_words):\n",
    "            vec = model[word]\n",
    "            tf_idf = dictionary[word] * (sentence.count(word) / len(sentence.split())) \n",
    "            vector += (vec * tf_idf) \n",
    "            tf_idf_weight += tf_idf\n",
    "    if tf_idf_weight != 0:\n",
    "        vector /= tf_idf_weight\n",
    "    TFIDFW2V_vectors_text_cv.append(vector)"
   ]
  },
  {
   "cell_type": "code",
   "execution_count": 42,
   "metadata": {
    "colab": {
     "base_uri": "https://localhost:8080/"
    },
    "executionInfo": {
     "elapsed": 296524,
     "status": "ok",
     "timestamp": 1604997005762,
     "user": {
      "displayName": "Kunal Ahirewal",
      "photoUrl": "https://lh3.googleusercontent.com/a-/AOh14GiWVR-0XsDZLXse6U6C4talDb59i_ZsEPknjs0H=s64",
      "userId": "17598577518826545665"
     },
     "user_tz": -330
    },
    "id": "fZO0qckfRK6T",
    "outputId": "d3223fbe-688a-475f-e811-702aa7fa7bf6"
   },
   "outputs": [
    {
     "name": "stderr",
     "output_type": "stream",
     "text": [
      "100%|██████████| 36052/36052 [01:06<00:00, 544.92it/s]\n"
     ]
    }
   ],
   "source": [
    "TFIDFW2V_vectors_text_test = []; \n",
    "for sentence in tqdm(X_test['clean_essays']): \n",
    "    vector = np.zeros(300) \n",
    "    tf_idf_weight =0; \n",
    "    for word in sentence.split(): \n",
    "        if (word in glove_words) and (word in TFIDF_words):\n",
    "            vec = model[word] \n",
    "            tf_idf = dictionary[word]*(sentence.count(word)/len(sentence.split())) \n",
    "            vector += (vec * tf_idf) \n",
    "            tf_idf_weight += tf_idf\n",
    "    if tf_idf_weight != 0:\n",
    "        vector /= tf_idf_weight\n",
    "    TFIDFW2V_vectors_text_test.append(vector)"
   ]
  },
  {
   "cell_type": "code",
   "execution_count": 43,
   "metadata": {
    "executionInfo": {
     "elapsed": 296270,
     "status": "ok",
     "timestamp": 1604997005772,
     "user": {
      "displayName": "Kunal Ahirewal",
      "photoUrl": "https://lh3.googleusercontent.com/a-/AOh14GiWVR-0XsDZLXse6U6C4talDb59i_ZsEPknjs0H=s64",
      "userId": "17598577518826545665"
     },
     "user_tz": -330
    },
    "id": "CMJoeXsFRK24"
   },
   "outputs": [],
   "source": [
    "TFIDF_model = TfidfVectorizer()\n",
    "TFIDF_model.fit(X_train['clean_titles'])\n",
    "dictionary = dict(zip(TFIDF_model.get_feature_names(), list(TFIDF_model.idf_)))\n",
    "TFIDF_words = set(TFIDF_model.get_feature_names())"
   ]
  },
  {
   "cell_type": "code",
   "execution_count": 44,
   "metadata": {
    "colab": {
     "base_uri": "https://localhost:8080/"
    },
    "executionInfo": {
     "elapsed": 297784,
     "status": "ok",
     "timestamp": 1604997007587,
     "user": {
      "displayName": "Kunal Ahirewal",
      "photoUrl": "https://lh3.googleusercontent.com/a-/AOh14GiWVR-0XsDZLXse6U6C4talDb59i_ZsEPknjs0H=s64",
      "userId": "17598577518826545665"
     },
     "user_tz": -330
    },
    "id": "eXe0AKyZRK1O",
    "outputId": "d1029fbf-6724-46c1-959f-5f2ac6b6b3a6"
   },
   "outputs": [
    {
     "name": "stderr",
     "output_type": "stream",
     "text": [
      "100%|██████████| 49041/49041 [00:02<00:00, 24466.29it/s]\n"
     ]
    }
   ],
   "source": [
    "TFIDFW2V_vectors_title_train = []; \n",
    "for sentence in tqdm(X_train['clean_titles']): \n",
    "    vector = np.zeros(300) \n",
    "    tf_idf_weight = 0; \n",
    "    for word in sentence.split():\n",
    "        if (word in glove_words) and (word in TFIDF_words):\n",
    "            vec = model[word] \n",
    "            tf_idf = dictionary[word]*(sentence.count(word)/len(sentence.split()))\n",
    "            vector += (vec * tf_idf) \n",
    "            tf_idf_weight += tf_idf\n",
    "    if tf_idf_weight != 0:\n",
    "        vector /= tf_idf_weight\n",
    "    TFIDFW2V_vectors_title_train.append(vector)"
   ]
  },
  {
   "cell_type": "code",
   "execution_count": 45,
   "metadata": {
    "colab": {
     "base_uri": "https://localhost:8080/"
    },
    "executionInfo": {
     "elapsed": 299380,
     "status": "ok",
     "timestamp": 1604997009469,
     "user": {
      "displayName": "Kunal Ahirewal",
      "photoUrl": "https://lh3.googleusercontent.com/a-/AOh14GiWVR-0XsDZLXse6U6C4talDb59i_ZsEPknjs0H=s64",
      "userId": "17598577518826545665"
     },
     "user_tz": -330
    },
    "id": "WZFaPeMDRKiQ",
    "outputId": "30390285-6e0c-4415-8d21-157e9a2f34d6"
   },
   "outputs": [
    {
     "name": "stderr",
     "output_type": "stream",
     "text": [
      "100%|██████████| 24155/24155 [00:01<00:00, 21706.65it/s]\n"
     ]
    }
   ],
   "source": [
    "TFIDFW2V_vectors_title_cv = []; \n",
    "for sentence in tqdm(X_cv['clean_titles']): \n",
    "    vector = np.zeros(300) \n",
    "    tf_idf_weight = 0; \n",
    "    for word in sentence.split(): \n",
    "        if (word in glove_words) and (word in TFIDF_words):\n",
    "            vec = model[word] \n",
    "            tf_idf = dictionary[word] * (sentence.count(word) / len(sentence.split())) \n",
    "            vector += (vec * tf_idf)\n",
    "            tf_idf_weight += tf_idf\n",
    "    if tf_idf_weight != 0:\n",
    "        vector /= tf_idf_weight\n",
    "    TFIDFW2V_vectors_title_cv.append(vector)"
   ]
  },
  {
   "cell_type": "code",
   "execution_count": 46,
   "metadata": {
    "colab": {
     "base_uri": "https://localhost:8080/"
    },
    "executionInfo": {
     "elapsed": 301235,
     "status": "ok",
     "timestamp": 1604997011539,
     "user": {
      "displayName": "Kunal Ahirewal",
      "photoUrl": "https://lh3.googleusercontent.com/a-/AOh14GiWVR-0XsDZLXse6U6C4talDb59i_ZsEPknjs0H=s64",
      "userId": "17598577518826545665"
     },
     "user_tz": -330
    },
    "id": "GOgogiWrRKgZ",
    "outputId": "deedb6e6-d4f5-4214-83d3-2382effaeebf"
   },
   "outputs": [
    {
     "name": "stderr",
     "output_type": "stream",
     "text": [
      "100%|██████████| 36052/36052 [00:01<00:00, 21378.05it/s]\n"
     ]
    }
   ],
   "source": [
    "TFIDFW2V_vectors_title_test = [];\n",
    "for sentence in tqdm(X_test['clean_titles']): \n",
    "    vector = np.zeros(300) \n",
    "    tf_idf_weight = 0;\n",
    "    for word in sentence.split():\n",
    "        if (word in glove_words) and (word in TFIDF_words):\n",
    "            vec = model[word] \n",
    "            tf_idf = dictionary[word] * (sentence.count(word) / len(sentence.split())) \n",
    "            vector += (vec * tf_idf) \n",
    "            tf_idf_weight += tf_idf\n",
    "    if tf_idf_weight != 0:\n",
    "        vector /= tf_idf_weight\n",
    "    TFIDFW2V_vectors_title_test.append(vector)"
   ]
  },
  {
   "cell_type": "code",
   "execution_count": 47,
   "metadata": {
    "executionInfo": {
     "elapsed": 300988,
     "status": "ok",
     "timestamp": 1604997011543,
     "user": {
      "displayName": "Kunal Ahirewal",
      "photoUrl": "https://lh3.googleusercontent.com/a-/AOh14GiWVR-0XsDZLXse6U6C4talDb59i_ZsEPknjs0H=s64",
      "userId": "17598577518826545665"
     },
     "user_tz": -330
    },
    "id": "3uojtJ_jRKct"
   },
   "outputs": [],
   "source": [
    "TFIDF_model = TfidfVectorizer()\n",
    "TFIDF_model.fit(X_train['project_resource_summary'])\n",
    "dictionary = dict(zip(TFIDF_model.get_feature_names(), list(TFIDF_model.idf_)))\n",
    "TFIDF_words = set(TFIDF_model.get_feature_names())"
   ]
  },
  {
   "cell_type": "code",
   "execution_count": 48,
   "metadata": {
    "colab": {
     "base_uri": "https://localhost:8080/"
    },
    "executionInfo": {
     "elapsed": 305541,
     "status": "ok",
     "timestamp": 1604997016408,
     "user": {
      "displayName": "Kunal Ahirewal",
      "photoUrl": "https://lh3.googleusercontent.com/a-/AOh14GiWVR-0XsDZLXse6U6C4talDb59i_ZsEPknjs0H=s64",
      "userId": "17598577518826545665"
     },
     "user_tz": -330
    },
    "id": "8198s6dLRKaw",
    "outputId": "48d028a5-b208-441c-ad62-309649a79df8"
   },
   "outputs": [
    {
     "name": "stderr",
     "output_type": "stream",
     "text": [
      "100%|██████████| 49041/49041 [00:05<00:00, 9008.25it/s]\n"
     ]
    }
   ],
   "source": [
    "TFIDFW2V_vectors_project_resource_summary_train = []; \n",
    "for sentence in tqdm(X_train['project_resource_summary']):\n",
    "    vector = np.zeros(300) \n",
    "    tf_idf_weight = 0; \n",
    "    for word in sentence.split(): \n",
    "        if (word in glove_words) and (word in TFIDF_words):\n",
    "            vec = model[word] \n",
    "            tf_idf = dictionary[word] * (sentence.count(word) / len(sentence.split())) \n",
    "            vector += (vec * tf_idf) \n",
    "            tf_idf_weight += tf_idf\n",
    "    if tf_idf_weight != 0:\n",
    "        vector /= tf_idf_weight\n",
    "    TFIDFW2V_vectors_project_resource_summary_train.append(vector)"
   ]
  },
  {
   "cell_type": "code",
   "execution_count": 49,
   "metadata": {
    "colab": {
     "base_uri": "https://localhost:8080/"
    },
    "executionInfo": {
     "elapsed": 309003,
     "status": "ok",
     "timestamp": 1604997020127,
     "user": {
      "displayName": "Kunal Ahirewal",
      "photoUrl": "https://lh3.googleusercontent.com/a-/AOh14GiWVR-0XsDZLXse6U6C4talDb59i_ZsEPknjs0H=s64",
      "userId": "17598577518826545665"
     },
     "user_tz": -330
    },
    "id": "4rWDR-8DRKXg",
    "outputId": "03d989ef-904c-4c08-d487-5d15b364acff"
   },
   "outputs": [
    {
     "name": "stderr",
     "output_type": "stream",
     "text": [
      "100%|██████████| 24155/24155 [00:02<00:00, 9168.97it/s]\n"
     ]
    }
   ],
   "source": [
    "TFIDFW2V_vectors_project_resource_summary_cv = []; \n",
    "for sentence in tqdm(X_cv['project_resource_summary']): \n",
    "    vector = np.zeros(300) \n",
    "    tf_idf_weight = 0; \n",
    "    for word in sentence.split(): \n",
    "        if (word in glove_words) and (word in TFIDF_words):\n",
    "            vec = model[word] \n",
    "            tf_idf = dictionary[word] * (sentence.count(word) / len(sentence.split())) \n",
    "            vector += (vec * tf_idf) \n",
    "            tf_idf_weight += tf_idf\n",
    "    if tf_idf_weight != 0:\n",
    "        vector /= tf_idf_weight\n",
    "    TFIDFW2V_vectors_project_resource_summary_cv.append(vector)"
   ]
  },
  {
   "cell_type": "code",
   "execution_count": 50,
   "metadata": {
    "colab": {
     "base_uri": "https://localhost:8080/"
    },
    "executionInfo": {
     "elapsed": 311803,
     "status": "ok",
     "timestamp": 1604997023177,
     "user": {
      "displayName": "Kunal Ahirewal",
      "photoUrl": "https://lh3.googleusercontent.com/a-/AOh14GiWVR-0XsDZLXse6U6C4talDb59i_ZsEPknjs0H=s64",
      "userId": "17598577518826545665"
     },
     "user_tz": -330
    },
    "id": "gfJ5qOCIRKVb",
    "outputId": "39529144-8424-46a0-bb59-d53fc59ecad2"
   },
   "outputs": [
    {
     "name": "stderr",
     "output_type": "stream",
     "text": [
      "100%|██████████| 36052/36052 [00:04<00:00, 8691.24it/s]\n"
     ]
    }
   ],
   "source": [
    "TFIDFW2V_vectors_project_resource_summary_test = []; \n",
    "for sentence in tqdm(X_test['project_resource_summary']): \n",
    "    vector = np.zeros(300) \n",
    "    tf_idf_weight = 0; \n",
    "    for word in sentence.split(): \n",
    "        if (word in glove_words) and (word in TFIDF_words):\n",
    "            vec = model[word] \n",
    "            tf_idf = dictionary[word] * (sentence.count(word) / len(sentence.split())) \n",
    "            vector += (vec * tf_idf) \n",
    "            tf_idf_weight += tf_idf\n",
    "    if tf_idf_weight != 0:\n",
    "        vector /= tf_idf_weight\n",
    "    TFIDFW2V_vectors_project_resource_summary_test.append(vector)"
   ]
  },
  {
   "cell_type": "markdown",
   "metadata": {
    "id": "ggxVmrmsmjT5"
   },
   "source": [
    "### <font color='blue'>Vectorizing Numerical features</font>"
   ]
  },
  {
   "cell_type": "code",
   "execution_count": 51,
   "metadata": {
    "colab": {
     "base_uri": "https://localhost:8080/"
    },
    "executionInfo": {
     "elapsed": 305603,
     "status": "ok",
     "timestamp": 1604997023178,
     "user": {
      "displayName": "Kunal Ahirewal",
      "photoUrl": "https://lh3.googleusercontent.com/a-/AOh14GiWVR-0XsDZLXse6U6C4talDb59i_ZsEPknjs0H=s64",
      "userId": "17598577518826545665"
     },
     "user_tz": -330
    },
    "id": "SFRM9QcFRKSd",
    "outputId": "bb018da5-598b-4a5b-d1ee-9badc9e11234"
   },
   "outputs": [
    {
     "name": "stdout",
     "output_type": "stream",
     "text": [
      "After vectorizations : \n",
      "(49041, 1) (49041,)\n",
      "(24155, 1) (24155,)\n",
      "(36052, 1) (36052,)\n"
     ]
    }
   ],
   "source": [
    "X_train_quantity_norm = X_train['quantity'].values.reshape(-1, 1)\n",
    "X_cv_quantity_norm = X_cv['quantity'].values.reshape(-1, 1)\n",
    "X_test_quantity_norm = X_test['quantity'].values.reshape(-1, 1)\n",
    "\n",
    "print(\"After vectorizations : \")\n",
    "print(X_train_quantity_norm.shape, y_train.shape)\n",
    "print(X_cv_quantity_norm.shape, y_cv.shape)\n",
    "print(X_test_quantity_norm.shape, y_test.shape)"
   ]
  },
  {
   "cell_type": "code",
   "execution_count": 52,
   "metadata": {
    "colab": {
     "base_uri": "https://localhost:8080/"
    },
    "executionInfo": {
     "elapsed": 304999,
     "status": "ok",
     "timestamp": 1604997023180,
     "user": {
      "displayName": "Kunal Ahirewal",
      "photoUrl": "https://lh3.googleusercontent.com/a-/AOh14GiWVR-0XsDZLXse6U6C4talDb59i_ZsEPknjs0H=s64",
      "userId": "17598577518826545665"
     },
     "user_tz": -330
    },
    "id": "flVl12bmRKQj",
    "outputId": "9facbf7d-a54e-4073-eee8-88601d92b8ed"
   },
   "outputs": [
    {
     "name": "stdout",
     "output_type": "stream",
     "text": [
      "After vectorizations : \n",
      "(49041, 1) (49041,)\n",
      "(24155, 1) (24155,)\n",
      "(36052, 1) (36052,)\n"
     ]
    }
   ],
   "source": [
    "X_train_teacher_number_of_previously_posted_projects_norm = X_train['teacher_number_of_previously_posted_projects'].values.reshape(-1, 1)\n",
    "X_cv_teacher_number_of_previously_posted_projects_norm = X_cv['teacher_number_of_previously_posted_projects'].values.reshape(-1, 1)\n",
    "X_test_teacher_number_of_previously_posted_projects_norm = X_test['teacher_number_of_previously_posted_projects'].values.reshape(-1, 1)\n",
    "\n",
    "print(\"After vectorizations : \")\n",
    "print(X_train_teacher_number_of_previously_posted_projects_norm.shape, y_train.shape)\n",
    "print(X_cv_teacher_number_of_previously_posted_projects_norm.shape, y_cv.shape)\n",
    "print(X_test_teacher_number_of_previously_posted_projects_norm.shape, y_test.shape)"
   ]
  },
  {
   "cell_type": "code",
   "execution_count": 53,
   "metadata": {
    "colab": {
     "base_uri": "https://localhost:8080/"
    },
    "executionInfo": {
     "elapsed": 304458,
     "status": "ok",
     "timestamp": 1604997023181,
     "user": {
      "displayName": "Kunal Ahirewal",
      "photoUrl": "https://lh3.googleusercontent.com/a-/AOh14GiWVR-0XsDZLXse6U6C4talDb59i_ZsEPknjs0H=s64",
      "userId": "17598577518826545665"
     },
     "user_tz": -330
    },
    "id": "qap0LpsroMnV",
    "outputId": "dd580df1-d941-497d-9b40-73641836a003"
   },
   "outputs": [
    {
     "name": "stdout",
     "output_type": "stream",
     "text": [
      "After vectorizations : \n",
      "(49041, 1) (49041,)\n",
      "(24155, 1) (24155,)\n",
      "(36052, 1) (36052,)\n"
     ]
    }
   ],
   "source": [
    "X_train_price_norm = X_train['price'].values.reshape(-1, 1)\n",
    "X_cv_price_norm = X_cv['price'].values.reshape(-1, 1)\n",
    "X_test_price_norm = X_test['price'].values.reshape(-1, 1)\n",
    "\n",
    "print(\"After vectorizations : \")\n",
    "print(X_train_price_norm.shape, y_train.shape)\n",
    "print(X_cv_price_norm.shape, y_cv.shape)\n",
    "print(X_test_price_norm.shape, y_test.shape)"
   ]
  },
  {
   "cell_type": "markdown",
   "metadata": {
    "id": "Ieax9lISonBO"
   },
   "source": [
    "### <font color='blue'> Vectorizing Categorical data</font>"
   ]
  },
  {
   "cell_type": "code",
   "execution_count": 54,
   "metadata": {
    "executionInfo": {
     "elapsed": 302922,
     "status": "ok",
     "timestamp": 1604997023182,
     "user": {
      "displayName": "Kunal Ahirewal",
      "photoUrl": "https://lh3.googleusercontent.com/a-/AOh14GiWVR-0XsDZLXse6U6C4talDb59i_ZsEPknjs0H=s64",
      "userId": "17598577518826545665"
     },
     "user_tz": -330
    },
    "id": "Xj_ikc_roNCj"
   },
   "outputs": [],
   "source": [
    "def calculate_proba_score_of_each_variable(data, classLabel):\n",
    "\n",
    "    positive_score_dict = {}\n",
    "    negative_score_dict = {}\n",
    "    distinct_feature = []\n",
    "    \n",
    "    for i in range(len(data)):\n",
    "        \n",
    "        if(data[i] not in distinct_feature):\n",
    "            distinct_feature.append(data[i])\n",
    "        if(1 == classLabel[i]):\n",
    "            if(data[i] in positive_score_dict):\n",
    "                positive_score_dict[data[i]] = positive_score_dict[data[i]] + 1\n",
    "            else:\n",
    "                positive_score_dict[data[i]] = 1\n",
    "        else:\n",
    "            if(data[i] in negative_score_dict):\n",
    "                negative_score_dict[data[i]] = negative_score_dict[data[i]] + 1 \n",
    "            else:\n",
    "                negative_score_dict[data[i]] = 1\n",
    "                \n",
    "    prob_score = {}\n",
    "\n",
    "    for i in range(len(distinct_feature)):\n",
    "\n",
    "        pos_score = 0\n",
    "        neg_score = 0\n",
    "        if(distinct_feature[i] in positive_score_dict):\n",
    "            pos_score = positive_score_dict[distinct_feature[i]]\n",
    "        if(distinct_feature[i] in negative_score_dict):\n",
    "            neg_score = negative_score_dict[distinct_feature[i]]\n",
    "            \n",
    "        prob_score[distinct_feature[i]] = {\"pos\" : (pos_score / (pos_score+neg_score)), \"neg\" : (neg_score / (pos_score+neg_score))}\n",
    "  \n",
    "    return prob_score\n",
    "\n",
    "\n",
    "def convert_response_encoding(data, proba_score):\n",
    "    \n",
    "    result_pos = []\n",
    "    result_neg = []\n",
    "    for i in range(len(data)):\n",
    "        if((data[i] in proba_score)):\n",
    "            result_pos.append(proba_score[data[i]]['pos'])\n",
    "            result_neg.append(proba_score[data[i]]['neg'])\n",
    "        else:\n",
    "            result_pos.append(0.5)\n",
    "            result_neg.append(0.5)\n",
    "            \n",
    "    return [result_pos, result_neg]"
   ]
  },
  {
   "cell_type": "code",
   "execution_count": 55,
   "metadata": {
    "executionInfo": {
     "elapsed": 304096,
     "status": "ok",
     "timestamp": 1604997025081,
     "user": {
      "displayName": "Kunal Ahirewal",
      "photoUrl": "https://lh3.googleusercontent.com/a-/AOh14GiWVR-0XsDZLXse6U6C4talDb59i_ZsEPknjs0H=s64",
      "userId": "17598577518826545665"
     },
     "user_tz": -330
    },
    "id": "F_AbiiN6oNFv"
   },
   "outputs": [],
   "source": [
    "from scipy.sparse import coo_matrix\n",
    "\n",
    "proba_score_train = calculate_proba_score_of_each_variable(X_train['school_state'].values, y_train)\n",
    "response_encoding_train_pos, response_encoding_train_neg = convert_response_encoding(X_train['school_state'].values, proba_score_train)\n",
    "response_encoding_train_pos = pd.DataFrame(response_encoding_train_pos)\n",
    "response_encoding_train_neg = pd.DataFrame(response_encoding_train_neg)\n",
    "\n",
    "response_encoding_cv_pos, response_encoding_cv_neg = convert_response_encoding(X_cv['school_state'].values, proba_score_train)\n",
    "response_encoding_cv_pos = pd.DataFrame(response_encoding_cv_pos)\n",
    "response_encoding_cv_neg = pd.DataFrame(response_encoding_cv_neg)\n",
    "\n",
    "response_encoding_test_pos, response_encoding_test_neg = convert_response_encoding(X_test['school_state'].values, proba_score_train)\n",
    "response_encoding_test_pos = pd.DataFrame(response_encoding_test_pos)\n",
    "response_encoding_test_neg = pd.DataFrame(response_encoding_test_neg)\n",
    "\n",
    "X_train_school_state_pos = response_encoding_train_pos.values.reshape(-1,1)\n",
    "X_train_school_state_neg = response_encoding_train_neg.values.reshape(-1,1)\n",
    "X_cv_school_state_pos = response_encoding_cv_pos.values.reshape(-1,1)\n",
    "X_cv_school_state_neg = response_encoding_cv_neg.values.reshape(-1,1)\n",
    "X_test_school_state_pos = response_encoding_test_pos.values.reshape(-1,1)\n",
    "X_test_school_state_neg = response_encoding_test_neg.values.reshape(-1,1)\n",
    "\n",
    "X_train_school_state_pos = coo_matrix(X_train_school_state_pos)\n",
    "X_train_school_state_neg = coo_matrix(X_train_school_state_neg)\n",
    "X_cv_school_state_pos = coo_matrix(X_cv_school_state_pos)\n",
    "X_cv_school_state_neg = coo_matrix(X_cv_school_state_neg)\n",
    "X_test_school_state_pos = coo_matrix(X_test_school_state_pos)\n",
    "X_test_school_state_neg = coo_matrix(X_test_school_state_neg)"
   ]
  },
  {
   "cell_type": "code",
   "execution_count": 56,
   "metadata": {
    "executionInfo": {
     "elapsed": 301731,
     "status": "ok",
     "timestamp": 1604997025086,
     "user": {
      "displayName": "Kunal Ahirewal",
      "photoUrl": "https://lh3.googleusercontent.com/a-/AOh14GiWVR-0XsDZLXse6U6C4talDb59i_ZsEPknjs0H=s64",
      "userId": "17598577518826545665"
     },
     "user_tz": -330
    },
    "id": "gPQo53T8oMvP"
   },
   "outputs": [],
   "source": [
    "proba_score_train = calculate_proba_score_of_each_variable(X_train['clean_categories'].values, y_train)\n",
    "response_encoding_train_pos, response_encoding_train_neg = convert_response_encoding(X_train['clean_categories'].values, proba_score_train)\n",
    "response_encoding_train_pos = pd.DataFrame(response_encoding_train_pos)\n",
    "response_encoding_train_neg = pd.DataFrame(response_encoding_train_neg)\n",
    "\n",
    "response_encoding_cv_pos, response_encoding_cv_neg = convert_response_encoding(X_cv['clean_categories'].values, proba_score_train)\n",
    "response_encoding_cv_pos = pd.DataFrame(response_encoding_cv_pos)\n",
    "response_encoding_cv_neg = pd.DataFrame(response_encoding_cv_neg)\n",
    "\n",
    "response_encoding_test_pos, response_encoding_test_neg = convert_response_encoding(X_test['clean_categories'].values, proba_score_train)\n",
    "response_encoding_test_pos = pd.DataFrame(response_encoding_test_pos)\n",
    "response_encoding_test_neg = pd.DataFrame(response_encoding_test_neg)\n",
    "\n",
    "X_train_clean_categories_pos = response_encoding_train_pos.values.reshape(-1,1)\n",
    "X_train_clean_categories_neg = response_encoding_train_neg.values.reshape(-1,1)\n",
    "X_cv_clean_categories_pos = response_encoding_cv_pos.values.reshape(-1,1)\n",
    "X_cv_clean_categories_neg = response_encoding_cv_neg.values.reshape(-1,1)\n",
    "X_test_clean_categories_pos = response_encoding_test_pos.values.reshape(-1,1)\n",
    "X_test_clean_categories_neg = response_encoding_test_neg.values.reshape(-1,1)\n",
    "\n",
    "X_train_clean_categories_pos = coo_matrix(X_train_clean_categories_pos)\n",
    "X_train_clean_categories_neg = coo_matrix(X_train_clean_categories_neg)\n",
    "X_cv_clean_categories_pos = coo_matrix(X_cv_clean_categories_pos)\n",
    "X_cv_clean_categories_neg = coo_matrix(X_cv_clean_categories_neg)\n",
    "X_test_clean_categories_pos = coo_matrix(X_test_clean_categories_pos)\n",
    "X_test_clean_categories_neg = coo_matrix(X_test_clean_categories_neg)"
   ]
  },
  {
   "cell_type": "code",
   "execution_count": 57,
   "metadata": {
    "executionInfo": {
     "elapsed": 300915,
     "status": "ok",
     "timestamp": 1604997025088,
     "user": {
      "displayName": "Kunal Ahirewal",
      "photoUrl": "https://lh3.googleusercontent.com/a-/AOh14GiWVR-0XsDZLXse6U6C4talDb59i_ZsEPknjs0H=s64",
      "userId": "17598577518826545665"
     },
     "user_tz": -330
    },
    "id": "LYDrYMdQoMtO"
   },
   "outputs": [],
   "source": [
    "proba_score_train = calculate_proba_score_of_each_variable(X_train['clean_subcategories'].values, y_train)\n",
    "response_encoding_train_pos, response_encoding_train_neg = convert_response_encoding(X_train['clean_subcategories'].values, proba_score_train)\n",
    "response_encoding_train_pos = pd.DataFrame(response_encoding_train_pos)\n",
    "response_encoding_train_neg = pd.DataFrame(response_encoding_train_neg)\n",
    "\n",
    "response_encoding_cv_pos, response_encoding_cv_neg = convert_response_encoding(X_cv['clean_subcategories'].values, proba_score_train)\n",
    "response_encoding_cv_pos = pd.DataFrame(response_encoding_cv_pos)\n",
    "response_encoding_cv_neg = pd.DataFrame(response_encoding_cv_neg)\n",
    "\n",
    "response_encoding_test_pos, response_encoding_test_neg = convert_response_encoding(X_test['clean_subcategories'].values, proba_score_train)\n",
    "response_encoding_test_pos = pd.DataFrame(response_encoding_test_pos)\n",
    "response_encoding_test_neg = pd.DataFrame(response_encoding_test_neg)\n",
    "\n",
    "X_train_clean_subcategories_pos = response_encoding_train_pos.values.reshape(-1,1)\n",
    "X_train_clean_subcategories_neg = response_encoding_train_neg.values.reshape(-1,1)\n",
    "X_cv_clean_subcategories_pos = response_encoding_cv_pos.values.reshape(-1,1)\n",
    "X_cv_clean_subcategories_neg = response_encoding_cv_neg.values.reshape(-1,1)\n",
    "X_test_clean_subcategories_pos = response_encoding_test_pos.values.reshape(-1,1)\n",
    "X_test_clean_subcategories_neg = response_encoding_test_neg.values.reshape(-1,1)\n",
    "\n",
    "X_train_clean_subcategories_pos = coo_matrix(X_train_clean_subcategories_pos)\n",
    "X_train_clean_subcategories_neg = coo_matrix(X_train_clean_subcategories_neg)\n",
    "X_cv_clean_subcategories_pos = coo_matrix(X_cv_clean_subcategories_pos)\n",
    "X_cv_clean_subcategories_neg = coo_matrix(X_cv_clean_subcategories_neg)\n",
    "X_test_clean_subcategories_pos = coo_matrix(X_test_clean_subcategories_pos)\n",
    "X_test_clean_subcategories_neg = coo_matrix(X_test_clean_subcategories_neg)"
   ]
  },
  {
   "cell_type": "code",
   "execution_count": 58,
   "metadata": {
    "executionInfo": {
     "elapsed": 300127,
     "status": "ok",
     "timestamp": 1604997025090,
     "user": {
      "displayName": "Kunal Ahirewal",
      "photoUrl": "https://lh3.googleusercontent.com/a-/AOh14GiWVR-0XsDZLXse6U6C4talDb59i_ZsEPknjs0H=s64",
      "userId": "17598577518826545665"
     },
     "user_tz": -330
    },
    "id": "JQBv4oeAoMjK"
   },
   "outputs": [],
   "source": [
    "proba_score_train = calculate_proba_score_of_each_variable(X_train['project_grade_category'].values, y_train)\n",
    "response_encoding_train_pos, response_encoding_train_neg = convert_response_encoding(X_train['project_grade_category'].values, proba_score_train)\n",
    "response_encoding_train_pos = pd.DataFrame(response_encoding_train_pos)\n",
    "response_encoding_train_neg = pd.DataFrame(response_encoding_train_neg)\n",
    "\n",
    "response_encoding_cv_pos, response_encoding_cv_neg = convert_response_encoding(X_cv['project_grade_category'].values, proba_score_train)\n",
    "response_encoding_cv_pos = pd.DataFrame(response_encoding_cv_pos)\n",
    "response_encoding_cv_neg = pd.DataFrame(response_encoding_cv_neg)\n",
    "\n",
    "response_encoding_test_pos, response_encoding_test_neg = convert_response_encoding(X_test['project_grade_category'].values, proba_score_train)\n",
    "response_encoding_test_pos = pd.DataFrame(response_encoding_test_pos)\n",
    "response_encoding_test_neg = pd.DataFrame(response_encoding_test_neg)\n",
    "\n",
    "X_train_project_grade_category_pos = response_encoding_train_pos.values.reshape(-1,1)\n",
    "X_train_project_grade_category_neg = response_encoding_train_neg.values.reshape(-1,1)\n",
    "X_cv_project_grade_category_pos = response_encoding_cv_pos.values.reshape(-1,1)\n",
    "X_cv_project_grade_category_neg = response_encoding_cv_neg.values.reshape(-1,1)\n",
    "X_test_project_grade_category_pos = response_encoding_test_pos.values.reshape(-1,1)\n",
    "X_test_project_grade_category_neg = response_encoding_test_neg.values.reshape(-1,1)\n",
    "\n",
    "X_train_project_grade_category_pos = coo_matrix(X_train_project_grade_category_pos)\n",
    "X_train_project_grade_category_neg = coo_matrix(X_train_project_grade_category_neg)\n",
    "X_cv_project_grade_category_pos = coo_matrix(X_cv_project_grade_category_pos)\n",
    "X_cv_project_grade_category_neg = coo_matrix(X_cv_project_grade_category_neg)\n",
    "X_test_project_grade_category_pos = coo_matrix(X_test_project_grade_category_pos)\n",
    "X_test_project_grade_category_neg = coo_matrix(X_test_project_grade_category_neg)"
   ]
  },
  {
   "cell_type": "code",
   "execution_count": 59,
   "metadata": {
    "executionInfo": {
     "elapsed": 299296,
     "status": "ok",
     "timestamp": 1604997025092,
     "user": {
      "displayName": "Kunal Ahirewal",
      "photoUrl": "https://lh3.googleusercontent.com/a-/AOh14GiWVR-0XsDZLXse6U6C4talDb59i_ZsEPknjs0H=s64",
      "userId": "17598577518826545665"
     },
     "user_tz": -330
    },
    "id": "wn8Tr1-JoMgI"
   },
   "outputs": [],
   "source": [
    "proba_score_train = calculate_proba_score_of_each_variable(X_train['teacher_prefix'].values, y_train)\n",
    "response_encoding_train_pos, response_encoding_train_neg = convert_response_encoding(X_train['teacher_prefix'].values, proba_score_train)\n",
    "response_encoding_train_pos = pd.DataFrame(response_encoding_train_pos)\n",
    "response_encoding_train_neg = pd.DataFrame(response_encoding_train_neg)\n",
    "\n",
    "response_encoding_cv_pos, response_encoding_cv_neg = convert_response_encoding(X_cv['teacher_prefix'].values, proba_score_train)\n",
    "response_encoding_cv_pos = pd.DataFrame(response_encoding_cv_pos)\n",
    "response_encoding_cv_neg = pd.DataFrame(response_encoding_cv_neg)\n",
    "\n",
    "response_encoding_test_pos, response_encoding_test_neg = convert_response_encoding(X_test['teacher_prefix'].values, proba_score_train)\n",
    "response_encoding_test_pos = pd.DataFrame(response_encoding_test_pos)\n",
    "response_encoding_test_neg = pd.DataFrame(response_encoding_test_neg)\n",
    "\n",
    "X_train_teacher_prefix_pos = response_encoding_train_pos.values.reshape(-1,1)\n",
    "X_train_teacher_prefix_neg = response_encoding_train_neg.values.reshape(-1,1)\n",
    "X_cv_teacher_prefix_pos = response_encoding_cv_pos.values.reshape(-1,1)\n",
    "X_cv_teacher_prefix_neg = response_encoding_cv_neg.values.reshape(-1,1)\n",
    "X_test_teacher_prefix_pos = response_encoding_test_pos.values.reshape(-1,1)\n",
    "X_test_teacher_prefix_neg = response_encoding_test_neg.values.reshape(-1,1)\n",
    "\n",
    "X_train_teacher_prefix_pos = coo_matrix(X_train_teacher_prefix_pos)\n",
    "X_train_teacher_prefix_neg = coo_matrix(X_train_teacher_prefix_neg)\n",
    "X_cv_teacher_prefix_pos = coo_matrix(X_cv_teacher_prefix_pos)\n",
    "X_cv_teacher_prefix_neg = coo_matrix(X_cv_teacher_prefix_neg)\n",
    "X_test_teacher_prefix_pos = coo_matrix(X_test_teacher_prefix_pos)\n",
    "X_test_teacher_prefix_neg = coo_matrix(X_test_teacher_prefix_neg)"
   ]
  },
  {
   "cell_type": "markdown",
   "metadata": {
    "id": "MpVuqvqotIWv"
   },
   "source": [
    "### <font color='blue'> Merging all the above features</font>"
   ]
  },
  {
   "cell_type": "code",
   "execution_count": 60,
   "metadata": {
    "colab": {
     "base_uri": "https://localhost:8080/"
    },
    "executionInfo": {
     "elapsed": 295303,
     "status": "ok",
     "timestamp": 1604997025100,
     "user": {
      "displayName": "Kunal Ahirewal",
      "photoUrl": "https://lh3.googleusercontent.com/a-/AOh14GiWVR-0XsDZLXse6U6C4talDb59i_ZsEPknjs0H=s64",
      "userId": "17598577518826545665"
     },
     "user_tz": -330
    },
    "id": "2-iAjnsPuIUR",
    "outputId": "c60bec84-c9af-4996-a346-e3e78f09b85a"
   },
   "outputs": [
    {
     "name": "stdout",
     "output_type": "stream",
     "text": [
      "[nltk_data] Downloading package vader_lexicon to /root/nltk_data...\n"
     ]
    },
    {
     "data": {
      "text/plain": [
       "True"
      ]
     },
     "execution_count": 60,
     "metadata": {
      "tags": []
     },
     "output_type": "execute_result"
    }
   ],
   "source": [
    "import nltk\n",
    "nltk.download('vader_lexicon')"
   ]
  },
  {
   "cell_type": "code",
   "execution_count": 61,
   "metadata": {
    "colab": {
     "base_uri": "https://localhost:8080/"
    },
    "executionInfo": {
     "elapsed": 294261,
     "status": "ok",
     "timestamp": 1604997025104,
     "user": {
      "displayName": "Kunal Ahirewal",
      "photoUrl": "https://lh3.googleusercontent.com/a-/AOh14GiWVR-0XsDZLXse6U6C4talDb59i_ZsEPknjs0H=s64",
      "userId": "17598577518826545665"
     },
     "user_tz": -330
    },
    "id": "sUdYUjuCoMdK",
    "outputId": "d961c9f5-0bb8-4e50-ae98-8109d1df276e"
   },
   "outputs": [
    {
     "name": "stdout",
     "output_type": "stream",
     "text": [
      "neg: 0.01, neu: 0.745, pos: 0.245, compound: 0.9975, "
     ]
    }
   ],
   "source": [
    "import nltk\n",
    "from nltk.sentiment.vader import SentimentIntensityAnalyzer\n",
    "\n",
    "sid = SentimentIntensityAnalyzer()\n",
    "\n",
    "for_sentiment = 'a person is a person no matter how small dr seuss i teach the smallest students with the biggest enthusiasm \\\n",
    "for learning my students learn in many different ways using all of our senses and multiple intelligences i use a wide range\\\n",
    "of techniques to help all my students succeed students in my class come from a variety of different backgrounds which makes\\\n",
    "for wonderful sharing of experiences and cultures including native americans our school is a caring community of successful \\\n",
    "learners which can be seen through collaborative student project based learning in and out of the classroom kindergarteners \\\n",
    "in my class love to work with hands on materials and have many different opportunities to practice a skill before it is\\\n",
    "mastered having the social skills to work cooperatively with friends is a crucial aspect of the kindergarten curriculum\\\n",
    "montana is the perfect place to learn about agriculture and nutrition my students love to role play in our pretend kitchen\\\n",
    "in the early childhood classroom i have had several kids ask me can we try cooking with real food i will take their idea \\\n",
    "and create common core cooking lessons where we learn important math and writing concepts while cooking delicious healthy \\\n",
    "food for snack time my students will have a grounded appreciation for the work that went into making the food and knowledge \\\n",
    "of where the ingredients came from as well as how it is healthy for their bodies this project would expand our learning of \\\n",
    "nutrition and agricultural cooking recipes by having us peel our own apples to make homemade applesauce make our own bread \\\n",
    "and mix up healthy plants from our classroom garden in the spring we will also create our own cookbooks to be printed and \\\n",
    "shared with families students will gain math and literature skills as well as a life long enjoyment for healthy cooking \\\n",
    "nannan'\n",
    "ss = sid.polarity_scores(for_sentiment)\n",
    "\n",
    "for k in ss:\n",
    "    print('{0}: {1}, '.format(k, ss[k]), end='')"
   ]
  },
  {
   "cell_type": "markdown",
   "metadata": {
    "id": "8u5NhbnEsc2-"
   },
   "source": [
    "#### Response Coding: Example"
   ]
  },
  {
   "cell_type": "markdown",
   "metadata": {
    "id": "HIFWmwHKsc3A"
   },
   "source": [
    "<img src='http://i.imgur.com/TufZptV.jpg' width=700px>\n",
    "\n",
    "> The response tabel is built only on train dataset.\n",
    "> For a category which is not there in train data and present in test data, we will encode them with default values\n",
    "Ex: in our test data if have State: D then we encode it as [0.5, 0.05]"
   ]
  },
  {
   "cell_type": "markdown",
   "metadata": {
    "id": "3KwfGufDsc3D"
   },
   "source": [
    "<ol>\n",
    "    <li><strong>Apply GBDT on these feature sets</strong>\n",
    "        <ul>\n",
    "            <li><font color='red'>Set 1</font>: categorical(instead of one hot encoding, try <a href='https://www.appliedaicourse.com/course/applied-ai-course-online/lessons/handling-categorical-and-numerical-features/'>response coding</a>: use probability values), numerical features + project_title(TFIDF)+  preprocessed_eassay (TFIDF)+sentiment Score of eassay(check the bellow example, include all 4 values as 4 features)</li>\n",
    "            <li><font color='red'>Set 2</font>: categorical(instead of one hot encoding, try <a href='https://www.appliedaicourse.com/course/applied-ai-course-online/lessons/handling-categorical-and-numerical-features/'>response coding</a>: use probability values), numerical features + project_title(TFIDF W2V)+  preprocessed_eassay (TFIDF W2V)</li>        </ul>\n",
    "    </li>\n",
    "    <li><strong>The hyper paramter tuning (Consider any two hyper parameters)</strong>\n",
    "        <ul>\n",
    "    <li>Find the best hyper parameter which will give the maximum <a href='https://www.appliedaicourse.com/course/applied-ai-course-online/lessons/receiver-operating-characteristic-curve-roc-curve-and-auc-1/'>AUC</a> value</li>\n",
    "    <li>find the best hyper paramter using k-fold cross validation/simple cross validation data</li>\n",
    "    <li>use gridsearch cv or randomsearch cv or you can write your own for loops to do this task</li>\n",
    "        </ul>\n",
    "    </li>\n",
    "    <li>\n",
    "    <strong>Representation of results</strong>\n",
    "        <ul>\n",
    "    <li>You need to plot the performance of model both on train data and cross validation data for each hyper parameter, like shown in the figure\n",
    "    <img src='https://i.imgur.com/Gp2DQmh.jpg' width=500px> with X-axis as <strong>n_estimators</strong>, Y-axis as <strong>max_depth</strong>, and Z-axis as <strong>AUC Score</strong> , we have given the notebook which explains how to plot this 3d plot, you can find it in the same drive <i>3d_scatter_plot.ipynb</i></li>\n",
    "            <p style=\"text-align:center;font-size:30px;color:red;\"><strong>or</strong></p> <br>\n",
    "    <li>You need to plot the performance of model both on train data and cross validation data for each hyper parameter, like shown in the figure\n",
    "    <img src='https://i.imgur.com/fgN9aUP.jpg' width=300px> <a href='https://seaborn.pydata.org/generated/seaborn.heatmap.html'>seaborn heat maps</a> with rows as <strong>n_estimators</strong>, columns as <strong>max_depth</strong>, and values inside the cell representing <strong>AUC Score</strong> </li>\n",
    "    <li>You choose either of the plotting techniques out of 3d plot or heat map</li>\n",
    "    <li>Once after you found the best hyper parameter, you need to train your model with it, and find the AUC on test data and plot the ROC curve on both train and test.\n",
    "    <img src='https://i.imgur.com/wMQDTFe.jpg' width=300px></li>\n",
    "    <li>Along with plotting ROC curve, you need to print the <a href='https://www.appliedaicourse.com/course/applied-ai-course-online/lessons/confusion-matrix-tpr-fpr-fnr-tnr-1/'>confusion matrix</a> with predicted and original labels of test data points\n",
    "    <img src='https://i.imgur.com/IdN5Ctv.png' width=300px></li>\n",
    "            </ul>\n",
    "    <br>\n",
    "    <li>You need to summarize the results at the end of the notebook, summarize it in the table format\n",
    "        <img src='http://i.imgur.com/YVpIGGE.jpg' width=400px>\n",
    "    </li>\n",
    "</ol>"
   ]
  },
  {
   "cell_type": "markdown",
   "metadata": {
    "id": "BOyTl7oKsc3W"
   },
   "source": [
    "<h1>1. GBDT (xgboost/lightgbm) </h1>"
   ]
  },
  {
   "cell_type": "markdown",
   "metadata": {
    "id": "O5tWox1jsc3_"
   },
   "source": [
    "<br>Apply GBDT on different kind of featurization as mentioned in the instructions\n",
    "<br> For Every model that you work on make sure you do the step 2 and step 3 of instrucations"
   ]
  },
  {
   "cell_type": "markdown",
   "metadata": {
    "id": "velNk3B31i4B"
   },
   "source": [
    "# <b><font color='red'>Task 1: </font></b>"
   ]
  },
  {
   "cell_type": "markdown",
   "metadata": {
    "id": "-XJ4kFCmGUTz"
   },
   "source": [
    "## <b><font color='blue'>>> Applying GBDT (xgboost) on TFIDF, </font><font color='red'> SET 1</font></b>"
   ]
  },
  {
   "cell_type": "code",
   "execution_count": null,
   "metadata": {
    "colab": {
     "base_uri": "https://localhost:8080/"
    },
    "executionInfo": {
     "elapsed": 359328,
     "status": "ok",
     "timestamp": 1604225212108,
     "user": {
      "displayName": "Kunal Ahirewal",
      "photoUrl": "https://lh3.googleusercontent.com/a-/AOh14GiWVR-0XsDZLXse6U6C4talDb59i_ZsEPknjs0H=s64",
      "userId": "17598577518826545665"
     },
     "user_tz": -330
    },
    "id": "IAIrXchU13le",
    "outputId": "cb4b3594-81b1-4e29-827c-fab9451d0051"
   },
   "outputs": [
    {
     "name": "stdout",
     "output_type": "stream",
     "text": [
      "(49041, 17919)\n",
      "(24155, 17919)\n",
      "(36052, 17919)\n"
     ]
    }
   ],
   "source": [
    "X_train_TFIDF = hstack((X_train_school_state_pos, X_train_school_state_neg, X_train_clean_categories_pos, X_train_clean_categories_neg,\n",
    "                        X_train_clean_subcategories_pos, X_train_clean_subcategories_neg, X_train_project_grade_category_pos,\n",
    "                        X_train_project_grade_category_neg, X_train_teacher_prefix_pos, X_train_teacher_prefix_neg,\n",
    "                        X_train_title_TFIDF, X_train_essay_TFIDF, X_train_project_resource_summary_TFIDF,\n",
    "                        X_train_quantity_norm, X_train_teacher_number_of_previously_posted_projects_norm,\n",
    "                        X_train_price_norm)).tocsr()\n",
    "\n",
    "X_CV_TFIDF = hstack((X_cv_school_state_pos, X_cv_school_state_neg, X_cv_clean_categories_pos, X_cv_clean_categories_neg, X_cv_clean_subcategories_pos,\n",
    "                     X_cv_clean_subcategories_neg, X_cv_project_grade_category_pos, X_cv_project_grade_category_neg, X_cv_teacher_prefix_pos,\n",
    "                     X_cv_teacher_prefix_neg, X_cv_title_TFIDF, X_cv_essay_TFIDF, X_cv_project_resource_summary_TFIDF, X_cv_quantity_norm,\n",
    "                     X_cv_teacher_number_of_previously_posted_projects_norm, X_cv_price_norm)).tocsr()\n",
    "\n",
    "X_test_TFIDF = hstack((X_test_school_state_pos, X_test_school_state_neg, X_test_clean_categories_pos, X_test_clean_categories_neg,\n",
    "                       X_test_clean_subcategories_pos, X_test_clean_subcategories_neg, X_test_project_grade_category_pos,\n",
    "                       X_test_project_grade_category_neg, X_test_teacher_prefix_pos, X_test_teacher_prefix_neg, X_test_title_TFIDF,\n",
    "                       X_test_essay_TFIDF, X_test_project_resource_summary_TFIDF, X_test_quantity_norm,\n",
    "                       X_test_teacher_number_of_previously_posted_projects_norm, X_test_price_norm)).tocsr()\n",
    "\n",
    "print(X_train_TFIDF.shape)\n",
    "print(X_CV_TFIDF.shape)\n",
    "print(X_test_TFIDF.shape)"
   ]
  },
  {
   "cell_type": "markdown",
   "metadata": {
    "id": "jfkTOmFDGpkl"
   },
   "source": [
    "## <font color='blue'>>> Hyperparameter Tuning to find best estimator using GridSearchCV :</font>"
   ]
  },
  {
   "cell_type": "code",
   "execution_count": null,
   "metadata": {
    "colab": {
     "base_uri": "https://localhost:8080/"
    },
    "executionInfo": {
     "elapsed": 11530417,
     "status": "ok",
     "timestamp": 1604236383201,
     "user": {
      "displayName": "Kunal Ahirewal",
      "photoUrl": "https://lh3.googleusercontent.com/a-/AOh14GiWVR-0XsDZLXse6U6C4talDb59i_ZsEPknjs0H=s64",
      "userId": "17598577518826545665"
     },
     "user_tz": -330
    },
    "id": "Ay0IIVoQ3qJw",
    "outputId": "a22d84c0-7996-47bd-8016-58764146dfbb"
   },
   "outputs": [
    {
     "data": {
      "text/plain": [
       "GridSearchCV(cv=3, error_score=nan,\n",
       "             estimator=XGBClassifier(base_score=0.5, booster='gbtree',\n",
       "                                     class_weight='balanced',\n",
       "                                     colsample_bylevel=1, colsample_bynode=1,\n",
       "                                     colsample_bytree=1, gamma=0,\n",
       "                                     learning_rate=0.1, max_delta_step=0,\n",
       "                                     max_depth=3, min_child_weight=1,\n",
       "                                     missing=None, n_estimators=100, n_jobs=-1,\n",
       "                                     nthread=None, objective='binary:logistic',\n",
       "                                     random_state=0, reg_alpha=0, reg_lambda=1,\n",
       "                                     scale_pos_weight=1, seed=None, silent=None,\n",
       "                                     subsample=1, verbosity=1),\n",
       "             iid='deprecated', n_jobs=-1,\n",
       "             param_grid={'max_depth': [2, 5, 7, 9, 10],\n",
       "                         'n_estimators': [10, 50, 100, 200, 500]},\n",
       "             pre_dispatch='2*n_jobs', refit=True, return_train_score=True,\n",
       "             scoring='roc_auc', verbose=0)"
      ]
     },
     "execution_count": 62,
     "metadata": {
      "tags": []
     },
     "output_type": "execute_result"
    }
   ],
   "source": [
    "from xgboost import XGBClassifier\n",
    "XGB_Classifier = XGBClassifier(class_weight = 'balanced', n_jobs = -1)\n",
    "params = {'n_estimators': [10, 50, 100, 200, 500], 'max_depth': [2, 5, 7, 9, 10]}\n",
    "GRD_CV = GridSearchCV(XGB_Classifier, params, cv = 3, scoring = 'roc_auc', n_jobs = -1, return_train_score = True)\n",
    "GRD_CV.fit(X_train_TFIDF, y_train)"
   ]
  },
  {
   "cell_type": "code",
   "execution_count": null,
   "metadata": {
    "colab": {
     "base_uri": "https://localhost:8080/"
    },
    "executionInfo": {
     "elapsed": 11530425,
     "status": "ok",
     "timestamp": 1604236383214,
     "user": {
      "displayName": "Kunal Ahirewal",
      "photoUrl": "https://lh3.googleusercontent.com/a-/AOh14GiWVR-0XsDZLXse6U6C4talDb59i_ZsEPknjs0H=s64",
      "userId": "17598577518826545665"
     },
     "user_tz": -330
    },
    "id": "9B6U40G61f2z",
    "outputId": "eba1a6c3-d2c0-4dde-ec0e-1da2d818834a"
   },
   "outputs": [
    {
     "name": "stdout",
     "output_type": "stream",
     "text": [
      "Best Tuned Parameter :\n",
      "XGBClassifier(base_score=0.5, booster='gbtree', class_weight='balanced',\n",
      "              colsample_bylevel=1, colsample_bynode=1, colsample_bytree=1,\n",
      "              gamma=0, learning_rate=0.1, max_delta_step=0, max_depth=2,\n",
      "              min_child_weight=1, missing=None, n_estimators=500, n_jobs=-1,\n",
      "              nthread=None, objective='binary:logistic', random_state=0,\n",
      "              reg_alpha=0, reg_lambda=1, scale_pos_weight=1, seed=None,\n",
      "              silent=None, subsample=1, verbosity=1)\n"
     ]
    }
   ],
   "source": [
    "print('Best Tuned Parameter :')\n",
    "print(GRD_CV.best_estimator_)"
   ]
  },
  {
   "cell_type": "code",
   "execution_count": null,
   "metadata": {
    "colab": {
     "base_uri": "https://localhost:8080/",
     "height": 405
    },
    "executionInfo": {
     "elapsed": 11530425,
     "status": "ok",
     "timestamp": 1604236383217,
     "user": {
      "displayName": "Kunal Ahirewal",
      "photoUrl": "https://lh3.googleusercontent.com/a-/AOh14GiWVR-0XsDZLXse6U6C4talDb59i_ZsEPknjs0H=s64",
      "userId": "17598577518826545665"
     },
     "user_tz": -330
    },
    "id": "t2j8EnT9o4vx",
    "outputId": "219f510e-6322-4139-d8aa-b4ab050d3085"
   },
   "outputs": [
    {
     "data": {
      "image/png": "[encoded data removed]",
      "text/plain": [
       "<Figure size 1440x432 with 4 Axes>"
      ]
     },
     "metadata": {
      "needs_background": "light",
      "tags": []
     },
     "output_type": "display_data"
    }
   ],
   "source": [
    "max_scores = pd.DataFrame(GRD_CV.cv_results_).groupby(['param_n_estimators', 'param_max_depth']).max().unstack()[['mean_test_score', 'mean_train_score']]\n",
    "\n",
    "fig, ax = plt.subplots(1,2, figsize=(20,6))\n",
    "sns.heatmap(max_scores.mean_train_score, annot = True, fmt = '.4g', ax = ax[0])\n",
    "sns.heatmap(max_scores.mean_test_score, annot = True, fmt = '.4g', ax = ax[1])\n",
    "\n",
    "ax[0].set_title('Train Set')\n",
    "ax[1].set_title('CV Set')\n",
    "\n",
    "plt.show()"
   ]
  },
  {
   "cell_type": "markdown",
   "metadata": {
    "id": "Oa-mbw9OGxak"
   },
   "source": [
    "## <font color='blue'>>> Train model using the best hyperparameter</font>"
   ]
  },
  {
   "cell_type": "code",
   "execution_count": 68,
   "metadata": {
    "executionInfo": {
     "elapsed": 1276,
     "status": "ok",
     "timestamp": 1605009957826,
     "user": {
      "displayName": "Kunal Ahirewal",
      "photoUrl": "https://lh3.googleusercontent.com/a-/AOh14GiWVR-0XsDZLXse6U6C4talDb59i_ZsEPknjs0H=s64",
      "userId": "17598577518826545665"
     },
     "user_tz": -330
    },
    "id": "Rg9OklPzo4px"
   },
   "outputs": [],
   "source": [
    "def predict(proba, threshould, fpr, tpr):\n",
    "    \n",
    "    t = threshould[np.argmax(fpr*(1-tpr))]\n",
    "    print(\"the maximum value of tpr*(1-fpr)\", max(tpr*(1-fpr)), \"for threshold\", np.round(t,3))\n",
    "    predictions = []\n",
    "    global predictions1\n",
    "    for i in proba:\n",
    "        if i>=t:\n",
    "            predictions.append(1)\n",
    "        else:\n",
    "            predictions.append(0)\n",
    "    predictions1 = predictions\n",
    "    return predictions"
   ]
  },
  {
   "cell_type": "code",
   "execution_count": 69,
   "metadata": {
    "executionInfo": {
     "elapsed": 685,
     "status": "ok",
     "timestamp": 1605009959075,
     "user": {
      "displayName": "Kunal Ahirewal",
      "photoUrl": "https://lh3.googleusercontent.com/a-/AOh14GiWVR-0XsDZLXse6U6C4talDb59i_ZsEPknjs0H=s64",
      "userId": "17598577518826545665"
     },
     "user_tz": -330
    },
    "id": "i5ZCb_cpr1Qq"
   },
   "outputs": [],
   "source": [
    "def batch_predict(clf, data):\n",
    "\n",
    "    y_data_pred = []\n",
    "    tr_loop = data.shape[0] - data.shape[0]%1000\n",
    "  \n",
    "    for i in range(0, tr_loop, 1000):\n",
    "        y_data_pred.extend(clf.predict_proba(data[i:i+1000])[:,1])\n",
    "    y_data_pred.extend(clf.predict_proba(data[tr_loop:])[:,1])\n",
    "    \n",
    "    return y_data_pred"
   ]
  },
  {
   "cell_type": "code",
   "execution_count": null,
   "metadata": {
    "colab": {
     "base_uri": "https://localhost:8080/",
     "height": 294
    },
    "executionInfo": {
     "elapsed": 11598927,
     "status": "ok",
     "timestamp": 1604236451729,
     "user": {
      "displayName": "Kunal Ahirewal",
      "photoUrl": "https://lh3.googleusercontent.com/a-/AOh14GiWVR-0XsDZLXse6U6C4talDb59i_ZsEPknjs0H=s64",
      "userId": "17598577518826545665"
     },
     "user_tz": -330
    },
    "id": "V4mvWJ9Qo4sk",
    "outputId": "8ad060ae-72d2-4614-cd8a-5cee17ecc2f0"
   },
   "outputs": [
    {
     "data": {
      "image/png": "[encoded data removed]",
      "text/plain": [
       "<Figure size 432x288 with 1 Axes>"
      ]
     },
     "metadata": {
      "needs_background": "light",
      "tags": []
     },
     "output_type": "display_data"
    }
   ],
   "source": [
    "XGB_Classifier = XGBClassifier(max_depth = 2, n_estimators = 500)\n",
    "\n",
    "XGB_Classifier.fit(X_train_TFIDF, y_train)\n",
    "\n",
    "y_train_pred = batch_predict(XGB_Classifier, X_train_TFIDF)    \n",
    "y_test_pred = batch_predict(XGB_Classifier, X_test_TFIDF)\n",
    "\n",
    "train_fpr, train_tpr, tr_thresholds = roc_curve(y_train, y_train_pred)\n",
    "test_fpr, test_tpr, te_thresholds = roc_curve(y_test, y_test_pred)\n",
    "\n",
    "plt.plot(train_fpr, train_tpr, label = \"Train AUC : \" + str(auc(train_fpr, train_tpr)))\n",
    "plt.plot(test_fpr, test_tpr, label = \"Test AUC =\" + str(auc(test_fpr, test_tpr)))\n",
    "plt.legend()\n",
    "plt.xlabel(\"True Positive Rate(TPR)\")\n",
    "plt.ylabel(\"False Positive Rate(FPR)\")\n",
    "plt.title(\"AUC\")\n",
    "plt.grid()\n",
    "plt.show()"
   ]
  },
  {
   "cell_type": "markdown",
   "metadata": {
    "id": "CaIax0bPG30T"
   },
   "source": [
    "## <font color='blue'>>> Confusion Matrix : X_train_TFIDF , X_test_TFIDF"
   ]
  },
  {
   "cell_type": "code",
   "execution_count": null,
   "metadata": {
    "colab": {
     "base_uri": "https://localhost:8080/",
     "height": 370
    },
    "executionInfo": {
     "elapsed": 11598929,
     "status": "ok",
     "timestamp": 1604236451734,
     "user": {
      "displayName": "Kunal Ahirewal",
      "photoUrl": "https://lh3.googleusercontent.com/a-/AOh14GiWVR-0XsDZLXse6U6C4talDb59i_ZsEPknjs0H=s64",
      "userId": "17598577518826545665"
     },
     "user_tz": -330
    },
    "id": "xxOzWFhLo4mw",
    "outputId": "f3bc7a37-e91f-4d93-8563-2270bea11f56"
   },
   "outputs": [
    {
     "name": "stdout",
     "output_type": "stream",
     "text": [
      "the maximum value of tpr*(1-fpr) 0.5057052905581375 for threshold 0.838\n",
      "the maximum value of tpr*(1-fpr) 0.45640033443590666 for threshold 0.848\n"
     ]
    },
    {
     "data": {
      "image/png": "[encoded data removed]",
      "text/plain": [
       "<Figure size 864x360 with 4 Axes>"
      ]
     },
     "metadata": {
      "needs_background": "light",
      "tags": []
     },
     "output_type": "display_data"
    }
   ],
   "source": [
    "conf_mat_train = confusion_matrix(y_train, predict(y_train_pred, tr_thresholds, train_fpr, train_tpr))\n",
    "conf_mat_test = confusion_matrix(y_test, predict(y_test_pred, te_thresholds, test_fpr, test_tpr))\n",
    "\n",
    "key = (np.asarray([['TN','FP'], ['FN', 'TP']]))\n",
    "fig, ax = plt.subplots(1,2, figsize=(12,5)) \n",
    "\n",
    "labels_train = (np.asarray([\"{0} = {1:.2f}\" .format(key, value) for key, value in zip(key.flatten(), conf_mat_train.flatten())])).reshape(2,2)\n",
    "labels_test = (np.asarray([\"{0} = {1:.2f}\" .format(key, value) for key, value in zip(key.flatten(), conf_mat_test.flatten())])).reshape(2,2)\n",
    "\n",
    "sns.heatmap(conf_mat_train, linewidths=.5, xticklabels=['PREDICTED : NO', 'PREDICTED : YES'], yticklabels=['ACTUAL : NO', 'ACTUAL : YES'], annot = labels_train, fmt = '', ax=ax[0])\n",
    "sns.heatmap(conf_mat_test, linewidths=.5, xticklabels=['PREDICTED : NO', 'PREDICTED : YES'], yticklabels=['ACTUAL : NO', 'ACTUAL : YES'], annot = labels_test, fmt = '', ax=ax[1])\n",
    "\n",
    "ax[0].set_title('Train Set')\n",
    "ax[1].set_title('Test Set')\n",
    "\n",
    "plt.show()"
   ]
  },
  {
   "cell_type": "markdown",
   "metadata": {
    "id": "lYZVVFlquDfg"
   },
   "source": [
    "# <b><font color='red'>Task 2 :</font> </b>"
   ]
  },
  {
   "cell_type": "markdown",
   "metadata": {
    "id": "BPC7AExuHUNq"
   },
   "source": [
    "## <b><font color='blue'>>> Applying GBDT (xgboost) on TFIDF W2V, </font><font color='red'> SET 2</font></b>"
   ]
  },
  {
   "cell_type": "code",
   "execution_count": 62,
   "metadata": {
    "colab": {
     "base_uri": "https://localhost:8080/"
    },
    "executionInfo": {
     "elapsed": 8144,
     "status": "ok",
     "timestamp": 1604997033296,
     "user": {
      "displayName": "Kunal Ahirewal",
      "photoUrl": "https://lh3.googleusercontent.com/a-/AOh14GiWVR-0XsDZLXse6U6C4talDb59i_ZsEPknjs0H=s64",
      "userId": "17598577518826545665"
     },
     "user_tz": -330
    },
    "id": "Vzzi8T4Go4j_",
    "outputId": "45e6bb25-6aac-4668-e8ee-32449152afbb"
   },
   "outputs": [
    {
     "name": "stdout",
     "output_type": "stream",
     "text": [
      "(49041, 913)\n",
      "(24155, 913)\n",
      "(36052, 913)\n"
     ]
    }
   ],
   "source": [
    "X_train_TFIDFW2V = hstack((X_train_school_state_pos, X_train_school_state_neg, X_train_clean_categories_pos, X_train_clean_categories_neg,\n",
    "                           X_train_clean_subcategories_pos, X_train_clean_subcategories_neg, X_train_project_grade_category_pos,\n",
    "                           X_train_project_grade_category_neg, X_train_teacher_prefix_pos, X_train_teacher_prefix_neg,\n",
    "                           TFIDFW2V_vectors_text_train, TFIDFW2V_vectors_title_train, TFIDFW2V_vectors_project_resource_summary_train,\n",
    "                           X_train_quantity_norm, X_train_teacher_number_of_previously_posted_projects_norm, X_train_price_norm)).tocsr()\n",
    "\n",
    "X_CV_TFIDFW2V = hstack((X_cv_school_state_pos, X_cv_school_state_neg, X_cv_clean_categories_pos, X_cv_clean_categories_neg,\n",
    "                        X_cv_clean_subcategories_pos, X_cv_clean_subcategories_neg, X_cv_project_grade_category_pos,\n",
    "                        X_cv_project_grade_category_neg, X_cv_teacher_prefix_pos, X_cv_teacher_prefix_neg,\n",
    "                        TFIDFW2V_vectors_text_cv, TFIDFW2V_vectors_title_cv, TFIDFW2V_vectors_project_resource_summary_cv,\n",
    "                        X_cv_quantity_norm, X_cv_teacher_number_of_previously_posted_projects_norm, X_cv_price_norm)).tocsr()\n",
    "\n",
    "X_test_TFIDFW2V = hstack((X_test_school_state_pos, X_test_school_state_neg, X_test_clean_categories_pos, X_test_clean_categories_neg,\n",
    "                          X_test_clean_subcategories_pos, X_test_clean_subcategories_neg, X_test_project_grade_category_pos,\n",
    "                          X_test_project_grade_category_neg, X_test_teacher_prefix_pos, X_test_teacher_prefix_neg,\n",
    "                          TFIDFW2V_vectors_text_test, TFIDFW2V_vectors_title_test, TFIDFW2V_vectors_project_resource_summary_test,\n",
    "                          X_test_quantity_norm, X_test_teacher_number_of_previously_posted_projects_norm, X_test_price_norm)).tocsr()\n",
    "\n",
    "print(X_train_TFIDFW2V.shape)\n",
    "print(X_CV_TFIDFW2V.shape)\n",
    "print(X_test_TFIDFW2V.shape)"
   ]
  },
  {
   "cell_type": "code",
   "execution_count": 63,
   "metadata": {
    "colab": {
     "base_uri": "https://localhost:8080/"
    },
    "executionInfo": {
     "elapsed": 11328082,
     "status": "ok",
     "timestamp": 1605008353247,
     "user": {
      "displayName": "Kunal Ahirewal",
      "photoUrl": "https://lh3.googleusercontent.com/a-/AOh14GiWVR-0XsDZLXse6U6C4talDb59i_ZsEPknjs0H=s64",
      "userId": "17598577518826545665"
     },
     "user_tz": -330
    },
    "id": "6p6QzFfZ358U",
    "outputId": "b0470a0a-2d55-47fc-9469-bd210287a69b"
   },
   "outputs": [
    {
     "data": {
      "text/plain": [
       "GridSearchCV(cv=3, error_score=nan,\n",
       "             estimator=XGBClassifier(base_score=0.5, booster='gbtree',\n",
       "                                     class_weight='balanced',\n",
       "                                     colsample_bylevel=1, colsample_bynode=1,\n",
       "                                     colsample_bytree=1, gamma=0,\n",
       "                                     learning_rate=0.1, max_delta_step=0,\n",
       "                                     max_depth=3, min_child_weight=1,\n",
       "                                     missing=None, n_estimators=100, n_jobs=-1,\n",
       "                                     nthread=None, objective='binary:logistic',\n",
       "                                     random_state=0, reg_alpha=0, reg_lambda=1,\n",
       "                                     scale_pos_weight=1, seed=None, silent=None,\n",
       "                                     subsample=1, verbosity=1),\n",
       "             iid='deprecated', n_jobs=-1,\n",
       "             param_grid={'max_depth': [2, 5, 8],\n",
       "                         'n_estimators': [10, 50, 100, 150]},\n",
       "             pre_dispatch='2*n_jobs', refit=True, return_train_score=True,\n",
       "             scoring='roc_auc', verbose=0)"
      ]
     },
     "execution_count": 63,
     "metadata": {
      "tags": []
     },
     "output_type": "execute_result"
    }
   ],
   "source": [
    "from xgboost import XGBClassifier\n",
    "from sklearn.model_selection import GridSearchCV\n",
    "\n",
    "XGB_Classifier1 = XGBClassifier(class_weight = 'balanced', n_jobs = -1)\n",
    "params = {'n_estimators': [10, 50, 100, 150], 'max_depth': [2, 5, 8]}\n",
    "GRD_CV1 = GridSearchCV(XGB_Classifier1, params, cv = 3, scoring = 'roc_auc', n_jobs = -1, return_train_score = True)\n",
    "GRD_CV1.fit(X_train_TFIDFW2V, y_train)"
   ]
  },
  {
   "cell_type": "code",
   "execution_count": 64,
   "metadata": {
    "colab": {
     "base_uri": "https://localhost:8080/"
    },
    "executionInfo": {
     "elapsed": 11328083,
     "status": "ok",
     "timestamp": 1605008353253,
     "user": {
      "displayName": "Kunal Ahirewal",
      "photoUrl": "https://lh3.googleusercontent.com/a-/AOh14GiWVR-0XsDZLXse6U6C4talDb59i_ZsEPknjs0H=s64",
      "userId": "17598577518826545665"
     },
     "user_tz": -330
    },
    "id": "Cq9pro5v3yFT",
    "outputId": "0d8f5ef0-3eb7-4282-961f-9717bc1e0a1f"
   },
   "outputs": [
    {
     "name": "stdout",
     "output_type": "stream",
     "text": [
      "Best Tuned Parameter : \n",
      "XGBClassifier(base_score=0.5, booster='gbtree', class_weight='balanced',\n",
      "              colsample_bylevel=1, colsample_bynode=1, colsample_bytree=1,\n",
      "              gamma=0, learning_rate=0.1, max_delta_step=0, max_depth=5,\n",
      "              min_child_weight=1, missing=None, n_estimators=150, n_jobs=-1,\n",
      "              nthread=None, objective='binary:logistic', random_state=0,\n",
      "              reg_alpha=0, reg_lambda=1, scale_pos_weight=1, seed=None,\n",
      "              silent=None, subsample=1, verbosity=1)\n"
     ]
    }
   ],
   "source": [
    "print('Best Tuned Parameter : ')\n",
    "print(GRD_CV1.best_estimator_)"
   ]
  },
  {
   "cell_type": "code",
   "execution_count": 65,
   "metadata": {
    "colab": {
     "base_uri": "https://localhost:8080/",
     "height": 405
    },
    "executionInfo": {
     "elapsed": 11328080,
     "status": "ok",
     "timestamp": 1605008353255,
     "user": {
      "displayName": "Kunal Ahirewal",
      "photoUrl": "https://lh3.googleusercontent.com/a-/AOh14GiWVR-0XsDZLXse6U6C4talDb59i_ZsEPknjs0H=s64",
      "userId": "17598577518826545665"
     },
     "user_tz": -330
    },
    "id": "Dyp7z4x54zSm",
    "outputId": "1cf8de6f-64c9-4cca-df58-1491611f9a8c"
   },
   "outputs": [
    {
     "data": {
      "image/png": "[encoded data removed]",
      "text/plain": [
       "<Figure size 1440x432 with 4 Axes>"
      ]
     },
     "metadata": {
      "needs_background": "light",
      "tags": []
     },
     "output_type": "display_data"
    }
   ],
   "source": [
    "max_scores = pd.DataFrame(GRD_CV1.cv_results_).groupby(['param_n_estimators', 'param_max_depth']).max().unstack()[['mean_test_score', 'mean_train_score']]\n",
    "\n",
    "fig, ax = plt.subplots(1, 2, figsize = (20, 6))\n",
    "sns.heatmap(max_scores.mean_train_score, annot = True, fmt = '.4g', ax = ax[0])\n",
    "sns.heatmap(max_scores.mean_test_score, annot = True, fmt = '.4g', ax = ax[1])\n",
    "\n",
    "ax[0].set_title('Train Set')\n",
    "ax[1].set_title('CV Set')\n",
    "\n",
    "plt.show()"
   ]
  },
  {
   "cell_type": "markdown",
   "metadata": {
    "id": "9HIrzXftHdMU"
   },
   "source": [
    "## <font color='blue'>>> Hyperparameter Tuning to find best estimator using GridSearchCV :</font>"
   ]
  },
  {
   "cell_type": "code",
   "execution_count": 70,
   "metadata": {
    "colab": {
     "base_uri": "https://localhost:8080/",
     "height": 294
    },
    "executionInfo": {
     "elapsed": 941250,
     "status": "ok",
     "timestamp": 1605010914373,
     "user": {
      "displayName": "Kunal Ahirewal",
      "photoUrl": "https://lh3.googleusercontent.com/a-/AOh14GiWVR-0XsDZLXse6U6C4talDb59i_ZsEPknjs0H=s64",
      "userId": "17598577518826545665"
     },
     "user_tz": -330
    },
    "id": "FKpfI_0R5Z_4",
    "outputId": "78d877ca-d008-47e5-b2b4-1e7db0da69a1"
   },
   "outputs": [
    {
     "data": {
      "image/png": "[encoded data removed]",
      "text/plain": [
       "<Figure size 432x288 with 1 Axes>"
      ]
     },
     "metadata": {
      "needs_background": "light",
      "tags": []
     },
     "output_type": "display_data"
    }
   ],
   "source": [
    "XGB_Classifier1 = XGBClassifier(max_depth = 5, n_estimators = 150)\n",
    "\n",
    "XGB_Classifier1.fit(X_train_TFIDFW2V, y_train)\n",
    "\n",
    "y_train_pred = batch_predict(XGB_Classifier1, X_train_TFIDFW2V)    \n",
    "y_test_pred = batch_predict(XGB_Classifier1, X_test_TFIDFW2V)\n",
    "\n",
    "train_fpr, train_tpr, tr_thresholds = roc_curve(y_train, y_train_pred)\n",
    "test_fpr, test_tpr, te_thresholds = roc_curve(y_test, y_test_pred)\n",
    "\n",
    "plt.plot(train_fpr, train_tpr, label = \"Train AUC : \" + str(auc(train_fpr, train_tpr)))\n",
    "plt.plot(test_fpr, test_tpr, label = \"Test AUC =\" + str(auc(test_fpr, test_tpr)))\n",
    "plt.legend()\n",
    "plt.xlabel(\"True Positive Rate(TPR)\")\n",
    "plt.ylabel(\"False Positive Rate(FPR)\")\n",
    "plt.title(\"AUC\")\n",
    "plt.grid()\n",
    "plt.show()"
   ]
  },
  {
   "cell_type": "markdown",
   "metadata": {
    "id": "i8Cwarr1HjU1"
   },
   "source": [
    "## <font color='blue'>>> Train model using the best hyperparameter</font>"
   ]
  },
  {
   "cell_type": "code",
   "execution_count": 71,
   "metadata": {
    "colab": {
     "base_uri": "https://localhost:8080/",
     "height": 370
    },
    "executionInfo": {
     "elapsed": 936813,
     "status": "ok",
     "timestamp": 1605010915431,
     "user": {
      "displayName": "Kunal Ahirewal",
      "photoUrl": "https://lh3.googleusercontent.com/a-/AOh14GiWVR-0XsDZLXse6U6C4talDb59i_ZsEPknjs0H=s64",
      "userId": "17598577518826545665"
     },
     "user_tz": -330
    },
    "id": "E2kMZVNr3cmQ",
    "outputId": "35b64a15-9074-441a-f4bc-5aae73bad101"
   },
   "outputs": [
    {
     "name": "stdout",
     "output_type": "stream",
     "text": [
      "the maximum value of tpr*(1-fpr) 0.7017201626272975 for threshold 0.812\n",
      "the maximum value of tpr*(1-fpr) 0.454096182100235 for threshold 0.866\n"
     ]
    },
    {
     "data": {
      "image/png": "[encoded data removed]",
      "text/plain": [
       "<Figure size 864x360 with 4 Axes>"
      ]
     },
     "metadata": {
      "needs_background": "light",
      "tags": []
     },
     "output_type": "display_data"
    }
   ],
   "source": [
    "conf_mat_train = confusion_matrix(y_train, predict(y_train_pred, tr_thresholds, train_fpr, train_tpr))\n",
    "conf_mat_test = confusion_matrix(y_test, predict(y_test_pred, te_thresholds, test_fpr, test_tpr))\n",
    "\n",
    "key = (np.asarray([['TN','FP'], ['FN', 'TP']]))\n",
    "fig, ax = plt.subplots(1,2, figsize=(12,5)) \n",
    "\n",
    "labels_train = (np.asarray([\"{0} = {1:.2f}\" .format(key, value) for key, value in zip(key.flatten(), conf_mat_train.flatten())])).reshape(2,2)\n",
    "labels_test = (np.asarray([\"{0} = {1:.2f}\" .format(key, value) for key, value in zip(key.flatten(), conf_mat_test.flatten())])).reshape(2,2)\n",
    "\n",
    "sns.heatmap(conf_mat_train, linewidths =.5, xticklabels = ['PREDICTED : NO', 'PREDICTED : YES'], yticklabels=['ACTUAL : NO', 'ACTUAL : YES'], annot = labels_train, fmt = '', ax=ax[0])\n",
    "sns.heatmap(conf_mat_test, linewidths =.5, xticklabels = ['PREDICTED : NO', 'PREDICTED : YES'], yticklabels=['ACTUAL : NO', 'ACTUAL : YES'], annot = labels_test, fmt = '', ax=ax[1])\n",
    "\n",
    "ax[0].set_title('Train Set')\n",
    "ax[1].set_title('Test Set')\n",
    "\n",
    "plt.show()"
   ]
  },
  {
   "cell_type": "markdown",
   "metadata": {
    "id": "YhFN-lDWsc4G"
   },
   "source": [
    "<h1><font color='blue'>3. Summary</font></h1>\n",
    "\n",
    "<br> as mentioned in the step 4 of instructions"
   ]
  },
  {
   "cell_type": "code",
   "execution_count": 72,
   "metadata": {
    "colab": {
     "base_uri": "https://localhost:8080/"
    },
    "executionInfo": {
     "elapsed": 1275,
     "status": "ok",
     "timestamp": 1605013825243,
     "user": {
      "displayName": "Kunal Ahirewal",
      "photoUrl": "https://lh3.googleusercontent.com/a-/AOh14GiWVR-0XsDZLXse6U6C4talDb59i_ZsEPknjs0H=s64",
      "userId": "17598577518826545665"
     },
     "user_tz": -330
    },
    "id": "ITspH1FNo4cC",
    "outputId": "a7033ac3-4fad-45c1-a50b-1a82bc142fbd"
   },
   "outputs": [
    {
     "name": "stdout",
     "output_type": "stream",
     "text": [
      "+------------+---------+--------------+-----------+-----------+----------+\n",
      "| Vectorizer |  Model  | N Estimators | Max Depth | Train AUC | Test AUC |\n",
      "+------------+---------+--------------+-----------+-----------+----------+\n",
      "|   TFIDF    | XGBOOST |      10      |     5     |     78    |    73    |\n",
      "| TFIDF W2V  | XGBOOST |      10      |     5     |     92    |    72    |\n",
      "+------------+---------+--------------+-----------+-----------+----------+\n"
     ]
    }
   ],
   "source": [
    "# http://zetcode.com/python/prettytable/\n",
    "\n",
    "x = PrettyTable()\n",
    "x.field_names = [\"Vectorizer\", \"Model\", \"N Estimators\", \"Max Depth\", \"Train AUC\", \"Test AUC\"]\n",
    "x.add_row([\"TFIDF\", \"XGBOOST\", 10, 5, 78, 73])\n",
    "x.add_row([\"TFIDF W2V\", \"XGBOOST\", 10, 5, 92, 72])\n",
    "print(x)"
   ]
  }
 ],
 "metadata": {
  "colab": {
   "collapsed_sections": [],
   "name": "Assignment_13_Apply_GBDT_on_Donors_Choose_dataset.ipynb",
   "provenance": []
  },
  "kernelspec": {
   "display_name": "Python 3",
   "language": "python",
   "name": "python3"
  },
  "language_info": {
   "codemirror_mode": {
    "name": "ipython",
    "version": 3
   },
   "file_extension": ".py",
   "mimetype": "text/x-python",
   "name": "python",
   "nbconvert_exporter": "python",
   "pygments_lexer": "ipython3",
   "version": "3.6.5"
  }
 },
 "nbformat": 4,
 "nbformat_minor": 1
}
