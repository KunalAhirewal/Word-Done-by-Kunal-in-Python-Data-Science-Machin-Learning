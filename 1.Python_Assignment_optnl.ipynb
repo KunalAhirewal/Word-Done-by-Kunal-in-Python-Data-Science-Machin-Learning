{
 "cells": [
  {
   "cell_type": "markdown",
   "metadata": {},
   "source": [
    "# Assignment - 1 (Python Optional)"
   ]
  },
  {
   "cell_type": "code",
   "execution_count": 1,
   "metadata": {},
   "outputs": [
    {
     "name": "stdout",
     "output_type": "stream",
     "text": [
      "Enter Number for Make multiplication table : 12\n",
      "12\n",
      "24\n",
      "36\n",
      "48\n",
      "60\n",
      "72\n",
      "84\n",
      "96\n",
      "108\n",
      "120\n"
     ]
    }
   ],
   "source": [
    "\"\"\"\n",
    "1. Write a function that inputs a number and prints the multiplication table of that number\n",
    "\"\"\"\n",
    "\n",
    "num = int(input(\"Enter Number for Make multiplication table : \"))\n",
    "for i in range(1, 11):\n",
    "    a = i * num\n",
    "    print(a)"
   ]
  },
  {
   "cell_type": "code",
   "execution_count": 2,
   "metadata": {},
   "outputs": [
    {
     "name": "stdout",
     "output_type": "stream",
     "text": [
      "3 and 5\n",
      "5 and 7\n",
      "11 and 13\n",
      "17 and 19\n",
      "29 and 31\n",
      "41 and 43\n",
      "59 and 61\n",
      "71 and 73\n",
      "101 and 103\n",
      "107 and 109\n",
      "137 and 139\n",
      "149 and 151\n",
      "179 and 181\n",
      "191 and 193\n",
      "197 and 199\n",
      "227 and 229\n",
      "239 and 241\n",
      "269 and 271\n",
      "281 and 283\n",
      "311 and 313\n",
      "347 and 349\n",
      "419 and 421\n",
      "431 and 433\n",
      "461 and 463\n",
      "521 and 523\n",
      "569 and 571\n",
      "599 and 601\n",
      "617 and 619\n",
      "641 and 643\n",
      "659 and 661\n",
      "809 and 811\n",
      "821 and 823\n",
      "827 and 829\n",
      "857 and 859\n",
      "881 and 883\n"
     ]
    }
   ],
   "source": [
    "\"\"\"\n",
    "2. Write a program to print twin primes less than 1000. If two consecutive odd numbers are both prime then they are known as\n",
    "   twin primes.\n",
    "   The number is called PRIME number if and only if the number is devisible by 1 or ITSELF.\n",
    "   \n",
    "   Twin Primes : \"https://en.wikipedia.org/wiki/Twin_prime#:~:text=A%20twin%20prime%20is%20a,a%20prime%20gap%20of%20two.\"\n",
    "\"\"\"\n",
    "\n",
    "def check_Prime(num):\n",
    "    for i in range(2, num):\n",
    "        if num % i == 0:\n",
    "            return False\n",
    "    return True\n",
    "\n",
    "def twins_Prime(start, end):\n",
    "    for i in range(start, end):\n",
    "        j = i + 2\n",
    "        if(check_Prime(i) and check_Prime(j)):\n",
    "            print(\"{} and {}\".format(i, j))\n",
    "\n",
    "twins_Prime(2, 1000)"
   ]
  },
  {
   "cell_type": "code",
   "execution_count": 3,
   "metadata": {},
   "outputs": [
    {
     "name": "stdout",
     "output_type": "stream",
     "text": [
      "Enter an integer : 56\n",
      "Factors are : \n",
      "2\n",
      "7\n"
     ]
    }
   ],
   "source": [
    "\"\"\"\n",
    "3. Write a program to find out the prime factors of a number. Example: prime factors of 56 - 2, 2, 2, 7\n",
    "\n",
    "Note:I Use this link for logic ::- \"https://www.sanfoundry.com/python-program-compute-prime-factors-integer/\"\n",
    "\"\"\"\n",
    "\n",
    "num = int(input(\"Enter an integer : \"))\n",
    "print(\"Factors are : \")\n",
    "i = 1\n",
    "while(i <= num):\n",
    "    k = 0\n",
    "    if(num % i == 0):\n",
    "        j = 1\n",
    "        while(j <= i):\n",
    "            if(i % j == 0):\n",
    "                k = k + 1\n",
    "            j = j + 1\n",
    "        if(k == 2):\n",
    "            print(i)\n",
    "    i = i + 1"
   ]
  },
  {
   "cell_type": "code",
   "execution_count": 4,
   "metadata": {},
   "outputs": [
    {
     "name": "stdout",
     "output_type": "stream",
     "text": [
      "Enter an value for n Object : 2\n",
      "Enter an value for r at Time : 4\n"
     ]
    },
    {
     "data": {
      "text/plain": [
       "0.08333333333333333"
      ]
     },
     "execution_count": 4,
     "metadata": {},
     "output_type": "execute_result"
    }
   ],
   "source": [
    "\"\"\"\n",
    "4. Write a program to implement these formulae of permutations and combinations.Number of permutations of n objects taken\n",
    "   r at a time: p(n, r) = n! / (n-r)!. Number of combinations of n objects taken r at a time is:\n",
    "   c(n, r) = n! / (r!*(n-r)!) = p(n,r) / r!\n",
    "\"\"\"\n",
    "def factorial(num):\n",
    "    fact = 1\n",
    "    for ele in range(2, num + 1):\n",
    "        fact = fact * ele\n",
    "    return fact\n",
    "\n",
    "def Number_of_prmtn(n , r):\n",
    "    no_of_prmtn = 0\n",
    "    no_of_prmtn = (factorial(n) / factorial(n - r))\n",
    "    return no_of_prmtn\n",
    "    print(\" Number of permutations of {} objects taken {} at a time is {}: \".format(n, r, Number_of_prmtn(n , r)))\n",
    "\n",
    "def Number_of_cmbntn(n , r):\n",
    "    no_of_cmbntn = 0\n",
    "    no_of_cmbntn = ((factorial(n) / factorial(n - r)) / factorial(r))\n",
    "    return no_of_cmbntn\n",
    "    print(\" Number of combinations of {} objects taken {} at a time is {}\".format(n, r, Number_of_cmbntn(n , r)))\n",
    "\n",
    "n = int(input(\"Enter an value for n Object : \"))\n",
    "r = int(input(\"Enter an value for r at Time : \"))\n",
    "Number_of_prmtn(n , r)\n",
    "Number_of_cmbntn(n , r)"
   ]
  },
  {
   "cell_type": "code",
   "execution_count": 5,
   "metadata": {},
   "outputs": [
    {
     "name": "stdout",
     "output_type": "stream",
     "text": [
      "Please Enter any Decimal Number :  7\n",
      "The binary no. for 7 is 0111\n"
     ]
    }
   ],
   "source": [
    "\"\"\"\n",
    "5. Write a function that converts a decimal number to binary number\n",
    "\n",
    "Note:Use code logic from here \"https://stackoverflow.com/questions/3528146/convert-decimal-to-binary-in-python\"\n",
    "\"\"\"\n",
    "\n",
    "n = int(input('Please Enter any Decimal Number :  '))\n",
    "x = n\n",
    "k = []\n",
    "while (n > 0):\n",
    "    a=int(float(n % 2))\n",
    "    k.append(a)\n",
    "    n = (n - a) / 2\n",
    "k.append(0)\n",
    "string = \"\"\n",
    "for j in k[::-1]:\n",
    "    string = string + str(j)\n",
    "print('The binary no. for %d is %s'%(x, string))\n"
   ]
  },
  {
   "cell_type": "code",
   "execution_count": 6,
   "metadata": {},
   "outputs": [
    {
     "data": {
      "text/plain": [
       "'Given Number is an Armstong Number'"
      ]
     },
     "execution_count": 6,
     "metadata": {},
     "output_type": "execute_result"
    }
   ],
   "source": [
    "\"\"\"\n",
    "6. Write a function cubesum() that accepts an integer and returns the sum of the cubes of individual digits of that number.\n",
    "   Use this function to make functions PrintArmstrong() and isArmstrong() to print Armstrong numbers and to find whether is\n",
    "   an Armstrong number.\n",
    "\"\"\"\n",
    "\n",
    "def cubesum(num):\n",
    "    sum = 0\n",
    "    for i in str(num):\n",
    "        sum += int(i)**3\n",
    "    else:\n",
    "        return sum\n",
    "        \n",
    "def PrintArmstrong():\n",
    "    return \"Given Number is an Armstong Number\"\n",
    "        \n",
    "def isArmstrong(num):\n",
    "    if cubesum(num) == num:\n",
    "        return PrintArmstrong()\n",
    "    else:\n",
    "        return \"Given Number is Not an Armstong Number\"\n",
    "    \n",
    "    \n",
    "isArmstrong(153)"
   ]
  },
  {
   "cell_type": "code",
   "execution_count": 7,
   "metadata": {},
   "outputs": [
    {
     "name": "stdout",
     "output_type": "stream",
     "text": [
      "Product of Number 45 is : 20\n"
     ]
    }
   ],
   "source": [
    "\"\"\"\n",
    "7. Write a function prodDigits() that inputs a number and returns the product of digits of that number.\n",
    "\"\"\"\n",
    "\n",
    "from functools import reduce\n",
    "def prodDigits(num):\n",
    "    input = [int(i) for i in str(num)]\n",
    "    product = reduce(lambda a, b: a*b, input)\n",
    "    print('Product of Number {} is : {}' .format(num, product))\n",
    "        \n",
    "    \n",
    "prodDigits(45)"
   ]
  },
  {
   "cell_type": "code",
   "execution_count": 8,
   "metadata": {},
   "outputs": [
    {
     "name": "stdout",
     "output_type": "stream",
     "text": [
      "For Number 341 MDR and MPersistence are : ( MDR 2 , MPersistence 2 ) \n"
     ]
    }
   ],
   "source": [
    "\"\"\"\n",
    "8. If all digits of a number n are multiplied by each other repeating with the product, the one digit number obtained at \n",
    "   last is called the multiplicative digital root of n. The number of times digits need to be multiplied to reach one digit\n",
    "   is called the multiplicative persistance of n.\n",
    "   Example: 86 -> 48 -> 32 -> 6 (MDR 6, MPersistence 3)\n",
    "            341 -> 12->2 (MDR 2, MPersistence 2)\n",
    "   Using the function prodDigits() of previous exercise write functions MDR() and MPersistence() that input a number and \n",
    "   return its multiplicative digital root and multiplicative persistence respectively\n",
    "\"\"\"\n",
    "\n",
    "num = 341\n",
    "from functools import reduce\n",
    "def prod(num):\n",
    "    input = [int(i) for i in str(num)]\n",
    "    product = reduce(lambda a, b: a*b, input)\n",
    "    return product\n",
    "\n",
    "\n",
    "def MDR(num):\n",
    "    if str(num) == 0:\n",
    "        return 0\n",
    "    count = 0\n",
    "    product = 1\n",
    "    while len(str(num))>1:\n",
    "        num = prod(num)\n",
    "        count +=1\n",
    "    return num\n",
    "\n",
    "\n",
    "def MPersistence(num):\n",
    "    if str(num) == 0:\n",
    "        return 0\n",
    "    count = 0\n",
    "    product = 1\n",
    "    while len(str(num))>1:\n",
    "        num = prod(num)\n",
    "        count +=1\n",
    "    return count\n",
    "\n",
    "def Main_fun():\n",
    "    print(\"For Number {} MDR and MPersistence are : ( MDR {} , MPersistence {} ) \" .format(num, MDR(num), MPersistence(num)))\n",
    "\n",
    "Main_fun()"
   ]
  },
  {
   "cell_type": "code",
   "execution_count": 9,
   "metadata": {},
   "outputs": [
    {
     "name": "stdout",
     "output_type": "stream",
     "text": [
      "Proper Divisors of 36 are : [1, 2, 3, 4, 6, 9, 12, 18] \n"
     ]
    }
   ],
   "source": [
    "\"\"\"\n",
    "9. Write a function sumPdivisors() that finds the sum of proper divisors of a number. Proper divisors of a number are those\n",
    "   numbers by which the number is divisible, except the number itself. For example proper divisors of 36 are : \n",
    "   1, 2, 3, 4, 6, 9, 12, 18\n",
    "\"\"\"\n",
    "\n",
    "def sumPdivisiors(num):\n",
    "    l = []\n",
    "    if num == 1:\n",
    "        return \"Please give proper number : \"\n",
    "    for i in range(1, num):\n",
    "        if num % i == 0:\n",
    "            l.append(i)\n",
    "    else:\n",
    "        print('Proper Divisors of {} are : {} '.format(num, l))\n",
    "    \n",
    "sumPdivisiors(36)"
   ]
  },
  {
   "cell_type": "code",
   "execution_count": 10,
   "metadata": {},
   "outputs": [
    {
     "name": "stdout",
     "output_type": "stream",
     "text": [
      "6\n",
      "24\n",
      "28\n",
      "496\n"
     ]
    }
   ],
   "source": [
    "\"\"\"\n",
    "10. A number is called perfect if the sum of proper divisors of that number is equal to the number. For example 28 is \n",
    "    perfect number, since 1+2+4+7+14=28. Write a program to print all the perfect numbers in a given range\n",
    "\"\"\"\n",
    "def Perfect_No(num):\n",
    "    l = []\n",
    "    sum = 0\n",
    "    if num == 1:\n",
    "        return \"Please give proper number : \"\n",
    "    for i in range(1, num):\n",
    "        if num % i == 0:\n",
    "            l.append(i)\n",
    "    for ele in l:\n",
    "        sum += ele\n",
    "        if sum == num:\n",
    "            print(num)\n",
    "\n",
    "for num in range(1,1000):\n",
    "    Perfect_No(num)"
   ]
  },
  {
   "cell_type": "code",
   "execution_count": 11,
   "metadata": {},
   "outputs": [
    {
     "name": "stdout",
     "output_type": "stream",
     "text": [
      "220 and 284 Are Amicable\n",
      "284 and 220 Are Amicable\n"
     ]
    }
   ],
   "source": [
    "\"\"\"\n",
    "11.Two different numbers are called amicable numbers if the sum of the proper divisors of each is equal to the other number. \n",
    "   For example 220 and 284 are amicable numbers. Sum of proper divisors of 220 = 1+2+4+5+10+11+20+22+44+55+110 = 284\n",
    "   Sum of proper divisors of 284 = 1+2+4+71+142 = 220 Write a function to print pairs of amicable numbers in a range\n",
    "\"\"\"\n",
    "\n",
    "from functools import reduce\n",
    "def Sum_PDivisiors(num):\n",
    "    l = []\n",
    "    if num == 1:\n",
    "        return num\n",
    "    for i in range(1, num):\n",
    "        if num%i == 0:\n",
    "            l.append(i)\n",
    "        result = reduce(lambda x, y : x+y , l)\n",
    "    else:\n",
    "        return result \n",
    "    \n",
    "def amicable_No(num1, num2):\n",
    "    if (Sum_PDivisiors(num1) == num2) and (Sum_PDivisiors(num2) == num1):\n",
    "        if num1 != num2:\n",
    "            print(\"{} and {} Are Amicable\" .format(num1, num2))\n",
    "        \n",
    "for num1 in range(1, 300):\n",
    "    for num2 in range(1, 300):\n",
    "        amicable_No(num1, num2) "
   ]
  },
  {
   "cell_type": "code",
   "execution_count": 12,
   "metadata": {},
   "outputs": [
    {
     "name": "stdout",
     "output_type": "stream",
     "text": [
      "List After Filter Operation : [1, 5, 9, 35, 21, 11] \n"
     ]
    }
   ],
   "source": [
    "\"\"\"\n",
    "12.Write a program which can filter odd numbers in a list by using filter function\n",
    "\"\"\"\n",
    "\n",
    "list = [1, 5, 6, 9, 35, 76, 2, 8, 21, 11, 10]\n",
    "new_list = []\n",
    "\n",
    "result = filter(lambda x : x%2 != 0, list)\n",
    "for i in result:\n",
    "    new_list.append(i)\n",
    "\n",
    "print(\"List After Filter Operation : {} \".format(new_list))"
   ]
  },
  {
   "cell_type": "code",
   "execution_count": 13,
   "metadata": {},
   "outputs": [
    {
     "name": "stdout",
     "output_type": "stream",
     "text": [
      "List After Mapping Operation : [1, 8, 27, 64, 125] \n"
     ]
    }
   ],
   "source": [
    "\"\"\"\n",
    "13.Write a program which can map() to make a list whose elements are cube of elements in a given list\n",
    "\"\"\"\n",
    "\n",
    "list = [1, 2, 3, 4, 5]\n",
    "new_list = []\n",
    "\n",
    "result = map(lambda x : x**3, list)\n",
    "for i in result:\n",
    "    new_list.append(i)\n",
    "\n",
    "print(\"List After Mapping Operation : {} \".format(new_list))"
   ]
  },
  {
   "cell_type": "code",
   "execution_count": 14,
   "metadata": {},
   "outputs": [
    {
     "name": "stdout",
     "output_type": "stream",
     "text": [
      "List After Filter and Mapping Operation : [8, 64, 216, 512] \n"
     ]
    }
   ],
   "source": [
    "\"\"\"\n",
    "14.Write a program which can map() and filter() to make a list whose elements are cube of even number in a given list\n",
    "\"\"\"\n",
    "\n",
    "list = [1, 2, 3, 4, 5, 6, 7, 8]\n",
    "new_list = []\n",
    "\n",
    "result = map(lambda x : x**3,(filter(lambda x : x%2 == 0, list)))\n",
    "for i in result:\n",
    "    new_list.append(i)\n",
    "\n",
    "print(\"List After Filter and Mapping Operation : {} \".format(new_list))"
   ]
  }
 ],
 "metadata": {
  "kernelspec": {
   "display_name": "Python 3",
   "language": "python",
   "name": "python3"
  },
  "language_info": {
   "codemirror_mode": {
    "name": "ipython",
    "version": 3
   },
   "file_extension": ".py",
   "mimetype": "text/x-python",
   "name": "python",
   "nbconvert_exporter": "python",
   "pygments_lexer": "ipython3",
   "version": "3.7.4"
  }
 },
 "nbformat": 4,
 "nbformat_minor": 2
}
