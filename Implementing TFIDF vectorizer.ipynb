{
 "cells": [
  {
   "cell_type": "markdown",
   "metadata": {
    "colab_type": "text",
    "id": "h9464I-uxLiw"
   },
   "source": [
    "# Assignment 5 : Implementing TFIDF vectorizer"
   ]
  },
  {
   "cell_type": "markdown",
   "metadata": {
    "colab_type": "text",
    "id": "TAcTjhO8xLiz"
   },
   "source": [
    "## Task 1 : Build a TFIDF Vectorizer & compare its results with Sklearn"
   ]
  },
  {
   "cell_type": "code",
   "execution_count": 94,
   "metadata": {
    "colab": {},
    "colab_type": "code",
    "id": "bUsYm9wjxLi1"
   },
   "outputs": [],
   "source": [
    "corpus = [\n",
    "     'this is the first document',\n",
    "     'this document is the second document',\n",
    "     'and this is the third one',\n",
    "     'is this the first document',\n",
    "]"
   ]
  },
  {
   "cell_type": "code",
   "execution_count": 95,
   "metadata": {
    "colab": {},
    "colab_type": "code",
    "id": "Np4dfQOkxLi4"
   },
   "outputs": [],
   "source": [
    "from sklearn.feature_extraction.text import TfidfVectorizer\n",
    "vectorizer = TfidfVectorizer()\n",
    "vectorizer.fit(corpus)\n",
    "skl_output = vectorizer.transform(corpus)"
   ]
  },
  {
   "cell_type": "markdown",
   "metadata": {
    "colab_type": "text",
    "id": "qfIwx5LzxLjI"
   },
   "source": [
    "### Custom implementation"
   ]
  },
  {
   "cell_type": "code",
   "execution_count": 96,
   "metadata": {
    "colab": {},
    "colab_type": "code",
    "id": "HjuCcJwXxLjJ"
   },
   "outputs": [],
   "source": [
    "import pickle\n",
    "import operator\n",
    "import warnings\n",
    "import numpy as np\n",
    "from tqdm import tqdm\n",
    "from collections import Counter\n",
    "warnings.filterwarnings(\"ignore\")\n",
    "from scipy.sparse import csr_matrix\n",
    "from sklearn.preprocessing import normalize\n",
    "from sklearn.feature_extraction.text import TfidfVectorizer\n",
    "\n",
    "\n",
    "def fit(corpus):    \n",
    "    unique_words = set()\n",
    "    if isinstance(corpus, (list,)):\n",
    "        for row in corpus:\n",
    "            for word in row.split(\" \"): \n",
    "                if len(word) < 2:\n",
    "                    continue\n",
    "                unique_words.add(word)\n",
    "        unique_words = sorted(list(unique_words))\n",
    "        vocab = {j:i for i,j in enumerate(unique_words)}\n",
    "        return vocab\n",
    "    else:\n",
    "        print(\"you need to pass list of sentance\")\n",
    "\n",
    "vocab = fit(corpus)\n",
    "\n",
    "def Word_Count(vocab):\n",
    "    unique_wordset = set(vocab)\n",
    "    word_count = {}\n",
    "    word_count = dict.fromkeys(unique_wordset, 0)\n",
    "  \n",
    "    for row in corpus:\n",
    "        for word in word_count:\n",
    "            if word in row:\n",
    "                word_count[word] += 1\n",
    "      \n",
    "    return word_count\n",
    "    \n",
    "word_countDict = Word_Count(vocab) \n",
    "word_countDict = dict(sorted(word_countDict.items()))\n",
    "        \n",
    "def IDF():\n",
    "    idfDict = {}\n",
    "    N = len(corpus)\n",
    "    for word, value in word_countDict.items():\n",
    "        idfDict[word] = 1 + np.log((len(corpus) + 1) / (value + 1))\n",
    "    for word, value in idfDict.items():\n",
    "        idfDict[word] = round(value, 8)\n",
    "        \n",
    "    return idfDict\n",
    "\n",
    "def transform(corpus,vocab):\n",
    "    rows = []\n",
    "    columns = []\n",
    "    values = []\n",
    "    idf = IDF()\n",
    "    if isinstance(corpus, (list,)):\n",
    "        for idx, row in enumerate(tqdm(corpus)): \n",
    "            word_freq = dict(Counter(row.split()))\n",
    "            for word, freq in word_freq.items():                \n",
    "                if len(word) < 2:\n",
    "                    continue\n",
    "                col_index = vocab.get(word, -1)\n",
    "                a=idf.get(word)\n",
    "                f = (operator.mul(operator.truediv(freq,len(row.split())),a))\n",
    "\n",
    "                if col_index !=-1:\n",
    "                    rows.append(idx)\n",
    "                    columns.append(col_index)\n",
    "                    values.append(f)\n",
    "                    \n",
    "        return normalize(csr_matrix((values, (rows,columns)), shape=(len(corpus),len(vocab))))\n",
    "    else:\n",
    "        print(\"you need to pass list of strings\")\n"
   ]
  },
  {
   "cell_type": "code",
   "execution_count": 97,
   "metadata": {},
   "outputs": [
    {
     "name": "stdout",
     "output_type": "stream",
     "text": [
      "From Sklearn Implementation : feature names, they are sorted in alphabetic order by default \n",
      "['and', 'document', 'first', 'is', 'one', 'second', 'the', 'third', 'this']\n",
      "\n",
      "From Custom Implementation : feature names, they are sorted in alphabetic order by default \n",
      "['and', 'document', 'first', 'is', 'one', 'second', 'the', 'third', 'this']\n"
     ]
    }
   ],
   "source": [
    "print(\"From Sklearn Implementation : feature names, they are sorted in alphabetic order by default \")\n",
    "print(vectorizer.get_feature_names())\n",
    "print()\n",
    "print(\"From Custom Implementation : feature names, they are sorted in alphabetic order by default \")\n",
    "print(list(vocab.keys()))"
   ]
  },
  {
   "cell_type": "code",
   "execution_count": 98,
   "metadata": {
    "scrolled": true
   },
   "outputs": [
    {
     "name": "stdout",
     "output_type": "stream",
     "text": [
      "From Sklearn Implementation : idf values after applying the fit method\n",
      "[1.91629073 1.22314355 1.51082562 1.         1.91629073 1.91629073\n",
      " 1.         1.91629073 1.        ]\n",
      "\n",
      "From Custom Implementation : idf values after applying the fit method\n",
      "dict_values([1.91629073, 1.22314355, 1.51082562, 1.0, 1.91629073, 1.91629073, 1.0, 1.91629073, 1.0])\n"
     ]
    }
   ],
   "source": [
    "print(\"From Sklearn Implementation : idf values after applying the fit method\")\n",
    "print(vectorizer.idf_)\n",
    "print()\n",
    "print(\"From Custom Implementation : idf values after applying the fit method\")\n",
    "idf = IDF()\n",
    "print(idf.values())"
   ]
  },
  {
   "cell_type": "code",
   "execution_count": 99,
   "metadata": {
    "scrolled": true
   },
   "outputs": [
    {
     "name": "stderr",
     "output_type": "stream",
     "text": [
      "100%|██████████████████████████████████████████████████████████████████████████████████| 4/4 [00:00<00:00, 4005.06it/s]"
     ]
    },
    {
     "name": "stdout",
     "output_type": "stream",
     "text": [
      "From Sklearn Implementation : shape of sklearn tfidf vectorizer output after applying transform method\n",
      "(4, 9)\n",
      "\n",
      "From Custom Implementation : shape of sklearn tfidf vectorizer output after applying transform method\n",
      "(4, 9)\n"
     ]
    },
    {
     "name": "stderr",
     "output_type": "stream",
     "text": [
      "\n"
     ]
    }
   ],
   "source": [
    "print(\"From Sklearn Implementation : shape of sklearn tfidf vectorizer output after applying transform method\")\n",
    "print(skl_output.shape)\n",
    "print()\n",
    "print(\"From Custom Implementation : shape of sklearn tfidf vectorizer output after applying transform method\")\n",
    "X= transform(corpus, vocab)\n",
    "print(X.shape)\n"
   ]
  },
  {
   "cell_type": "code",
   "execution_count": 100,
   "metadata": {
    "scrolled": true
   },
   "outputs": [
    {
     "name": "stdout",
     "output_type": "stream",
     "text": [
      "From Sklearn Implementation : output is a sparse matrix\n",
      "  (0, 8)\t0.38408524091481483\n",
      "  (0, 6)\t0.38408524091481483\n",
      "  (0, 3)\t0.38408524091481483\n",
      "  (0, 2)\t0.5802858236844359\n",
      "  (0, 1)\t0.46979138557992045\n",
      "\n",
      "From Custom Implementation : output is a sparse matrix\n",
      "  (0, 1)\t0.46979138558088085\n",
      "  (0, 2)\t0.5802858228626505\n",
      "  (0, 3)\t0.3840852413282814\n",
      "  (0, 6)\t0.3840852413282814\n",
      "  (0, 8)\t0.3840852413282814\n"
     ]
    }
   ],
   "source": [
    "print(\"From Sklearn Implementation : output is a sparse matrix\")\n",
    "print(skl_output[0])\n",
    "print()\n",
    "print(\"From Custom Implementation : output is a sparse matrix\")\n",
    "print(X[0])"
   ]
  },
  {
   "cell_type": "code",
   "execution_count": 101,
   "metadata": {},
   "outputs": [
    {
     "name": "stdout",
     "output_type": "stream",
     "text": [
      "From Sklearn Implementation : converting the sparse output matrix to dense matrix\n",
      "[[0.         0.46979139 0.58028582 0.38408524 0.         0.\n",
      "  0.38408524 0.         0.38408524]]\n",
      "\n",
      "From Custom Implementation : converting the sparse output matrix to dense matrix\n",
      "[[0.         0.46979139 0.58028582 0.38408524 0.         0.\n",
      "  0.38408524 0.         0.38408524]]\n"
     ]
    }
   ],
   "source": [
    "print(\"From Sklearn Implementation : converting the sparse output matrix to dense matrix\")\n",
    "print(skl_output[0].toarray())\n",
    "print()\n",
    "print(\"From Custom Implementation : converting the sparse output matrix to dense matrix\")\n",
    "print(X[0].toarray())"
   ]
  },
  {
   "cell_type": "markdown",
   "metadata": {
    "colab_type": "text",
    "id": "MMxBmVZExLjK"
   },
   "source": [
    "## Task - 2 : Implement max features functionality"
   ]
  },
  {
   "cell_type": "code",
   "execution_count": 102,
   "metadata": {
    "colab": {},
    "colab_type": "code",
    "id": "NHxPLlwNxLjL",
    "outputId": "9abd8e08-0e24-4975-9a13-4d3636d60323"
   },
   "outputs": [
    {
     "name": "stdout",
     "output_type": "stream",
     "text": [
      "Number of documents in corpus =  746\n"
     ]
    }
   ],
   "source": [
    "# Below is the code to load the cleaned_strings pickle file provided\n",
    "# Here corpus is of list type\n",
    "\n",
    "import pickle\n",
    "with open('cleaned_strings', 'rb') as f:\n",
    "    corpus = pickle.load(f)\n",
    "    \n",
    "# printing the length of the corpus loaded\n",
    "print(\"Number of documents in corpus = \",len(corpus))"
   ]
  },
  {
   "cell_type": "code",
   "execution_count": 103,
   "metadata": {
    "colab": {},
    "colab_type": "code",
    "id": "ZULfoOIdxLjQ"
   },
   "outputs": [
    {
     "name": "stderr",
     "output_type": "stream",
     "text": [
      "100%|█████████████████████████████████████████████████████████████████████████████| 746/746 [00:00<00:00, 14666.50it/s]"
     ]
    },
    {
     "name": "stdout",
     "output_type": "stream",
     "text": [
      "\n",
      "Top idf valued words in the corpus and their idf values :\n",
      " dict_items([('aailiyah', 6.922918004572872), ('abandoned', 6.922918004572872), ('abroad', 6.922918004572872), ('abstruse', 6.922918004572872), ('academy', 6.922918004572872), ('accents', 6.922918004572872), ('accessible', 6.922918004572872), ('acclaimed', 6.922918004572872), ('accolades', 6.922918004572872), ('accurate', 6.922918004572872), ('accurately', 6.922918004572872), ('achille', 6.922918004572872), ('ackerman', 6.922918004572872), ('actions', 6.922918004572872), ('adams', 6.922918004572872), ('add', 6.922918004572872), ('added', 6.922918004572872), ('admins', 6.922918004572872), ('admiration', 6.922918004572872), ('admitted', 6.922918004572872), ('adrift', 6.922918004572872), ('adventure', 6.922918004572872), ('aesthetically', 6.922918004572872), ('affected', 6.922918004572872), ('affleck', 6.922918004572872), ('afternoon', 6.922918004572872), ('aged', 6.922918004572872), ('ages', 6.922918004572872), ('agree', 6.922918004572872), ('agreed', 6.922918004572872), ('aimless', 6.922918004572872), ('aired', 6.922918004572872), ('akasha', 6.922918004572872), ('akin', 6.922918004572872), ('alert', 6.922918004572872), ('alike', 6.922918004572872), ('allison', 6.922918004572872), ('allow', 6.922918004572872), ('allowing', 6.922918004572872), ('alongside', 6.922918004572872), ('amateurish', 6.922918004572872), ('amaze', 6.922918004572872), ('amazed', 6.922918004572872), ('amazingly', 6.922918004572872), ('amusing', 6.922918004572872), ('amust', 6.922918004572872), ('anatomist', 6.922918004572872), ('angel', 6.922918004572872), ('angela', 6.922918004572872), ('angelina', 6.922918004572872)])\n",
      "\n",
      "The updated vocabulary with only top 50 idf valued words :\n",
      " dict_items([('aailiyah', 0), ('abandoned', 1), ('abroad', 2), ('abstruse', 3), ('academy', 4), ('accents', 5), ('accessible', 6), ('acclaimed', 7), ('accolades', 8), ('accurate', 9), ('accurately', 10), ('achille', 11), ('ackerman', 12), ('actions', 13), ('adams', 14), ('add', 15), ('added', 16), ('admins', 17), ('admiration', 18), ('admitted', 19), ('adrift', 20), ('adventure', 21), ('aesthetically', 22), ('affected', 23), ('affleck', 24), ('afternoon', 25), ('aged', 26), ('ages', 27), ('agree', 28), ('agreed', 29), ('aimless', 30), ('aired', 31), ('akasha', 32), ('akin', 33), ('alert', 34), ('alike', 35), ('allison', 36), ('allow', 37), ('allowing', 38), ('alongside', 39), ('amateurish', 40), ('amaze', 41), ('amazed', 42), ('amazingly', 43), ('amusing', 44), ('amust', 45), ('anatomist', 46), ('angel', 47), ('angela', 48), ('angelina', 49)])\n",
      "\n",
      "  (0, 30)\t1.0\n",
      "  (68, 24)\t1.0\n",
      "  (72, 29)\t1.0\n",
      "  (74, 31)\t1.0\n",
      "  (119, 33)\t1.0\n",
      "  (135, 3)\t0.37796447300922725\n",
      "  (135, 10)\t0.37796447300922725\n",
      "  (135, 18)\t0.37796447300922725\n",
      "  (135, 20)\t0.37796447300922725\n",
      "  (135, 36)\t0.37796447300922725\n",
      "  (135, 40)\t0.37796447300922725\n",
      "  (135, 41)\t0.37796447300922725\n",
      "  (176, 49)\t1.0\n",
      "  (181, 13)\t1.0\n",
      "  (192, 21)\t1.0\n",
      "  (193, 23)\t1.0\n",
      "  (216, 2)\t1.0\n",
      "  (222, 47)\t1.0\n",
      "  (225, 19)\t1.0\n",
      "  (227, 17)\t1.0\n",
      "  (241, 44)\t1.0\n",
      "  (270, 1)\t1.0\n",
      "  (290, 25)\t1.0\n",
      "  (333, 26)\t1.0\n",
      "  (334, 15)\t1.0\n",
      "  (341, 43)\t1.0\n",
      "  (344, 42)\t1.0\n",
      "  (348, 8)\t1.0\n",
      "  (377, 37)\t1.0\n",
      "  (409, 5)\t1.0\n",
      "  (430, 39)\t1.0\n",
      "  (457, 45)\t1.0\n",
      "  (461, 4)\t1.0\n",
      "  (465, 38)\t1.0\n",
      "  (475, 35)\t1.0\n",
      "  (493, 6)\t1.0\n",
      "  (500, 48)\t1.0\n",
      "  (548, 0)\t0.7071067811865475\n",
      "  (548, 32)\t0.7071067811865475\n",
      "  (608, 14)\t1.0\n",
      "  (612, 11)\t1.0\n",
      "  (620, 46)\t1.0\n",
      "  (632, 7)\t1.0\n",
      "  (644, 12)\t0.7071067811865475\n",
      "  (644, 27)\t0.7071067811865475\n",
      "  (664, 28)\t1.0\n",
      "  (667, 22)\t1.0\n",
      "  (691, 34)\t1.0\n",
      "  (697, 9)\t1.0\n",
      "  (722, 16)\t1.0 \n",
      "\n",
      " (1, 50)\n",
      "\n",
      "[[0. 0. 0. 0. 0. 0. 0. 0. 0. 0. 0. 0. 0. 0. 0. 0. 0. 0. 0. 0. 0. 0. 0. 0.\n",
      "  0. 0. 0. 0. 0. 0. 1. 0. 0. 0. 0. 0. 0. 0. 0. 0. 0. 0. 0. 0. 0. 0. 0. 0.\n",
      "  0. 0.]]\n"
     ]
    },
    {
     "name": "stderr",
     "output_type": "stream",
     "text": [
      "\n"
     ]
    }
   ],
   "source": [
    "def fit(corpus):    \n",
    "    unique_words = set()\n",
    "    if isinstance(corpus, (list,)):\n",
    "        for row in corpus:\n",
    "            for word in row.split(\" \"):\n",
    "                if len(word) < 2:\n",
    "                    continue\n",
    "                unique_words.add(word)\n",
    "        unique_words = sorted(list(unique_words))\n",
    "        vocab = {j:i for i,j in enumerate(unique_words)}\n",
    "        return vocab\n",
    "    else:\n",
    "        print(\"you need to pass list of sentance\")\n",
    "        \n",
    "def IDF(corpus,vocab):\n",
    "    idf = dict()\n",
    "    value_list = list(vocab.keys())\n",
    "    t = []\n",
    "    x = []\n",
    "    for word in value_list:\n",
    "        a = 0\n",
    "        if isinstance(corpus, (list,)):\n",
    "            for row in corpus: \n",
    "                if word in row.split():\n",
    "                    a+=1\n",
    "        t.append(operator.add(1,np.log(operator.truediv(operator.add(1,len(corpus)),operator.add(1,a)))))\n",
    "    n = sorted(range(len(t)),reverse=True, key = lambda k: t[k])\n",
    "    for i in range(50):\n",
    "        x.append(value_list[n[i]])\n",
    "    for i in range(50):\n",
    "        idf[x[i]] = t[n[i]]\n",
    "    x.sort()\n",
    "    vocab = {j:i for i,j in enumerate(x)}\n",
    "    return vocab,idf\n",
    "\n",
    "def transform(corpus,vocab):\n",
    "    rows = []\n",
    "    columns = []\n",
    "    values = []\n",
    "    vocab,idf = IDF(corpus,vocab)\n",
    "    print('\\nTop idf valued words in the corpus and their idf values :\\n',idf.items())\n",
    "    print('\\nThe updated vocabulary with only top 50 idf valued words :\\n',vocab.items())\n",
    "    if isinstance(corpus, (list,)):\n",
    "        for idx, row in enumerate(tqdm(corpus)):\n",
    "            word_freq = dict(Counter(row.split()))\n",
    "            for word, freq in word_freq.items():  \n",
    "                if word in list(vocab.keys()):\n",
    "                    if len(word) < 2:\n",
    "                        continue\n",
    "                    col_index = vocab.get(word, -1)\n",
    "                    a=idf.get(word)\n",
    "                    f = (operator.mul(operator.truediv(freq,len(row.split())),a))\n",
    "                    if col_index !=-1:\n",
    "                        rows.append(idx)\n",
    "                        columns.append(col_index)\n",
    "                        values.append(f)\n",
    "                else:\n",
    "                    continue\n",
    "        return normalize(csr_matrix((values, (rows,columns)), shape=(len(corpus),len(vocab))))\n",
    "    else:\n",
    "        print(\"you need to pass list of strings\")\n",
    "        \n",
    "vocab = fit(corpus)\n",
    "X= transform(corpus, vocab)\n",
    "print()\n",
    "print(X,'\\n\\n',X[0].shape)\n",
    "print()\n",
    "print(X[0].toarray())"
   ]
  }
 ],
 "metadata": {
  "colab": {
   "collapsed_sections": [],
   "name": "Assignment_3_Instructions.ipynb",
   "provenance": []
  },
  "kernelspec": {
   "display_name": "Python 3",
   "language": "python",
   "name": "python3"
  },
  "language_info": {
   "codemirror_mode": {
    "name": "ipython",
    "version": 3
   },
   "file_extension": ".py",
   "mimetype": "text/x-python",
   "name": "python",
   "nbconvert_exporter": "python",
   "pygments_lexer": "ipython3",
   "version": "3.6.5"
  }
 },
 "nbformat": 4,
 "nbformat_minor": 1
}
