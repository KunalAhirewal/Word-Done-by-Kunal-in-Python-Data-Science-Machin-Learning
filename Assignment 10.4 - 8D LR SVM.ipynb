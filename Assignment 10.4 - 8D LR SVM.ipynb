{
 "cells": [
  {
   "cell_type": "markdown",
   "metadata": {},
   "source": [
    "# <font color='red'>Assignment 10.4</font> : 8D LR SVM"
   ]
  },
  {
   "cell_type": "markdown",
   "metadata": {
    "colab_type": "text",
    "id": "86Tvnj5UblTy"
   },
   "source": [
    "## <font color='red'>Task-D</font> : Collinear features and their effect on linear models"
   ]
  },
  {
   "cell_type": "code",
   "execution_count": 1,
   "metadata": {
    "colab": {},
    "colab_type": "code",
    "id": "qn_eOn2EblT3"
   },
   "outputs": [],
   "source": [
    "import warnings\n",
    "%matplotlib inline\n",
    "import numpy as np\n",
    "import pandas as pd\n",
    "import seaborn as sns\n",
    "import matplotlib.pyplot as plt\n",
    "warnings.filterwarnings(\"ignore\")\n",
    "from sklearn.datasets import load_iris\n",
    "from sklearn.metrics import accuracy_score\n",
    "from sklearn.linear_model import SGDClassifier\n",
    "from sklearn.model_selection import GridSearchCV"
   ]
  },
  {
   "cell_type": "code",
   "execution_count": 2,
   "metadata": {
    "colab": {},
    "colab_type": "code",
    "id": "VMoYWIayblUB"
   },
   "outputs": [],
   "source": [
    "data = pd.read_csv('task_d.csv')"
   ]
  },
  {
   "cell_type": "code",
   "execution_count": 3,
   "metadata": {
    "colab": {},
    "colab_type": "code",
    "id": "RfStXG4tblUI",
    "outputId": "ddf4eec6-7f53-4d28-914f-23133957d6d5"
   },
   "outputs": [
    {
     "data": {
      "text/html": [
       "<div>\n",
       "<style scoped>\n",
       "    .dataframe tbody tr th:only-of-type {\n",
       "        vertical-align: middle;\n",
       "    }\n",
       "\n",
       "    .dataframe tbody tr th {\n",
       "        vertical-align: top;\n",
       "    }\n",
       "\n",
       "    .dataframe thead th {\n",
       "        text-align: right;\n",
       "    }\n",
       "</style>\n",
       "<table border=\"1\" class=\"dataframe\">\n",
       "  <thead>\n",
       "    <tr style=\"text-align: right;\">\n",
       "      <th></th>\n",
       "      <th>x</th>\n",
       "      <th>y</th>\n",
       "      <th>z</th>\n",
       "      <th>x*x</th>\n",
       "      <th>2*y</th>\n",
       "      <th>2*z+3*x*x</th>\n",
       "      <th>w</th>\n",
       "      <th>target</th>\n",
       "    </tr>\n",
       "  </thead>\n",
       "  <tbody>\n",
       "    <tr>\n",
       "      <th>0</th>\n",
       "      <td>-0.581066</td>\n",
       "      <td>0.841837</td>\n",
       "      <td>-1.012978</td>\n",
       "      <td>-0.604025</td>\n",
       "      <td>0.841837</td>\n",
       "      <td>-0.665927</td>\n",
       "      <td>-0.536277</td>\n",
       "      <td>0</td>\n",
       "    </tr>\n",
       "    <tr>\n",
       "      <th>1</th>\n",
       "      <td>-0.894309</td>\n",
       "      <td>-0.207835</td>\n",
       "      <td>-1.012978</td>\n",
       "      <td>-0.883052</td>\n",
       "      <td>-0.207835</td>\n",
       "      <td>-0.917054</td>\n",
       "      <td>-0.522364</td>\n",
       "      <td>0</td>\n",
       "    </tr>\n",
       "    <tr>\n",
       "      <th>2</th>\n",
       "      <td>-1.207552</td>\n",
       "      <td>0.212034</td>\n",
       "      <td>-1.082312</td>\n",
       "      <td>-1.150918</td>\n",
       "      <td>0.212034</td>\n",
       "      <td>-1.166507</td>\n",
       "      <td>0.205738</td>\n",
       "      <td>0</td>\n",
       "    </tr>\n",
       "    <tr>\n",
       "      <th>3</th>\n",
       "      <td>-1.364174</td>\n",
       "      <td>0.002099</td>\n",
       "      <td>-0.943643</td>\n",
       "      <td>-1.280666</td>\n",
       "      <td>0.002099</td>\n",
       "      <td>-1.266540</td>\n",
       "      <td>-0.665720</td>\n",
       "      <td>0</td>\n",
       "    </tr>\n",
       "    <tr>\n",
       "      <th>4</th>\n",
       "      <td>-0.737687</td>\n",
       "      <td>1.051772</td>\n",
       "      <td>-1.012978</td>\n",
       "      <td>-0.744934</td>\n",
       "      <td>1.051772</td>\n",
       "      <td>-0.792746</td>\n",
       "      <td>-0.735054</td>\n",
       "      <td>0</td>\n",
       "    </tr>\n",
       "  </tbody>\n",
       "</table>\n",
       "</div>"
      ],
      "text/plain": [
       "          x         y         z       x*x       2*y  2*z+3*x*x         w  \\\n",
       "0 -0.581066  0.841837 -1.012978 -0.604025  0.841837  -0.665927 -0.536277   \n",
       "1 -0.894309 -0.207835 -1.012978 -0.883052 -0.207835  -0.917054 -0.522364   \n",
       "2 -1.207552  0.212034 -1.082312 -1.150918  0.212034  -1.166507  0.205738   \n",
       "3 -1.364174  0.002099 -0.943643 -1.280666  0.002099  -1.266540 -0.665720   \n",
       "4 -0.737687  1.051772 -1.012978 -0.744934  1.051772  -0.792746 -0.735054   \n",
       "\n",
       "   target  \n",
       "0       0  \n",
       "1       0  \n",
       "2       0  \n",
       "3       0  \n",
       "4       0  "
      ]
     },
     "execution_count": 3,
     "metadata": {},
     "output_type": "execute_result"
    }
   ],
   "source": [
    "data.head()"
   ]
  },
  {
   "cell_type": "code",
   "execution_count": 4,
   "metadata": {
    "colab": {},
    "colab_type": "code",
    "id": "JIIuomCkblUP"
   },
   "outputs": [],
   "source": [
    "X = data.drop(['target'], axis=1).values\n",
    "Y = data['target'].values"
   ]
  },
  {
   "cell_type": "markdown",
   "metadata": {
    "colab_type": "text",
    "id": "Ydm98u3EblUU"
   },
   "source": [
    "### Doing perturbation test to check the presence of collinearity  \n",
    "\n",
    "#### Task: 1 Logistic Regression\n",
    "<pre>\n",
    "\n",
    "\n",
    "1. <b>Finding the Correlation between the features</b>\n",
    "    a. check the correlation between the features\n",
    "    b. plot heat map of correlation matrix using seaborn heatmap\n",
    "2. <b>Finding the best model for the given data</b>\n",
    "    a. Train Logistic regression on data(X,Y) that we have created in the above cell\n",
    "    b. Find the best hyper prameter alpha with hyper parameter tuning using k-fold cross validation (grid search CV or         \n",
    "    random search CV make sure you choose the alpha in log space)\n",
    "    c. Creat a new Logistic regression with the best alpha\n",
    "    (search for how to get the best hyper parameter value), name the best model as 'best_model'\n",
    "    \n",
    "3. <b>Getting the weights with the original data</b>\n",
    "    a. train the 'best_model' with X, Y\n",
    "    b. Check the accuracy of the model 'best_model_accuracy'\n",
    "    c. Get the weights W using best_model.coef_\n",
    "\n",
    "4. <b>Modifying original data</b>\n",
    "    a. Add a noise(order of 10^-2) to each element of X \n",
    "    and get the new data set X' (X' = X + e)\n",
    "    b. Train the same 'best_model' with data (X', Y)\n",
    "    c. Check the accuracy of the model 'best_model_accuracy_edited'\n",
    "    d. Get the weights W' using best_model.coef_\n",
    "    \n",
    "5. <b> Checking deviations in metric and weights </b>\n",
    "    a. find the difference between 'best_model_accuracy_edited' and 'best_model_accuracy'\n",
    "    b. find the absolute change between each value of W and W' ==> |(W-W')|\n",
    "    c. print the top 4 features which have higher % change in weights \n",
    "    compare to the other feature\n",
    "\n",
    "</pre>\n",
    "\n",
    "#### Task: 2 Linear SVM\n",
    "\n",
    "<pre>\n",
    "1. Do the same steps (2, 3, 4, 5) we have done in the above task 1.\n",
    "</pre>\n",
    "\n",
    "<strong><font color='red'>Do write the observations based on the results you get from the deviations of weights in both Logistic Regression and linear SVM</font></strong>"
   ]
  },
  {
   "cell_type": "markdown",
   "metadata": {
    "colab": {},
    "colab_type": "code",
    "id": "Lai8wXU1pmSb"
   },
   "source": [
    "## Doing perturbation test to check the presence of collinearity\n",
    "## <font color='red'>Task 1.</font> :  Logistic Regression"
   ]
  },
  {
   "cell_type": "markdown",
   "metadata": {},
   "source": [
    "### <font color='blue'>1. Finding the Correlation between the features : </font>\n",
    "\n",
    "a. check the correlation between the features.\n",
    "\n",
    "b. plot heat map of correlation matrix using seaborn heatmap"
   ]
  },
  {
   "cell_type": "code",
   "execution_count": 5,
   "metadata": {},
   "outputs": [
    {
     "data": {
      "text/html": [
       "<div>\n",
       "<style scoped>\n",
       "    .dataframe tbody tr th:only-of-type {\n",
       "        vertical-align: middle;\n",
       "    }\n",
       "\n",
       "    .dataframe tbody tr th {\n",
       "        vertical-align: top;\n",
       "    }\n",
       "\n",
       "    .dataframe thead th {\n",
       "        text-align: right;\n",
       "    }\n",
       "</style>\n",
       "<table border=\"1\" class=\"dataframe\">\n",
       "  <thead>\n",
       "    <tr style=\"text-align: right;\">\n",
       "      <th></th>\n",
       "      <th>x</th>\n",
       "      <th>y</th>\n",
       "      <th>z</th>\n",
       "      <th>x*x</th>\n",
       "      <th>2*y</th>\n",
       "      <th>2*z+3*x*x</th>\n",
       "      <th>w</th>\n",
       "      <th>target</th>\n",
       "    </tr>\n",
       "  </thead>\n",
       "  <tbody>\n",
       "    <tr>\n",
       "      <th>x</th>\n",
       "      <td>1.000000</td>\n",
       "      <td>-0.205926</td>\n",
       "      <td>0.812458</td>\n",
       "      <td>0.997947</td>\n",
       "      <td>-0.205926</td>\n",
       "      <td>0.996252</td>\n",
       "      <td>0.583277</td>\n",
       "      <td>0.728290</td>\n",
       "    </tr>\n",
       "    <tr>\n",
       "      <th>y</th>\n",
       "      <td>-0.205926</td>\n",
       "      <td>1.000000</td>\n",
       "      <td>-0.602663</td>\n",
       "      <td>-0.209289</td>\n",
       "      <td>1.000000</td>\n",
       "      <td>-0.261123</td>\n",
       "      <td>-0.401790</td>\n",
       "      <td>-0.690684</td>\n",
       "    </tr>\n",
       "    <tr>\n",
       "      <th>z</th>\n",
       "      <td>0.812458</td>\n",
       "      <td>-0.602663</td>\n",
       "      <td>1.000000</td>\n",
       "      <td>0.807137</td>\n",
       "      <td>-0.602663</td>\n",
       "      <td>0.847163</td>\n",
       "      <td>0.674486</td>\n",
       "      <td>0.969990</td>\n",
       "    </tr>\n",
       "    <tr>\n",
       "      <th>x*x</th>\n",
       "      <td>0.997947</td>\n",
       "      <td>-0.209289</td>\n",
       "      <td>0.807137</td>\n",
       "      <td>1.000000</td>\n",
       "      <td>-0.209289</td>\n",
       "      <td>0.997457</td>\n",
       "      <td>0.583803</td>\n",
       "      <td>0.719570</td>\n",
       "    </tr>\n",
       "    <tr>\n",
       "      <th>2*y</th>\n",
       "      <td>-0.205926</td>\n",
       "      <td>1.000000</td>\n",
       "      <td>-0.602663</td>\n",
       "      <td>-0.209289</td>\n",
       "      <td>1.000000</td>\n",
       "      <td>-0.261123</td>\n",
       "      <td>-0.401790</td>\n",
       "      <td>-0.690684</td>\n",
       "    </tr>\n",
       "    <tr>\n",
       "      <th>2*z+3*x*x</th>\n",
       "      <td>0.996252</td>\n",
       "      <td>-0.261123</td>\n",
       "      <td>0.847163</td>\n",
       "      <td>0.997457</td>\n",
       "      <td>-0.261123</td>\n",
       "      <td>1.000000</td>\n",
       "      <td>0.606860</td>\n",
       "      <td>0.764729</td>\n",
       "    </tr>\n",
       "    <tr>\n",
       "      <th>w</th>\n",
       "      <td>0.583277</td>\n",
       "      <td>-0.401790</td>\n",
       "      <td>0.674486</td>\n",
       "      <td>0.583803</td>\n",
       "      <td>-0.401790</td>\n",
       "      <td>0.606860</td>\n",
       "      <td>1.000000</td>\n",
       "      <td>0.641750</td>\n",
       "    </tr>\n",
       "    <tr>\n",
       "      <th>target</th>\n",
       "      <td>0.728290</td>\n",
       "      <td>-0.690684</td>\n",
       "      <td>0.969990</td>\n",
       "      <td>0.719570</td>\n",
       "      <td>-0.690684</td>\n",
       "      <td>0.764729</td>\n",
       "      <td>0.641750</td>\n",
       "      <td>1.000000</td>\n",
       "    </tr>\n",
       "  </tbody>\n",
       "</table>\n",
       "</div>"
      ],
      "text/plain": [
       "                  x         y         z       x*x       2*y  2*z+3*x*x  \\\n",
       "x          1.000000 -0.205926  0.812458  0.997947 -0.205926   0.996252   \n",
       "y         -0.205926  1.000000 -0.602663 -0.209289  1.000000  -0.261123   \n",
       "z          0.812458 -0.602663  1.000000  0.807137 -0.602663   0.847163   \n",
       "x*x        0.997947 -0.209289  0.807137  1.000000 -0.209289   0.997457   \n",
       "2*y       -0.205926  1.000000 -0.602663 -0.209289  1.000000  -0.261123   \n",
       "2*z+3*x*x  0.996252 -0.261123  0.847163  0.997457 -0.261123   1.000000   \n",
       "w          0.583277 -0.401790  0.674486  0.583803 -0.401790   0.606860   \n",
       "target     0.728290 -0.690684  0.969990  0.719570 -0.690684   0.764729   \n",
       "\n",
       "                  w    target  \n",
       "x          0.583277  0.728290  \n",
       "y         -0.401790 -0.690684  \n",
       "z          0.674486  0.969990  \n",
       "x*x        0.583803  0.719570  \n",
       "2*y       -0.401790 -0.690684  \n",
       "2*z+3*x*x  0.606860  0.764729  \n",
       "w          1.000000  0.641750  \n",
       "target     0.641750  1.000000  "
      ]
     },
     "execution_count": 5,
     "metadata": {},
     "output_type": "execute_result"
    },
    {
     "data": {
      "image/png": "[encoded data removed]",
      "text/plain": [
       "<Figure size 432x288 with 2 Axes>"
      ]
     },
     "metadata": {},
     "output_type": "display_data"
    }
   ],
   "source": [
    "data_corr = data.corr()\n",
    "data_htmp = sns.heatmap(data_corr)\n",
    "data_corr"
   ]
  },
  {
   "cell_type": "markdown",
   "metadata": {},
   "source": [
    "### <font color='blue'> Observation : </font>\n",
    "From Above heatmap we can say that after slightly change in original features are not most affected in correations because in above heatmap show digonal element are correlated as we expect."
   ]
  },
  {
   "cell_type": "markdown",
   "metadata": {},
   "source": [
    "### <font color='blue'>2. Finding the best model for the given data</font>\n",
    "a. Train Logistic regression on data(X,Y) that we have created in the above cell\n",
    "\n",
    "b. Find the best hyper prameter alpha with hyper parameter tuning using k-fold cross validation (grid search CV or random search CV make sure you choose the alpha in log space)\n",
    "\n",
    "c. Creat a new Logistic regression with the best alpha (search for how to get the best hyper parameter value), name the best model as 'best_model'"
   ]
  },
  {
   "cell_type": "code",
   "execution_count": 6,
   "metadata": {},
   "outputs": [
    {
     "data": {
      "text/plain": [
       "{'alpha': 0.0001}"
      ]
     },
     "execution_count": 6,
     "metadata": {},
     "output_type": "execute_result"
    }
   ],
   "source": [
    "SGD_LR = SGDClassifier(loss = 'log', random_state = 10)\n",
    "alphas = {\"alpha\" : [0.00001,0.0001,0.001,0.01,0.1,1,10,100,1000, 10000]}\n",
    "G_S_CV = GridSearchCV(SGD_LR, alphas, cv = 5)\n",
    "G_S_CV.fit(X, Y)\n",
    "G_S_CV.best_params_"
   ]
  },
  {
   "cell_type": "markdown",
   "metadata": {},
   "source": [
    "### <font color='blue'>3. Getting the weights with the original data</font>\n",
    "a. train the 'best_model' with X, Y\n",
    "\n",
    "b. Check the accuracy of the model 'best_model_accuracy'\n",
    "\n",
    "c. Get the weights W using best_model.coef_"
   ]
  },
  {
   "cell_type": "code",
   "execution_count": 7,
   "metadata": {},
   "outputs": [],
   "source": [
    "best_model = SGDClassifier(loss = 'log', alpha = 0.0001)\n",
    "best_model.fit(X, Y)\n",
    "y_predict = best_model.predict(X)\n",
    "best_model_accuracy = accuracy_score(Y, y_predict)\n",
    "best_model_coef = best_model.coef_"
   ]
  },
  {
   "cell_type": "markdown",
   "metadata": {},
   "source": [
    "### <font color='blue'>4. Modifying original data</font>\n",
    "a. Add a noise(order of 10^-2) to each element of X and get the new data set X' (X' = X + e)\n",
    "\n",
    "b. Train the same 'best_model' with data (X', Y)\n",
    "\n",
    "c. Check the accuracy of the model 'best_model_accuracy_edited'\n",
    "\n",
    "d. Get the weights W' using best_model.coef_"
   ]
  },
  {
   "cell_type": "code",
   "execution_count": 8,
   "metadata": {},
   "outputs": [],
   "source": [
    "X_dash = X + 0.01\n",
    "best_model.fit(X_dash, Y)\n",
    "y_predict = best_model.predict(X_dash)\n",
    "best_model_accuracy_edited = accuracy_score(Y, y_predict)\n",
    "best_model_coef_edited = best_model.coef_"
   ]
  },
  {
   "cell_type": "markdown",
   "metadata": {},
   "source": [
    "### <font color='blue'>5.  Checking deviations in metric and weights</font> \n",
    "a. find the difference between 'best_model_accuracy_edited' and 'best_model_accuracy'\n",
    "\n",
    "b. find the absolute change between each value of W and W' ==> |(W-W')|\n",
    "\n",
    "c. print the top 4 features which have higher % change in weights compare to the other feature"
   ]
  },
  {
   "cell_type": "code",
   "execution_count": 9,
   "metadata": {},
   "outputs": [
    {
     "name": "stdout",
     "output_type": "stream",
     "text": [
      "************************* Difference Between \"best_model_accuracy_edited\" and \"best_model_accuracy\" **************************\n",
      "Original Accuracy :  1.0\n",
      "Edited Accuracy :  1.0\n",
      "Difference Between Accuracy :  0.0\n",
      "\n",
      "\n",
      "*********************************** Difference Between each value of W and W' ==> |(W-W')| ***********************************\n",
      "Original Weight W :  \n",
      "\n",
      "[[ 2.65319829 -2.22040923  4.82933037  2.56549431 -2.22040923  2.89202416\n",
      "   2.17624176]] \n",
      "\n",
      "Edited Weight W' :  \n",
      "\n",
      "[[  7.94210023 -13.35595253  18.78575286   7.43415836 -13.35595253\n",
      "    8.9605492    1.37051688]] \n",
      "\n",
      "Difference Between Weights |(W-W')| :  \n",
      "\n",
      "[[ 5.28890194 11.13554329 13.95642248  4.86866405 11.13554329  6.06852504\n",
      "   0.80572488]]\n",
      "\n",
      "\n",
      "********************** Top 4 features which have higher % change in weights compare to the other feature **********************\n",
      "z\n",
      "y\n",
      "2*y\n",
      "2*z+3*x*x\n"
     ]
    }
   ],
   "source": [
    "print('*'*25, 'Difference Between \"best_model_accuracy_edited\" and \"best_model_accuracy\"', '*'*26)\n",
    "print(\"Original Accuracy : \", best_model_accuracy)\n",
    "print(\"Edited Accuracy : \", best_model_accuracy_edited)\n",
    "print(\"Difference Between Accuracy : \", best_model_accuracy-best_model_accuracy_edited)\n",
    "print('\\n')\n",
    "print('*'*35, \"Difference Between each value of W and W' ==> |(W-W')|\", '*'*35)\n",
    "print(\"Original Weight W : \", '\\n')\n",
    "print(best_model_coef, '\\n')\n",
    "print(\"Edited Weight W' : \", '\\n')\n",
    "print(best_model_coef_edited, '\\n')\n",
    "print(\"Difference Between Weights |(W-W')| : \", '\\n' )\n",
    "change_in_weight = np.abs(best_model_coef-best_model_coef_edited)\n",
    "print(change_in_weight)\n",
    "print('\\n')\n",
    "print('*'*22, \"Top 4 features which have higher % change in weights compare to the other feature\", '*'*22)\n",
    "data_columns = list(data.columns)\n",
    "for indx in np.argsort(-change_in_weight).reshape(-1)[:4]:\n",
    "    print(data_columns[indx])"
   ]
  },
  {
   "cell_type": "markdown",
   "metadata": {},
   "source": [
    "### <font color='blue'> Observation : </font>\n",
    "From our observation about the above code output we can say weight affected when we add noise to our dataset and weight changes drastically, and it indicate multicolinearity. But most important thing is our model does not affected due to multicolinearity."
   ]
  },
  {
   "cell_type": "markdown",
   "metadata": {},
   "source": [
    "## <font color='red'>Task 2.</font> :  Linear SVM"
   ]
  },
  {
   "cell_type": "markdown",
   "metadata": {},
   "source": [
    "### <font color='blue'>2. Finding the best model for the given data</font>\n",
    "a. Train Logistic regression on data(X,Y) that we have created in the above cell\n",
    "\n",
    "b. Find the best hyper prameter alpha with hyper parameter tuning using k-fold cross validation (grid search CV or random search CV make sure you choose the alpha in log space)\n",
    "\n",
    "c. Creat a new Logistic regression with the best alpha (search for how to get the best hyper parameter value), name the best model as 'best_model'"
   ]
  },
  {
   "cell_type": "code",
   "execution_count": 10,
   "metadata": {},
   "outputs": [
    {
     "data": {
      "text/plain": [
       "{'alpha': 1e-05}"
      ]
     },
     "execution_count": 10,
     "metadata": {},
     "output_type": "execute_result"
    }
   ],
   "source": [
    "Linear_SVM = SGDClassifier(loss = 'hinge', random_state = 10)\n",
    "alphas = {\"alpha\" : [0.00001,0.0001,0.001,0.01,0.1,1,10,100,1000, 10000]}\n",
    "G_S_CV = GridSearchCV(Linear_SVM, alphas, cv = 5)\n",
    "G_S_CV.fit(X, Y)\n",
    "G_S_CV.best_params_"
   ]
  },
  {
   "cell_type": "markdown",
   "metadata": {},
   "source": [
    "### <font color='blue'>3. Getting the weights with the original data</font>\n",
    "a. train the 'best_model' with X, Y\n",
    "\n",
    "b. Check the accuracy of the model 'best_model_accuracy'\n",
    "\n",
    "c. Get the weights W using best_model.coef_"
   ]
  },
  {
   "cell_type": "code",
   "execution_count": 11,
   "metadata": {},
   "outputs": [],
   "source": [
    "best_model = SGDClassifier(loss = 'log', alpha = 0.0001)\n",
    "best_model.fit(X, Y)\n",
    "y_predict = best_model.predict(X)\n",
    "best_model_accuracy = accuracy_score(Y, y_predict)\n",
    "best_model_coef = best_model.coef_"
   ]
  },
  {
   "cell_type": "markdown",
   "metadata": {},
   "source": [
    "### <font color='blue'>4. Modifying original data</font>\n",
    "a. Add a noise(order of 10^-2) to each element of X and get the new data set X' (X' = X + e)\n",
    "\n",
    "b. Train the same 'best_model' with data (X', Y)\n",
    "\n",
    "c. Check the accuracy of the model 'best_model_accuracy_edited'\n",
    "\n",
    "d. Get the weights W' using best_model.coef_"
   ]
  },
  {
   "cell_type": "code",
   "execution_count": 12,
   "metadata": {},
   "outputs": [],
   "source": [
    "X_dash = X + 0.01\n",
    "best_model.fit(X_dash, Y)\n",
    "y_predict = best_model.predict(X_dash)\n",
    "best_model_accuracy_edited = accuracy_score(Y, y_predict)\n",
    "best_model_coef_edited = best_model.coef_"
   ]
  },
  {
   "cell_type": "markdown",
   "metadata": {},
   "source": [
    "### <font color='blue'>5.  Checking deviations in metric and weights</font> \n",
    "a. find the difference between 'best_model_accuracy_edited' and 'best_model_accuracy'\n",
    "\n",
    "b. find the absolute change between each value of W and W' ==> |(W-W')|\n",
    "\n",
    "c. print the top 4 features which have higher % change in weights compare to the other feature"
   ]
  },
  {
   "cell_type": "code",
   "execution_count": 13,
   "metadata": {},
   "outputs": [
    {
     "name": "stdout",
     "output_type": "stream",
     "text": [
      "************************* Difference Between \"best_model_accuracy_edited\" and \"best_model_accuracy\" **************************\n",
      "Original Accuracy :  1.0\n",
      "Edited Accuracy :  1.0\n",
      "Difference Between Accuracy :  0.0\n",
      "\n",
      "\n",
      "*********************************** Difference Between each value of W and W' ==> |(W-W')| ***********************************\n",
      "Original Weight W :  \n",
      "\n",
      "[[ 9.64292925 -8.82881754 23.46015273  7.66011038 -8.82881754  9.72656539\n",
      "   0.13075164]] \n",
      "\n",
      "Edited Weight W' :  \n",
      "\n",
      "[[ 1.62947151 -1.56986035  5.63660332  1.46021686 -1.56986035  1.99449499\n",
      "   2.32487842]] \n",
      "\n",
      "Difference Between Weights |(W-W')| :  \n",
      "\n",
      "[[ 8.01345774  7.25895719 17.82354942  6.19989352  7.25895719  7.73207039\n",
      "   2.19412678]]\n",
      "\n",
      "\n",
      "********************** Top 4 features which have higher % change in weights compare to the other feature **********************\n",
      "z\n",
      "x\n",
      "2*z+3*x*x\n",
      "y\n"
     ]
    }
   ],
   "source": [
    "print('*'*25, 'Difference Between \"best_model_accuracy_edited\" and \"best_model_accuracy\"', '*'*26)\n",
    "print(\"Original Accuracy : \", best_model_accuracy)\n",
    "print(\"Edited Accuracy : \", best_model_accuracy_edited)\n",
    "print(\"Difference Between Accuracy : \", best_model_accuracy-best_model_accuracy_edited)\n",
    "print('\\n')\n",
    "print('*'*35, \"Difference Between each value of W and W' ==> |(W-W')|\", '*'*35)\n",
    "print(\"Original Weight W : \", '\\n')\n",
    "print(best_model_coef, '\\n')\n",
    "print(\"Edited Weight W' : \", '\\n')\n",
    "print(best_model_coef_edited, '\\n')\n",
    "print(\"Difference Between Weights |(W-W')| : \", '\\n' )\n",
    "change_in_weight = (np.abs(best_model_coef-best_model_coef_edited))\n",
    "print(change_in_weight)\n",
    "print('\\n')\n",
    "print('*'*22, \"Top 4 features which have higher % change in weights compare to the other feature\", '*'*22)\n",
    "data_columns = list(data.columns)\n",
    "for indx in np.argsort(-change_in_weight).reshape(-1)[:4]:\n",
    "    print(data_columns[indx])"
   ]
  },
  {
   "cell_type": "markdown",
   "metadata": {},
   "source": [
    "### <font color='blue'> Observation : </font>\n",
    "We conclude same for Linear SVM as above."
   ]
  }
 ],
 "metadata": {
  "colab": {
   "name": "8D_LR_SVM.ipynb",
   "provenance": []
  },
  "kernelspec": {
   "display_name": "Python 3",
   "language": "python",
   "name": "python3"
  },
  "language_info": {
   "codemirror_mode": {
    "name": "ipython",
    "version": 3
   },
   "file_extension": ".py",
   "mimetype": "text/x-python",
   "name": "python",
   "nbconvert_exporter": "python",
   "pygments_lexer": "ipython3",
   "version": "3.6.5"
  }
 },
 "nbformat": 4,
 "nbformat_minor": 1
}
